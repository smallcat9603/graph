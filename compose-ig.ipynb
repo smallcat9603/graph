{
  "cells": [
    {
      "cell_type": "code",
      "execution_count": 25,
      "metadata": {
        "collapsed": false
      },
      "outputs": [],
      "source": [
        "%matplotlib inline"
      ]
    },
    {
      "cell_type": "code",
      "execution_count": 26,
      "metadata": {},
      "outputs": [],
      "source": [
        "import pandas as pd\n",
        "import igraph as ig\n",
        "import sys, getopt\n",
        "import time\n",
        "import matplotlib.pyplot as plt"
      ]
    },
    {
      "cell_type": "code",
      "execution_count": 27,
      "metadata": {},
      "outputs": [],
      "source": [
        "def printUsage():\n",
        "    print('Usage: python3 ig-compose.py <inputfile1> <inputfile2>')"
      ]
    },
    {
      "cell_type": "code",
      "execution_count": 28,
      "metadata": {},
      "outputs": [
        {
          "name": "stdout",
          "output_type": "stream",
          "text": [
            "time = 0.00016117095947265625\n"
          ]
        },
        {
          "data": {
            "image/png": "[encoded data removed]",
            "text/plain": [
              "<Figure size 640x480 with 3 Axes>"
            ]
          },
          "metadata": {},
          "output_type": "display_data"
        }
      ],
      "source": [
        "# def main(argv):\n",
        "#     try:\n",
        "#         opts, args = getopt.getopt(argv, \"h\") # opts = [(\"-h\", \" \")], args = [inputfile1, inputfile2]\n",
        "#     except getopt.GetoptError:\n",
        "#         printUsage()\n",
        "#         sys.exit(2)\n",
        "#     for opt, arg in opts:\n",
        "#         if opt == '-h':\n",
        "#             printUsage()\n",
        "#             sys.exit()\n",
        "#         else:\n",
        "#             printUsage()\n",
        "#             sys.exit(2)\n",
        "#     if len(args) != 2:\n",
        "#             printUsage()\n",
        "#             sys.exit(2)       \n",
        "#     edgefile1 = args[0]\n",
        "#     edgefile2 = args[1]\n",
        "\n",
        "edgefile1, edgefile2 = \"1.edges\", \"2.edges\"\n",
        "\n",
        "# read edge info from edge file\n",
        "# columns = [\"s\", \"d\"]\n",
        "# data1 = pd.read_csv(edgefile1, comment=\"#\", sep=\"\\s+\", names=columns)\n",
        "# edges1 = []\n",
        "# for row in range(len(data1)):\n",
        "#     edges1.append([data1[\"s\"][row], data1[\"d\"][row]])\n",
        "# data2 = pd.read_csv(edgefile2, comment=\"#\", sep=\"\\s+\", names=columns)\n",
        "# edges2 = []\n",
        "# for row in range(len(data2)):\n",
        "#     edges2.append([data2[\"s\"][row], data2[\"d\"][row]])\n",
        "\n",
        "# create graph based on edge file\n",
        "# DO NOT USE igraph._igraph.GraphBase, USE SUBCLASS igraph.Graph instead\n",
        "# Read_Edgelist() in igraph is 0-based !!! (number vertices from 0)\n",
        "G1 = ig.Graph.Read_Edgelist(edgefile1, directed=False)\n",
        "G2 = ig.Graph.Read_Edgelist(edgefile2, directed=False)\n",
        "\n",
        "start = time.time()\n",
        "G0 = ig.union([G1, G2]) # G0 = G1 U G2\n",
        "end = time.time()\n",
        "\n",
        "print(\"time = \" + str(end - start))\n",
        "\n",
        "# write to file\n",
        "edgefile0 = edgefile1.split('.edges')[0] + \".\" + edgefile2.split('.edges')[0] + \".edges\"\n",
        "df = pd.DataFrame(G0.get_edgelist())\n",
        "df.to_csv(edgefile0, sep=\" \", index=False, header=False)\n",
        "\n",
        "# visulize\n",
        "visual_style = {\n",
        "\"vertex_color\": \"lightblue\",\n",
        "\"vertex_label\": range(G0.vcount()),\n",
        "\"vertex_size\": 0.4,\n",
        "}\n",
        "\n",
        "fig, axs = plt.subplots(1, 3)\n",
        "ig.plot(\n",
        "    G1,\n",
        "    layout=G1.layout(\"circle\"),\n",
        "    target=axs[0],\n",
        "    **visual_style,\n",
        ")\n",
        "ig.plot(\n",
        "    G2,\n",
        "    layout=G1.layout(\"circle\"),\n",
        "    target=axs[1],\n",
        "    **visual_style,\n",
        ")\n",
        "ig.plot(\n",
        "    G0,\n",
        "    layout=G1.layout(\"circle\"),\n",
        "    target=axs[2],\n",
        "    **visual_style,\n",
        ")\n",
        "fig.text(0.38, 0.5, '$\\cup$', fontsize=15, ha='center', va='center')\n",
        "fig.text(0.65, 0.5, '=', fontsize=15, ha='center', va='center')\n",
        "plt.show()"
      ]
    },
    {
      "cell_type": "code",
      "execution_count": 29,
      "metadata": {},
      "outputs": [],
      "source": [
        "# if __name__ == \"__main__\":\n",
        "#    main(sys.argv[1:])  "
      ]
    }
  ],
  "metadata": {
    "kernelspec": {
      "display_name": "base",
      "language": "python",
      "name": "python3"
    },
    "language_info": {
      "codemirror_mode": {
        "name": "ipython",
        "version": 3
      },
      "file_extension": ".py",
      "mimetype": "text/x-python",
      "name": "python",
      "nbconvert_exporter": "python",
      "pygments_lexer": "ipython3",
      "version": "3.8.5"
    },
    "vscode": {
      "interpreter": {
        "hash": "31e6c5c79e5805a0c115eefd20e01db841235392825680cc7179dc8df6146eb6"
      }
    }
  },
  "nbformat": 4,
  "nbformat_minor": 0
}
