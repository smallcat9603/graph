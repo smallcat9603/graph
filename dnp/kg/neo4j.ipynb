{
 "cells": [
  {
   "cell_type": "code",
   "execution_count": 5,
   "metadata": {},
   "outputs": [],
   "source": [
    "from graphdatascience import GraphDataScience\n",
    "import json"
   ]
  },
  {
   "attachments": {},
   "cell_type": "markdown",
   "metadata": {},
   "source": [
    "# neo4j desktop (5.3.0, m1)"
   ]
  },
  {
   "cell_type": "code",
   "execution_count": 6,
   "metadata": {},
   "outputs": [
    {
     "name": "stdout",
     "output_type": "stream",
     "text": [
      "2.5.1\n"
     ]
    }
   ],
   "source": [
    "host = \"bolt://localhost:7687\"\n",
    "user = \"neo4j\"\n",
    "password= \"j4oenj4oen\"\n",
    "\n",
    "gds = GraphDataScience(host, auth=(user, password))\n",
    "print(gds.version())"
   ]
  },
  {
   "cell_type": "markdown",
   "metadata": {},
   "source": [
    "# Create Noun-Article Graph"
   ]
  },
  {
   "cell_type": "code",
   "execution_count": 7,
   "metadata": {},
   "outputs": [],
   "source": [
    "# with open(\"data/data.json\", \"r\") as file:\n",
    "#     data = json.load(file)\n",
    "# for key in data:\n",
    "#     for element0 in data[key]:\n",
    "#         for element1 in data[key][element0]:\n",
    "#             node = element0 + \"-\" + element1\n",
    "#             if \"tfidf\" not in data[key][element0][element1]:\n",
    "#                 query = \"\"\"\n",
    "#                 MERGE (n:Noun {name:$key})\n",
    "#                 MERGE (a:Article {name:$node, lines:$lines})\n",
    "#                 MERGE (n)-[l:APPEAR_IN]-(a)\n",
    "#                 \"\"\"\n",
    "#                 params = {'key': key, 'node': node, 'lines': data[key][element0][element1][\"lines\"]}\n",
    "#                 gds.run_cypher(query, params)\n",
    "#             else:\n",
    "#                 query = \"\"\"\n",
    "#                 MERGE (n:Noun {name:$key})\n",
    "#                 MERGE (a:Article {name:$node, lines:$lines, tfidf:$tfidf})\n",
    "#                 MERGE (n)-[l:APPEAR_IN]-(a)\n",
    "#                 \"\"\"\n",
    "#                 params = {'key': key, 'node': node, 'lines': data[key][element0][element1][\"lines\"], 'tfidf': data[key][element0][element1][\"tfidf\"]}\n",
    "#                 gds.run_cypher(query, params)"
   ]
  },
  {
   "cell_type": "markdown",
   "metadata": {},
   "source": [
    "# Create Noun-Verb Graph"
   ]
  },
  {
   "cell_type": "code",
   "execution_count": 11,
   "metadata": {},
   "outputs": [
    {
     "data": {
      "text/html": [
       "<div>\n",
       "<style scoped>\n",
       "    .dataframe tbody tr th:only-of-type {\n",
       "        vertical-align: middle;\n",
       "    }\n",
       "\n",
       "    .dataframe tbody tr th {\n",
       "        vertical-align: top;\n",
       "    }\n",
       "\n",
       "    .dataframe thead th {\n",
       "        text-align: right;\n",
       "    }\n",
       "</style>\n",
       "<table border=\"1\" class=\"dataframe\">\n",
       "  <thead>\n",
       "    <tr style=\"text-align: right;\">\n",
       "      <th></th>\n",
       "    </tr>\n",
       "  </thead>\n",
       "  <tbody>\n",
       "  </tbody>\n",
       "</table>\n",
       "</div>"
      ],
      "text/plain": [
       "Empty DataFrame\n",
       "Columns: []\n",
       "Index: []"
      ]
     },
     "execution_count": 11,
     "metadata": {},
     "output_type": "execute_result"
    }
   ],
   "source": [
    "query = \"\"\"\n",
    "LOAD CSV WITH HEADERS FROM 'file:///noun-verb.csv' AS row\n",
    "MERGE (s:Noun {name:row.source})\n",
    "MERGE (t:Noun {name:row.target})\n",
    "MERGE (s)-[i:INTERACTS {name:row.edge}]->(t)\n",
    "\"\"\"\n",
    "gds.run_cypher(query)"
   ]
  },
  {
   "attachments": {},
   "cell_type": "markdown",
   "metadata": {},
   "source": [
    "# (postprocessing) free up memory"
   ]
  },
  {
   "cell_type": "code",
   "execution_count": 12,
   "metadata": {},
   "outputs": [],
   "source": [
    "query = \"\"\"\n",
    "MATCH (n) DETACH DELETE n\n",
    "\"\"\"\n",
    "gds.run_cypher(query)\n",
    "gds.close()"
   ]
  }
 ],
 "metadata": {
  "kernelspec": {
   "display_name": "base",
   "language": "python",
   "name": "python3"
  },
  "language_info": {
   "codemirror_mode": {
    "name": "ipython",
    "version": 3
   },
   "file_extension": ".py",
   "mimetype": "text/x-python",
   "name": "python",
   "nbconvert_exporter": "python",
   "pygments_lexer": "ipython3",
   "version": "3.8.13"
  }
 },
 "nbformat": 4,
 "nbformat_minor": 1
}
