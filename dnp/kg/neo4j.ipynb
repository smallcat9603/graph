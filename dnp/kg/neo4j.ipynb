{
 "cells": [
  {
   "cell_type": "code",
   "execution_count": 9,
   "metadata": {},
   "outputs": [],
   "source": [
    "from graphdatascience import GraphDataScience\n",
    "\n",
    "import json"
   ]
  },
  {
   "attachments": {},
   "cell_type": "markdown",
   "metadata": {},
   "source": [
    "# neo4j desktop (5.3.0, m1)"
   ]
  },
  {
   "cell_type": "code",
   "execution_count": 10,
   "metadata": {},
   "outputs": [
    {
     "name": "stdout",
     "output_type": "stream",
     "text": [
      "2.3.2\n"
     ]
    }
   ],
   "source": [
    "host = \"bolt://localhost:7687\"\n",
    "user = \"neo4j\"\n",
    "password= \"j4oenj4oen\"\n",
    "\n",
    "gds = GraphDataScience(host, auth=(user, password))\n",
    "print(gds.version())"
   ]
  },
  {
   "cell_type": "markdown",
   "metadata": {},
   "source": [
    "# Create Noun-Article Graph"
   ]
  },
  {
   "cell_type": "code",
   "execution_count": 11,
   "metadata": {},
   "outputs": [],
   "source": [
    "with open(\"data/data.json\", \"r\") as file:\n",
    "    data = json.load(file)\n",
    "for key in data:\n",
    "    for element0 in data[key]:\n",
    "        for element1 in data[key][element0]:\n",
    "            node = element0 + \"-\" + element1\n",
    "            if \"tfidf\" not in data[key][element0][element1]:\n",
    "                query = \"\"\"\n",
    "                MERGE (n:Noun {name:$key})\n",
    "                MERGE (a:Article {name:$node, lines:$lines})\n",
    "                MERGE (n)-[l:APPEAR_IN]-(a)\n",
    "                \"\"\"\n",
    "                params = {'key': key, 'node': node, 'lines': data[key][element0][element1][\"lines\"]}\n",
    "            else:\n",
    "                query = \"\"\"\n",
    "                MERGE (n:Noun {name:$key})\n",
    "                MERGE (a:Article {name:$node, lines:$lines, tfidf:$tfidf})\n",
    "                MERGE (n)-[l:APPEAR_IN]-(a)\n",
    "                \"\"\"\n",
    "                params = {'key': key, 'node': node, 'lines': data[key][element0][element1][\"lines\"], 'tfidf': data[key][element0][element1][\"tfidf\"]}\n",
    "            gds.run_cypher(query, params)"
   ]
  },
  {
   "attachments": {},
   "cell_type": "markdown",
   "metadata": {},
   "source": [
    "# (postprocessing) free up memory"
   ]
  },
  {
   "cell_type": "code",
   "execution_count": null,
   "metadata": {},
   "outputs": [],
   "source": [
    "query = \"\"\"\n",
    "MATCH (n) DETACH DELETE n\n",
    "\"\"\"\n",
    "gds.run_cypher(query)\n",
    "gds.close()"
   ]
  }
 ],
 "metadata": {
  "kernelspec": {
   "display_name": "base",
   "language": "python",
   "name": "python3"
  },
  "language_info": {
   "codemirror_mode": {
    "name": "ipython",
    "version": 3
   },
   "file_extension": ".py",
   "mimetype": "text/x-python",
   "name": "python",
   "nbconvert_exporter": "python",
   "pygments_lexer": "ipython3",
   "version": "3.8.13"
  }
 },
 "nbformat": 4,
 "nbformat_minor": 1
}
