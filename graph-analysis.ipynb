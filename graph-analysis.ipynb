{
  "cells": [
    {
      "cell_type": "code",
      "execution_count": 854,
      "metadata": {},
      "outputs": [],
      "source": [
        "import igraph as ig"
      ]
    },
    {
      "cell_type": "code",
      "execution_count": 855,
      "metadata": {},
      "outputs": [],
      "source": [
        "edgefile = \"11.edges\"\n",
        "g = ig.Graph.Read_Edgelist(edgefile, directed=False)"
      ]
    },
    {
      "attachments": {},
      "cell_type": "markdown",
      "metadata": {},
      "source": [
        "# graph"
      ]
    },
    {
      "cell_type": "code",
      "execution_count": 856,
      "metadata": {},
      "outputs": [
        {
          "name": "stdout",
          "output_type": "stream",
          "text": [
            "IGRAPH U--- 5 10 --\n",
            "+ edges:\n",
            "0 -- 1 2 3 4   1 -- 0 2 3 4   2 -- 0 1 3 4   3 -- 0 1 2 4   4 -- 0 1 2 3\n"
          ]
        }
      ],
      "source": [
        "print(g)"
      ]
    },
    {
      "attachments": {},
      "cell_type": "markdown",
      "metadata": {},
      "source": [
        "# basic"
      ]
    },
    {
      "cell_type": "code",
      "execution_count": 857,
      "metadata": {},
      "outputs": [
        {
          "name": "stdout",
          "output_type": "stream",
          "text": [
            "1\n",
            "1\n",
            "4\n",
            "N = 5, mean +- sd: 4.0000 +- 0.0000\n",
            "[4, 5): ***** (5)\n",
            "[4.0, 4.0, 4.0, 4.0, 4.0]\n",
            "1.0\n",
            "10 mutual, 0 asymmetric, 0 null dyads\n",
            "1.0\n",
            "[1.0, 1.0, 1.0, 1.0, 1.0]\n",
            "[1, 1, 1, 1, 1, 1, 1, 1, 1, 1]\n",
            "[[0, 1, 1, 1, 1]\n",
            " [1, 0, 1, 1, 1]\n",
            " [1, 1, 0, 1, 1]\n",
            " [1, 1, 1, 0, 1]\n",
            " [1, 1, 1, 1, 0]]\n",
            "  (0, 1)\t1\n",
            "  (0, 2)\t1\n",
            "  (0, 3)\t1\n",
            "  (0, 4)\t1\n",
            "  (1, 0)\t1\n",
            "  (1, 2)\t1\n",
            "  (1, 3)\t1\n",
            "  (1, 4)\t1\n",
            "  (2, 0)\t1\n",
            "  (2, 1)\t1\n",
            "  (2, 3)\t1\n",
            "  (2, 4)\t1\n",
            "  (3, 0)\t1\n",
            "  (3, 1)\t1\n",
            "  (3, 2)\t1\n",
            "  (3, 4)\t1\n",
            "  (4, 0)\t1\n",
            "  (4, 1)\t1\n",
            "  (4, 2)\t1\n",
            "  (4, 3)\t1\n",
            "[[4.0, -1.0, -1.0, -1.0, -1.0], [-1.0, 4.0, -1.0, -1.0, -1.0], [-1.0, -1.0, 4.0, -1.0, -1.0], [-1.0, -1.0, -1.0, 4.0, -1.0], [-1.0, -1.0, -1.0, -1.0, 4.0]]\n",
            "[1.0, 1.0, 1.0, 1.0, 1.0, 1.0, 1.0, 1.0, 1.0, 1.0]\n"
          ]
        }
      ],
      "source": [
        "print(g.diameter())\n",
        "print(g.radius())\n",
        "print(g.maxdegree())\n",
        "print(g.degree_distribution())\n",
        "print(g.strength()) # strength (weighted degree)\n",
        "print(g.density())\n",
        "print(g.dyad_census()) # Dyad census means classifying each pair of vertices of a directed graph into three categories: mutual (there is an edge from a to b and also from b to a), asymmetric (there is an edge from a to b or from b to a but not the other way round) and null (there is no connection between a and b)\n",
        "print(g.reciprocity()) # Reciprocity defines the proportion of mutual connections in a directed graph\n",
        "print(g.diversity()) # the structural diversity index of a vertex is simply the (normalized) Shannon entropy of the weights of the edges incident on the vertex\n",
        "print(g.count_multiple())\n",
        "print(g.get_adjacency())\n",
        "print(g.get_adjacency_sparse())\n",
        "print(g.laplacian()) # Laplacian matrix\n",
        "print(g.edge_betweenness())\n"
      ]
    },
    {
      "attachments": {},
      "cell_type": "markdown",
      "metadata": {},
      "source": [
        "# node"
      ]
    },
    {
      "cell_type": "code",
      "execution_count": 858,
      "metadata": {},
      "outputs": [
        {
          "name": "stdout",
          "output_type": "stream",
          "text": [
            "[1.0, 1.0, 1.0, 1.0, 1.0]\n",
            "[1.0, 1.0, 1.0, 1.0, 1.0]\n",
            "[0.0, 0.0, 0.0, 0.0, 0.0]\n",
            "[[0, 3, 3, 3, 3], [3, 0, 3, 3, 3], [3, 3, 0, 3, 3], [3, 3, 3, 0, 3], [3, 3, 3, 3, 0]]\n",
            "[1.0, 1.0, 1.0, 1.0, 1.0]\n",
            "[0.765625, 0.765625, 0.765625, 0.765625, 0.765625]\n",
            "[[0, 3, 3, 3, 3], [3, 0, 3, 3, 3], [3, 3, 0, 3, 3], [3, 3, 3, 0, 3], [3, 3, 3, 3, 0]]\n",
            "[4, 4, 4, 4, 4]\n",
            "[<igraph.Graph object at 0x7fae50d2b240>, <igraph.Graph object at 0x7fae50d2b340>, <igraph.Graph object at 0x7fae50d2b840>, <igraph.Graph object at 0x7fae50d2b940>, <igraph.Graph object at 0x7fae50d2ba40>]\n",
            "[1.0, 1.0, 1.0, 1.0, 1.0]\n",
            "[1.0, 0.9999999999999999, 1.0, 0.9999999999999999, 1.0]\n",
            "[1.0, 1.0, 1.0, 1.0, 1.0]\n",
            "[0.2, 0.2, 0.19999999999999998, 0.2, 0.2]\n",
            "[0.2, 0.2, 0.19999999999999998, 0.2, 0.2]\n"
          ]
        }
      ],
      "source": [
        "print(g.authority_score()) # Kleinberg's authority score for the vertices of the graph\n",
        "print(g.hub_score()) # Kleinberg's hub score for the vertices of the graph\n",
        "\n",
        "print(g.betweenness()) \n",
        "print(g.bibcoupling()) # bibliographic coupling scores for given vertices in a graph\n",
        "print(g.closeness()) # The closeness centerality of a vertex measures how easily other vertices can be reached from it (or the other way: how easily it can be reached from the other vertices). It is defined as the number of vertices minus one divided by the sum of the lengths of all geodesics from/to the given vertex\n",
        "print(g.constraint())\n",
        "print(g.cocitation())\n",
        "print(g.coreness()) # The k-core of a graph is a maximal subgraph in which each vertex has at least degree k. (Degree here means the degree in the subgraph of course). The coreness of a vertex is k if it is a member of the k-core but not a member of the k + 1-core (aka Graph.shell_index())\n",
        "print(g.k_core())\n",
        "print(g.eccentricity())\n",
        "print(g.eigenvector_centrality()) # a measure of the importance of a node in a network\n",
        "print(g.harmonic_centrality()) # how easily other vertices can be reached from it (or the other way: how easily it can be reached from the other vertices). It is defined as the mean inverse distance to all other vertices\n",
        "\n",
        "print(g.pagerank())\n",
        "print(g.personalized_pagerank())\n"
      ]
    },
    {
      "attachments": {},
      "cell_type": "markdown",
      "metadata": {},
      "source": [
        "# path"
      ]
    },
    {
      "cell_type": "code",
      "execution_count": 859,
      "metadata": {},
      "outputs": [
        {
          "name": "stdout",
          "output_type": "stream",
          "text": [
            "1.0\n",
            "[[0, 1, 1, 1, 1]]\n",
            "[[0], [0, 1], [0, 2], [0, 3], [0, 4]]\n",
            "(0, 1, 1)\n",
            "N = 10, mean +- sd: 1.0000 +- 0.0000\n",
            "[1, 2): ********** (10)\n",
            "1.0\n",
            "[1.0, 1.0, 1.0, 1.0, 1.0]\n",
            "1.0\n"
          ]
        }
      ],
      "source": [
        "print(g.average_path_length())\n",
        "print(g.distances(0))\n",
        "print(g.get_all_shortest_paths(0))\n",
        "print(g.farthest_points()) # return (src, dst, distance)\n",
        "print(g.path_length_hist())\n",
        "\n",
        "print(g.transitivity_undirected()) # the probability that two neighbors of a vertex are connected\n",
        "print(g.transitivity_local_undirected()) \n",
        "print(g.transitivity_avglocal_undirected())\n"
      ]
    },
    {
      "attachments": {},
      "cell_type": "markdown",
      "metadata": {},
      "source": [
        "# subgraph"
      ]
    },
    {
      "cell_type": "code",
      "execution_count": 860,
      "metadata": {},
      "outputs": [
        {
          "name": "stdout",
          "output_type": "stream",
          "text": [
            "IGRAPH U--- 5 4 --\n",
            "+ edges:\n",
            "0--1 0--2 0--3 0--4\n",
            "3\n",
            "5\n",
            "[(4,), (3,), (3, 4), (2,), (2, 3), (2, 3, 4), (2, 4), (1,), (1, 2), (1, 2, 3), (1, 2, 3, 4), (1, 2, 4), (1, 3), (1, 3, 4), (1, 4), (0,), (0, 1), (0, 1, 2), (0, 1, 2, 3), (0, 1, 2, 3, 4), (0, 1, 2, 4), (0, 1, 3), (0, 1, 3, 4), (0, 1, 4), (0, 2), (0, 2, 3), (0, 2, 3, 4), (0, 2, 4), (0, 3), (0, 3, 4), (0, 4)]\n",
            "[(0, 1, 4, 3, 2)]\n",
            "[(0, 1, 4, 3, 2)]\n",
            "[nan, nan, 0, 10]\n",
            "10\n",
            "33\n",
            "1\n",
            "[(0,), (1,), (2,), (3,), (4,)]\n",
            "[(0,), (1,), (2,), (3,), (4,)]\n",
            "Cover with 1 clusters\n",
            "[0] 0, 1, 2, 3, 4\n",
            "Cover with 1 clusters\n",
            "[0] 0, 1, 2, 3, 4\n",
            "Clustering with 5 elements and 1 clusters\n",
            "[0] 0, 1, 2, 3, 4\n",
            "[0, 1, 2, 3, 4]\n"
          ]
        }
      ],
      "source": [
        "print(g.spanning_tree())\n",
        "print(g.girth()) # length of the shortest circle\n",
        "print(g.clique_number()) # aka omega(), the size of the largest clique\n",
        "print(g.cliques())\n",
        "print(g.maximal_cliques())\n",
        "print(g.largest_cliques())\n",
        "print(g.motifs_randesu()) # motifs are small subgraphs of a given structure in a graph, motif i corresponds to with Graph.Isoclass(class=i)\n",
        "print(g.motifs_randesu_no())\n",
        "print(g.isoclass())\n",
        "\n",
        "print(g.independence_number()) # aka alpha(), size of the largest independent vertex set\n",
        "print(g.maximal_independent_vertex_sets()) # all largest sets are maximal (i.e. nonextendable) but not all maximal sets are largest\n",
        "print(g.largest_independent_vertex_sets())\n",
        "\n",
        "print(g.biconnected_components()) # aka blocks()\n",
        "print(g.cohesive_blocks())\n",
        "print(g.components()) # aka connected_components()\n",
        "print(g.subcomponent(0))\n"
      ]
    },
    {
      "attachments": {},
      "cell_type": "markdown",
      "metadata": {},
      "source": [
        "# connectivity"
      ]
    },
    {
      "cell_type": "code",
      "execution_count": 861,
      "metadata": {},
      "outputs": [
        {
          "name": "stdout",
          "output_type": "stream",
          "text": [
            "4\n",
            "4\n",
            "4\n",
            "4\n",
            "4\n",
            "[]\n",
            "[[1, 2, 3, 4], [0, 2, 3, 4], [0, 1, 3, 4], [0, 1, 2, 4], [0, 1, 2, 3]]\n",
            "[]\n",
            "[]\n",
            "[4, 5, 6, 7, 8, 9]\n",
            "Graph cut (4 edges, 1 vs 4 vertices, value=4.0000)\n",
            "4.0\n",
            "Graph cut (4 edges, 4 vs 1 vertices, value=4.0000)\n"
          ]
        }
      ],
      "source": [
        "print(g.edge_connectivity())\n",
        "print(g.edge_disjoint_paths()) # same as edge_connectivity\n",
        "print(g.adhesion()) # same as edge_connectivity\n",
        "print(g.vertex_connectivity())\n",
        "print(g.cohesion()) # same as vertex_connectivity\n",
        "print(g.all_minimal_st_separators()) # Returns a list containing all the minimal s-t separators of a graph. A minimal separator is a set of vertices whose removal disconnects the graph, while the removal of any subset of the set keeps the graph connected.\n",
        "print(g.minimum_size_separators()) \n",
        "print(g.cut_vertices())\n",
        "print(g.articulation_points()) # same as cut_vertices()\n",
        "print(g.feedback_arc_set()) # return a set of edges whose removal makes the graph acyclic\n",
        "print(g.mincut()) # minimum cut is the minimum set of edges that needs to be removed to separate the source and the target (if they are given) or to disconnect the graph (if neither the source nor the target are given)\n",
        "print(g.mincut_value())\n",
        "print(g.st_mincut(0, 1))\n"
      ]
    },
    {
      "attachments": {},
      "cell_type": "markdown",
      "metadata": {},
      "source": [
        "# judgement"
      ]
    },
    {
      "cell_type": "code",
      "execution_count": 862,
      "metadata": {},
      "outputs": [
        {
          "name": "stdout",
          "output_type": "stream",
          "text": [
            "False\n",
            "True\n",
            "False\n",
            "False\n",
            "False\n",
            "True\n",
            "False\n",
            "False\n",
            "False\n",
            "False\n",
            "[False, False, False, False, False, False, False, False, False, False]\n",
            "[False, False, False, False, False, False, False, False, False, False]\n",
            "[True, True, True, True, True, True, True, True, True, True]\n"
          ]
        }
      ],
      "source": [
        "print(g.is_bipartite())\n",
        "print(g.is_connected())\n",
        "print(g.is_dag())\n",
        "print(g.is_directed())\n",
        "print(g.is_named())\n",
        "print(g.is_simple())\n",
        "print(g.is_weighted())\n",
        "print(g.has_multiple())\n",
        "print(g.is_separator())\n",
        "print(g.is_minimal_separator())\n",
        "print(g.is_loop())\n",
        "print(g.is_multiple())\n",
        "print(g.is_mutual())"
      ]
    },
    {
      "attachments": {},
      "cell_type": "markdown",
      "metadata": {},
      "source": [
        "# similarity"
      ]
    },
    {
      "cell_type": "code",
      "execution_count": 863,
      "metadata": {},
      "outputs": [
        {
          "name": "stdout",
          "output_type": "stream",
          "text": [
            "[[1.0, 1.0, 1.0, 1.0, 1.0], [1.0, 1.0, 1.0, 1.0, 1.0], [1.0, 1.0, 1.0, 1.0, 1.0], [1.0, 1.0, 1.0, 1.0, 1.0], [1.0, 1.0, 1.0, 1.0, 1.0]]\n",
            "[[1.0, 1.0, 1.0, 1.0, 1.0], [1.0, 1.0, 1.0, 1.0, 1.0], [1.0, 1.0, 1.0, 1.0, 1.0], [1.0, 1.0, 1.0, 1.0, 1.0], [1.0, 1.0, 1.0, 1.0, 1.0]]\n",
            "[[0.0, 2.164042561333445, 2.164042561333445, 2.164042561333445, 2.164042561333445], [2.164042561333445, 0.0, 2.164042561333445, 2.164042561333445, 2.164042561333445], [2.164042561333445, 2.164042561333445, 0.0, 2.164042561333445, 2.164042561333445], [2.164042561333445, 2.164042561333445, 2.164042561333445, 0.0, 2.164042561333445], [2.164042561333445, 2.164042561333445, 2.164042561333445, 2.164042561333445, 0.0]]\n"
          ]
        }
      ],
      "source": [
        "print(g.similarity_dice()) # Dice similarity coefficient of two vertices is twice the number of their common neighbors divided by the sum of their degrees\n",
        "print(g.similarity_jaccard()) # Jaccard similarity coefficient of two vertices is the number of their common neighbors divided by the number of vertices that are adjacent to at least one of them\n",
        "print(g.similarity_inverse_log_weighted()) # Each vertex is assigned a weight which is 1 / log(degree). The log-weighted similarity of two vertices is the sum of the weights of their common neighbors\n"
      ]
    },
    {
      "attachments": {},
      "cell_type": "markdown",
      "metadata": {},
      "source": [
        "# community"
      ]
    },
    {
      "cell_type": "code",
      "execution_count": 864,
      "metadata": {},
      "outputs": [
        {
          "name": "stdout",
          "output_type": "stream",
          "text": [
            "Dendrogram, 5 elements, 4 merges\n",
            "\n",
            "0 1 2 3 4\n",
            "| | | | |\n",
            "| | | `-'\n",
            "| | |  | \n",
            "| | `--' \n",
            "| |  |   \n",
            "| `--'   \n",
            "|  |     \n",
            "`--'\n",
            "Dendrogram, 5 elements, 4 merges\n",
            "\n",
            "0 1 2 3 4\n",
            "| | | | |\n",
            "`-' | | |\n",
            " |  | | |\n",
            " `--' | |\n",
            "  |   | |\n",
            "  `---' |\n",
            "    |   |\n",
            "    `---'\n",
            "Clustering with 5 elements and 1 clusters\n",
            "[0] 0, 1, 2, 3, 4\n",
            "Clustering with 5 elements and 1 clusters\n",
            "[0] 0, 1, 2, 3, 4\n",
            "Clustering with 5 elements and 5 clusters\n",
            "[0] 0\n",
            "[1] 1\n",
            "[2] 2\n",
            "[3] 3\n",
            "[4] 4\n",
            "Clustering with 5 elements and 1 clusters\n",
            "[0] 0, 1, 2, 3, 4\n",
            "Clustering with 5 elements and 1 clusters\n",
            "[0] 0, 1, 2, 3, 4\n",
            "Clustering with 5 elements and 1 clusters\n",
            "[0] 0, 1, 2, 3, 4\n",
            "Dendrogram, 5 elements, 4 merges\n",
            "\n",
            "3 2 4 1 0\n",
            "| | | | |\n",
            "`-' | `-'\n",
            " |  |  | \n",
            " `--'  | \n",
            "  |    | \n",
            "  `----'\n"
          ]
        }
      ],
      "source": [
        "print(g.community_edge_betweenness())\n",
        "print(g.community_fastgreedy())\n",
        "print(g.community_infomap())\n",
        "print(g.community_label_propagation())\n",
        "print(g.community_leiden())\n",
        "print(g.community_multilevel()) # a version of Louvain\n",
        "print(g.community_optimal_modularity()) # exact solution, < 100 vertices\n",
        "print(g.community_spinglass())\n",
        "print(g.community_walktrap()) # community detection algorithm of Latapy & Pons, based on random walks\n"
      ]
    },
    {
      "attachments": {},
      "cell_type": "markdown",
      "metadata": {},
      "source": [
        "# morphism"
      ]
    },
    {
      "cell_type": "code",
      "execution_count": 865,
      "metadata": {},
      "outputs": [
        {
          "name": "stdout",
          "output_type": "stream",
          "text": [
            "[[0, 1, 2, 3, 4], [0, 1, 2, 4, 3], [0, 1, 3, 2, 4], [0, 1, 3, 4, 2], [0, 1, 4, 2, 3], [0, 1, 4, 3, 2], [0, 2, 1, 3, 4], [0, 2, 1, 4, 3], [0, 2, 3, 1, 4], [0, 2, 3, 4, 1], [0, 2, 4, 1, 3], [0, 2, 4, 3, 1], [0, 3, 1, 2, 4], [0, 3, 1, 4, 2], [0, 3, 2, 1, 4], [0, 3, 2, 4, 1], [0, 3, 4, 1, 2], [0, 3, 4, 2, 1], [0, 4, 1, 2, 3], [0, 4, 1, 3, 2], [0, 4, 2, 1, 3], [0, 4, 2, 3, 1], [0, 4, 3, 1, 2], [0, 4, 3, 2, 1], [1, 0, 2, 3, 4], [1, 0, 2, 4, 3], [1, 0, 3, 2, 4], [1, 0, 3, 4, 2], [1, 0, 4, 2, 3], [1, 0, 4, 3, 2], [1, 2, 0, 3, 4], [1, 2, 0, 4, 3], [1, 2, 3, 0, 4], [1, 2, 3, 4, 0], [1, 2, 4, 0, 3], [1, 2, 4, 3, 0], [1, 3, 0, 2, 4], [1, 3, 0, 4, 2], [1, 3, 2, 0, 4], [1, 3, 2, 4, 0], [1, 3, 4, 0, 2], [1, 3, 4, 2, 0], [1, 4, 0, 2, 3], [1, 4, 0, 3, 2], [1, 4, 2, 0, 3], [1, 4, 2, 3, 0], [1, 4, 3, 0, 2], [1, 4, 3, 2, 0], [2, 0, 1, 3, 4], [2, 0, 1, 4, 3], [2, 0, 3, 1, 4], [2, 0, 3, 4, 1], [2, 0, 4, 1, 3], [2, 0, 4, 3, 1], [2, 1, 0, 3, 4], [2, 1, 0, 4, 3], [2, 1, 3, 0, 4], [2, 1, 3, 4, 0], [2, 1, 4, 0, 3], [2, 1, 4, 3, 0], [2, 3, 0, 1, 4], [2, 3, 0, 4, 1], [2, 3, 1, 0, 4], [2, 3, 1, 4, 0], [2, 3, 4, 0, 1], [2, 3, 4, 1, 0], [2, 4, 0, 1, 3], [2, 4, 0, 3, 1], [2, 4, 1, 0, 3], [2, 4, 1, 3, 0], [2, 4, 3, 0, 1], [2, 4, 3, 1, 0], [3, 0, 1, 2, 4], [3, 0, 1, 4, 2], [3, 0, 2, 1, 4], [3, 0, 2, 4, 1], [3, 0, 4, 1, 2], [3, 0, 4, 2, 1], [3, 1, 0, 2, 4], [3, 1, 0, 4, 2], [3, 1, 2, 0, 4], [3, 1, 2, 4, 0], [3, 1, 4, 0, 2], [3, 1, 4, 2, 0], [3, 2, 0, 1, 4], [3, 2, 0, 4, 1], [3, 2, 1, 0, 4], [3, 2, 1, 4, 0], [3, 2, 4, 0, 1], [3, 2, 4, 1, 0], [3, 4, 0, 1, 2], [3, 4, 0, 2, 1], [3, 4, 1, 0, 2], [3, 4, 1, 2, 0], [3, 4, 2, 0, 1], [3, 4, 2, 1, 0], [4, 0, 1, 2, 3], [4, 0, 1, 3, 2], [4, 0, 2, 1, 3], [4, 0, 2, 3, 1], [4, 0, 3, 1, 2], [4, 0, 3, 2, 1], [4, 1, 0, 2, 3], [4, 1, 0, 3, 2], [4, 1, 2, 0, 3], [4, 1, 2, 3, 0], [4, 1, 3, 0, 2], [4, 1, 3, 2, 0], [4, 2, 0, 1, 3], [4, 2, 0, 3, 1], [4, 2, 1, 0, 3], [4, 2, 1, 3, 0], [4, 2, 3, 0, 1], [4, 2, 3, 1, 0], [4, 3, 0, 1, 2], [4, 3, 0, 2, 1], [4, 3, 1, 0, 2], [4, 3, 1, 2, 0], [4, 3, 2, 0, 1], [4, 3, 2, 1, 0]]\n",
            "[[0, 1, 2, 3, 4], [0, 1, 2, 4, 3], [0, 1, 3, 2, 4], [0, 1, 3, 4, 2], [0, 1, 4, 2, 3], [0, 1, 4, 3, 2], [0, 2, 1, 3, 4], [0, 2, 1, 4, 3], [0, 2, 3, 1, 4], [0, 2, 3, 4, 1], [0, 2, 4, 1, 3], [0, 2, 4, 3, 1], [0, 3, 1, 2, 4], [0, 3, 1, 4, 2], [0, 3, 2, 1, 4], [0, 3, 2, 4, 1], [0, 3, 4, 1, 2], [0, 3, 4, 2, 1], [0, 4, 1, 2, 3], [0, 4, 1, 3, 2], [0, 4, 2, 1, 3], [0, 4, 2, 3, 1], [0, 4, 3, 1, 2], [0, 4, 3, 2, 1], [1, 0, 2, 3, 4], [1, 0, 2, 4, 3], [1, 0, 3, 2, 4], [1, 0, 3, 4, 2], [1, 0, 4, 2, 3], [1, 0, 4, 3, 2], [1, 2, 0, 3, 4], [1, 2, 0, 4, 3], [1, 2, 3, 0, 4], [1, 2, 3, 4, 0], [1, 2, 4, 0, 3], [1, 2, 4, 3, 0], [1, 3, 0, 2, 4], [1, 3, 0, 4, 2], [1, 3, 2, 0, 4], [1, 3, 2, 4, 0], [1, 3, 4, 0, 2], [1, 3, 4, 2, 0], [1, 4, 0, 2, 3], [1, 4, 0, 3, 2], [1, 4, 2, 0, 3], [1, 4, 2, 3, 0], [1, 4, 3, 0, 2], [1, 4, 3, 2, 0], [2, 0, 1, 3, 4], [2, 0, 1, 4, 3], [2, 0, 3, 1, 4], [2, 0, 3, 4, 1], [2, 0, 4, 1, 3], [2, 0, 4, 3, 1], [2, 1, 0, 3, 4], [2, 1, 0, 4, 3], [2, 1, 3, 0, 4], [2, 1, 3, 4, 0], [2, 1, 4, 0, 3], [2, 1, 4, 3, 0], [2, 3, 0, 1, 4], [2, 3, 0, 4, 1], [2, 3, 1, 0, 4], [2, 3, 1, 4, 0], [2, 3, 4, 0, 1], [2, 3, 4, 1, 0], [2, 4, 0, 1, 3], [2, 4, 0, 3, 1], [2, 4, 1, 0, 3], [2, 4, 1, 3, 0], [2, 4, 3, 0, 1], [2, 4, 3, 1, 0], [3, 0, 1, 2, 4], [3, 0, 1, 4, 2], [3, 0, 2, 1, 4], [3, 0, 2, 4, 1], [3, 0, 4, 1, 2], [3, 0, 4, 2, 1], [3, 1, 0, 2, 4], [3, 1, 0, 4, 2], [3, 1, 2, 0, 4], [3, 1, 2, 4, 0], [3, 1, 4, 0, 2], [3, 1, 4, 2, 0], [3, 2, 0, 1, 4], [3, 2, 0, 4, 1], [3, 2, 1, 0, 4], [3, 2, 1, 4, 0], [3, 2, 4, 0, 1], [3, 2, 4, 1, 0], [3, 4, 0, 1, 2], [3, 4, 0, 2, 1], [3, 4, 1, 0, 2], [3, 4, 1, 2, 0], [3, 4, 2, 0, 1], [3, 4, 2, 1, 0], [4, 0, 1, 2, 3], [4, 0, 1, 3, 2], [4, 0, 2, 1, 3], [4, 0, 2, 3, 1], [4, 0, 3, 1, 2], [4, 0, 3, 2, 1], [4, 1, 0, 2, 3], [4, 1, 0, 3, 2], [4, 1, 2, 0, 3], [4, 1, 2, 3, 0], [4, 1, 3, 0, 2], [4, 1, 3, 2, 0], [4, 2, 0, 1, 3], [4, 2, 0, 3, 1], [4, 2, 1, 0, 3], [4, 2, 1, 3, 0], [4, 2, 3, 0, 1], [4, 2, 3, 1, 0], [4, 3, 0, 1, 2], [4, 3, 0, 2, 1], [4, 3, 1, 0, 2], [4, 3, 1, 2, 0], [4, 3, 2, 0, 1], [4, 3, 2, 1, 0]]\n",
            "120\n",
            "120\n"
          ]
        }
      ],
      "source": [
        "print(g.get_isomorphisms_vf2())\n",
        "print(g.get_automorphisms_vf2()) # same as get_isomorphisms_vf2()\n",
        "print(g.count_isomorphisms_vf2())\n",
        "print(g.count_automorphisms_vf2()) # same as count_isomorphisms_vf2()\n"
      ]
    },
    {
      "attachments": {},
      "cell_type": "markdown",
      "metadata": {},
      "source": [
        "# flow"
      ]
    },
    {
      "cell_type": "code",
      "execution_count": 866,
      "metadata": {},
      "outputs": [
        {
          "name": "stdout",
          "output_type": "stream",
          "text": [
            "Graph flow (4 edges, 4 vs 1 vertices, value=4.0000)\n",
            "4.0\n",
            "IGRAPH U--- 5 4 --\n",
            "+ attr: flow (e)\n",
            "+ edges:\n",
            "1--4 2--4 3--4 0--4\n"
          ]
        }
      ],
      "source": [
        "print(g.maxflow(0, 1))\n",
        "print(g.maxflow_value(0, 1))\n",
        "print(g.gomory_hu_tree()) # Gomory-Hu tree is a concise representation of the value of all the maximum flows (or minimum cuts) in a graph"
      ]
    }
  ],
  "metadata": {
    "kernelspec": {
      "display_name": "base",
      "language": "python",
      "name": "python3"
    },
    "language_info": {
      "codemirror_mode": {
        "name": "ipython",
        "version": 3
      },
      "file_extension": ".py",
      "mimetype": "text/x-python",
      "name": "python",
      "nbconvert_exporter": "python",
      "pygments_lexer": "ipython3",
      "version": "3.8.5"
    },
    "vscode": {
      "interpreter": {
        "hash": "31e6c5c79e5805a0c115eefd20e01db841235392825680cc7179dc8df6146eb6"
      }
    }
  },
  "nbformat": 4,
  "nbformat_minor": 0
}
