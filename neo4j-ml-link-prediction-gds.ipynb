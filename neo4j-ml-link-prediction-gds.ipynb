{
 "cells": [
  {
   "cell_type": "code",
   "execution_count": 20,
   "metadata": {},
   "outputs": [],
   "source": [
    "from graphdatascience import GraphDataScience\n",
    "\n",
    "import matplotlib.pyplot as plt\n",
    "plt.style.use('fivethirtyeight') "
   ]
  },
  {
   "attachments": {},
   "cell_type": "markdown",
   "metadata": {},
   "source": [
    "# neo4j desktop (5.3.0, m1)"
   ]
  },
  {
   "cell_type": "code",
   "execution_count": 21,
   "metadata": {},
   "outputs": [
    {
     "name": "stdout",
     "output_type": "stream",
     "text": [
      "2.3.2\n"
     ]
    }
   ],
   "source": [
    "host = \"bolt://localhost:7687\"\n",
    "user = \"neo4j\"\n",
    "password= \"j4oenj4oen\"\n",
    "\n",
    "gds = GraphDataScience(host, auth=(user, password))\n",
    "print(gds.version())"
   ]
  },
  {
   "attachments": {},
   "cell_type": "markdown",
   "metadata": {},
   "source": [
    "# 1. Import Data into Neo4j"
   ]
  },
  {
   "cell_type": "code",
   "execution_count": 22,
   "metadata": {},
   "outputs": [
    {
     "data": {
      "text/html": [
       "<div>\n",
       "<style scoped>\n",
       "    .dataframe tbody tr th:only-of-type {\n",
       "        vertical-align: middle;\n",
       "    }\n",
       "\n",
       "    .dataframe tbody tr th {\n",
       "        vertical-align: top;\n",
       "    }\n",
       "\n",
       "    .dataframe thead th {\n",
       "        text-align: right;\n",
       "    }\n",
       "</style>\n",
       "<table border=\"1\" class=\"dataframe\">\n",
       "  <thead>\n",
       "    <tr style=\"text-align: right;\">\n",
       "      <th></th>\n",
       "      <th>batches</th>\n",
       "      <th>total</th>\n",
       "      <th>timeTaken</th>\n",
       "      <th>committedOperations</th>\n",
       "      <th>failedOperations</th>\n",
       "      <th>failedBatches</th>\n",
       "      <th>retries</th>\n",
       "      <th>errorMessages</th>\n",
       "      <th>batch</th>\n",
       "      <th>operations</th>\n",
       "      <th>wasTerminated</th>\n",
       "      <th>failedParams</th>\n",
       "      <th>updateStatistics</th>\n",
       "    </tr>\n",
       "  </thead>\n",
       "  <tbody>\n",
       "    <tr>\n",
       "      <th>0</th>\n",
       "      <td>6</td>\n",
       "      <td>51956</td>\n",
       "      <td>17</td>\n",
       "      <td>41956</td>\n",
       "      <td>10000</td>\n",
       "      <td>1</td>\n",
       "      <td>0</td>\n",
       "      <td>{'ForsetiClient[transactionId=167, clientId=4]...</td>\n",
       "      <td>{'total': 6, 'committed': 5, 'failed': 1, 'err...</td>\n",
       "      <td>{'total': 51956, 'committed': 41956, 'failed':...</td>\n",
       "      <td>False</td>\n",
       "      <td>{}</td>\n",
       "      <td>{'nodesDeleted': 0, 'labelsAdded': 108154, 're...</td>\n",
       "    </tr>\n",
       "  </tbody>\n",
       "</table>\n",
       "</div>"
      ],
      "text/plain": [
       "   batches  total  timeTaken  committedOperations  failedOperations  \\\n",
       "0        6  51956         17                41956             10000   \n",
       "\n",
       "   failedBatches  retries                                      errorMessages  \\\n",
       "0              1        0  {'ForsetiClient[transactionId=167, clientId=4]...   \n",
       "\n",
       "                                               batch  \\\n",
       "0  {'total': 6, 'committed': 5, 'failed': 1, 'err...   \n",
       "\n",
       "                                          operations  wasTerminated  \\\n",
       "0  {'total': 51956, 'committed': 41956, 'failed':...          False   \n",
       "\n",
       "  failedParams                                   updateStatistics  \n",
       "0           {}  {'nodesDeleted': 0, 'labelsAdded': 108154, 're...  "
      ]
     },
     "execution_count": 22,
     "metadata": {},
     "output_type": "execute_result"
    }
   ],
   "source": [
    "query = \"\"\"\n",
    "CREATE CONSTRAINT constraint_article IF NOT EXISTS\n",
    "For (article:Article) REQUIRE article.index IS UNIQUE\n",
    "\"\"\"\n",
    "gds.run_cypher(query)\n",
    "\n",
    "query = \"\"\"\n",
    "CREATE CONSTRAINT constraint_author IF NOT EXISTS \n",
    "For (author:Author) REQUIRE author.name IS UNIQUE\n",
    "\"\"\"\n",
    "gds.run_cypher(query)\n",
    "\n",
    "query = \"\"\"\n",
    "CALL apoc.periodic.iterate(\n",
    "'UNWIND [\"dblp-ref-0.json\",\"dblp-ref-1.json\", \"dblp-ref-2.json\",\"dblp-ref-3.json\"] AS file \n",
    "CALL apoc.load.json(\"file:///\" + file) \n",
    "YIELD value WHERE value.venue IN [\"Lecture Notes in Computer Science\", \"Communications of The ACM\", \"international conference on software engineering\", \"advances in computing and communications\"]\n",
    "return value', \n",
    "'MERGE (a:Article {index:value.id}) ON CREATE SET a += apoc.map.clean(value,[\"id\",\"authors\",\"references\"],[0]) WITH a, value.authors as authors \n",
    "UNWIND authors as author \n",
    "MERGE (b:Author {name:author}) \n",
    "MERGE (b)<-[:AUTHOR]-(a)', \n",
    "{batchSize:10000, parallel:true});\n",
    "\"\"\"\n",
    "gds.run_cypher(query)"
   ]
  },
  {
   "attachments": {},
   "cell_type": "markdown",
   "metadata": {},
   "source": [
    "# 2. The Coauthorship Graph"
   ]
  },
  {
   "cell_type": "code",
   "execution_count": 23,
   "metadata": {},
   "outputs": [
    {
     "data": {
      "text/html": [
       "<div>\n",
       "<style scoped>\n",
       "    .dataframe tbody tr th:only-of-type {\n",
       "        vertical-align: middle;\n",
       "    }\n",
       "\n",
       "    .dataframe tbody tr th {\n",
       "        vertical-align: top;\n",
       "    }\n",
       "\n",
       "    .dataframe thead th {\n",
       "        text-align: right;\n",
       "    }\n",
       "</style>\n",
       "<table border=\"1\" class=\"dataframe\">\n",
       "  <thead>\n",
       "    <tr style=\"text-align: right;\">\n",
       "      <th></th>\n",
       "    </tr>\n",
       "  </thead>\n",
       "  <tbody>\n",
       "  </tbody>\n",
       "</table>\n",
       "</div>"
      ],
      "text/plain": [
       "Empty DataFrame\n",
       "Columns: []\n",
       "Index: []"
      ]
     },
     "execution_count": 23,
     "metadata": {},
     "output_type": "execute_result"
    }
   ],
   "source": [
    "query = \"\"\"\n",
    "MATCH (a1)<-[:AUTHOR]-(paper)-[:AUTHOR]->(a2:Author) \n",
    "WITH a1, a2, paper \n",
    "ORDER BY a1, paper.year \n",
    "WITH a1, a2, collect(paper)[0].year AS year, count(*) AS collaborations \n",
    "MERGE (a1)-[coauthor:CO_AUTHOR {year: year}]-(a2) \n",
    "SET coauthor.collaborations = collaborations;\n",
    "\"\"\"\n",
    "gds.run_cypher(query)"
   ]
  },
  {
   "attachments": {},
   "cell_type": "markdown",
   "metadata": {},
   "source": [
    "# 3. Create Training and Testing Datasets"
   ]
  },
  {
   "cell_type": "code",
   "execution_count": 24,
   "metadata": {},
   "outputs": [
    {
     "data": {
      "image/png": "[encoded data removed]",
      "text/plain": [
       "<Figure size 1500x800 with 1 Axes>"
      ]
     },
     "metadata": {},
     "output_type": "display_data"
    }
   ],
   "source": [
    "query = \"\"\"\n",
    "MATCH (article:Article) \n",
    "RETURN article.year AS year, count(*) AS count\n",
    "ORDER BY year \n",
    "\"\"\"\n",
    "by_year = gds.run_cypher(query)\n",
    "\n",
    "ax = by_year.plot(kind='bar', x='year', y='count', legend=None, figsize=(15,8)) \n",
    "ax.xaxis.set_label_text(\"\") \n",
    "plt.tight_layout() \n",
    "# plt.show()\n",
    "plt.savefig(\"figs/by_year.jpg\")"
   ]
  },
  {
   "attachments": {},
   "cell_type": "markdown",
   "metadata": {},
   "source": [
    "# 4. Project Graph"
   ]
  },
  {
   "cell_type": "code",
   "execution_count": 25,
   "metadata": {},
   "outputs": [],
   "source": [
    "exists_result = gds.graph.exists(\"myGraph\")\n",
    "if exists_result[\"exists\"]:\n",
    "    G = gds.graph.get(\"myGraph\")\n",
    "    G.drop()\n",
    "\n",
    "G, _ = gds.graph.project(\n",
    "    \"myGraph\",\n",
    "    [\"Author\"],\n",
    "    {\"CO_AUTHOR\": {\"orientation\": \"UNDIRECTED\"}}\n",
    ")"
   ]
  },
  {
   "cell_type": "code",
   "execution_count": 26,
   "metadata": {},
   "outputs": [
    {
     "data": {
      "text/plain": [
       "requiredMemory                                                 517 KiB\n",
       "treeView             Memory Estimation: 517 KiB\\n|-- algorithm: 517...\n",
       "mapView              {'components': [{'components': [{'memoryUsage'...\n",
       "bytesMin                                                        529744\n",
       "bytesMax                                                        529744\n",
       "nodeCount                                                        66198\n",
       "relationshipCount                                               246592\n",
       "heapPercentageMin                                                  0.1\n",
       "heapPercentageMax                                                  0.1\n",
       "Name: 0, dtype: object"
      ]
     },
     "execution_count": 26,
     "metadata": {},
     "output_type": "execute_result"
    }
   ],
   "source": [
    "\n",
    "gds.triangleCount.write.estimate(\n",
    "    G,\n",
    "    nodeLabels=[\"Author\"],\n",
    "    relationshipTypes=[\"CO_AUTHOR\"],\n",
    "    writeProperty=\"triangles\"\n",
    ")"
   ]
  },
  {
   "cell_type": "code",
   "execution_count": 27,
   "metadata": {},
   "outputs": [
    {
     "data": {
      "text/plain": [
       "writeMillis                                                            188\n",
       "nodePropertiesWritten                                                66198\n",
       "globalTriangleCount                                                 161446\n",
       "nodeCount                                                            66198\n",
       "postProcessingMillis                                                     0\n",
       "preProcessingMillis                                                      0\n",
       "computeMillis                                                           32\n",
       "configuration            {'jobId': 'e1525918-816e-43bc-a51e-4e622d1f52a...\n",
       "Name: 0, dtype: object"
      ]
     },
     "execution_count": 27,
     "metadata": {},
     "output_type": "execute_result"
    }
   ],
   "source": [
    "gds.triangleCount.write(\n",
    "    G,\n",
    "    nodeLabels=[\"Author\"],\n",
    "    relationshipTypes=[\"CO_AUTHOR\"],\n",
    "    writeProperty=\"triangles\"\n",
    ")"
   ]
  },
  {
   "cell_type": "code",
   "execution_count": 28,
   "metadata": {},
   "outputs": [
    {
     "data": {
      "text/plain": [
       "requiredMemory                                                1034 KiB\n",
       "treeView             Memory Estimation: 1034 KiB\\n|-- algorithm: 10...\n",
       "mapView              {'components': [{'components': [{'memoryUsage'...\n",
       "bytesMin                                                       1059464\n",
       "bytesMax                                                       1059464\n",
       "nodeCount                                                        66198\n",
       "relationshipCount                                               246592\n",
       "heapPercentageMin                                                  0.1\n",
       "heapPercentageMax                                                  0.1\n",
       "Name: 0, dtype: object"
      ]
     },
     "execution_count": 28,
     "metadata": {},
     "output_type": "execute_result"
    }
   ],
   "source": [
    "gds.localClusteringCoefficient.write.estimate(\n",
    "    G,\n",
    "    nodeLabels=[\"Author\"],\n",
    "    relationshipTypes=[\"CO_AUTHOR\"],\n",
    "    writeProperty=\"coefficient\"\n",
    ")"
   ]
  },
  {
   "cell_type": "code",
   "execution_count": 29,
   "metadata": {},
   "outputs": [
    {
     "data": {
      "text/plain": [
       "writeMillis                                                                   592\n",
       "nodePropertiesWritten                                                       66198\n",
       "averageClusteringCoefficient                                             0.652236\n",
       "nodeCount                                                                   66198\n",
       "postProcessingMillis                                                            0\n",
       "preProcessingMillis                                                             1\n",
       "computeMillis                                                                 236\n",
       "configuration                   {'jobId': '10952f25-68e0-4b43-aba6-182e2686d79...\n",
       "Name: 0, dtype: object"
      ]
     },
     "execution_count": 29,
     "metadata": {},
     "output_type": "execute_result"
    }
   ],
   "source": [
    "gds.localClusteringCoefficient.write(\n",
    "    G,\n",
    "    nodeLabels=[\"Author\"],\n",
    "    relationshipTypes=[\"CO_AUTHOR\"],\n",
    "    writeProperty=\"coefficient\"\n",
    ")"
   ]
  },
  {
   "cell_type": "code",
   "execution_count": 30,
   "metadata": {},
   "outputs": [
    {
     "data": {
      "text/plain": [
       "requiredMemory                                  [519 KiB ... 8710 KiB]\n",
       "treeView             Memory Estimation: [519 KiB ... 8710 KiB]\\n|--...\n",
       "mapView              {'components': [{'components': [{'memoryUsage'...\n",
       "bytesMin                                                        531640\n",
       "bytesMax                                                       8919736\n",
       "nodeCount                                                        66198\n",
       "relationshipCount                                               246592\n",
       "heapPercentageMin                                                  0.1\n",
       "heapPercentageMax                                                  0.1\n",
       "Name: 0, dtype: object"
      ]
     },
     "execution_count": 30,
     "metadata": {},
     "output_type": "execute_result"
    }
   ],
   "source": [
    "gds.labelPropagation.write.estimate(\n",
    "    G,\n",
    "    nodeLabels=[\"Author\"],\n",
    "    relationshipTypes=[\"CO_AUTHOR\"],\n",
    "    writeProperty=\"partition\"\n",
    ")"
   ]
  },
  {
   "cell_type": "code",
   "execution_count": 31,
   "metadata": {},
   "outputs": [
    {
     "data": {
      "text/plain": [
       "writeMillis                                                            319\n",
       "nodePropertiesWritten                                                66198\n",
       "ranIterations                                                            7\n",
       "didConverge                                                           True\n",
       "communityCount                                                       14323\n",
       "communityDistribution    {'p99': 35, 'min': 1, 'max': 652, 'mean': 4.62...\n",
       "postProcessingMillis                                                    21\n",
       "preProcessingMillis                                                      0\n",
       "computeMillis                                                          145\n",
       "configuration            {'jobId': '0e4ac247-0106-4fbf-88f5-8b469345c18...\n",
       "Name: 0, dtype: object"
      ]
     },
     "execution_count": 31,
     "metadata": {},
     "output_type": "execute_result"
    }
   ],
   "source": [
    "gds.labelPropagation.write(\n",
    "    G,\n",
    "    nodeLabels=[\"Author\"],\n",
    "    relationshipTypes=[\"CO_AUTHOR\"],\n",
    "    writeProperty=\"partition\"\n",
    ")"
   ]
  },
  {
   "cell_type": "code",
   "execution_count": 32,
   "metadata": {},
   "outputs": [
    {
     "data": {
      "text/html": [
       "<div>\n",
       "<style scoped>\n",
       "    .dataframe tbody tr th:only-of-type {\n",
       "        vertical-align: middle;\n",
       "    }\n",
       "\n",
       "    .dataframe tbody tr th {\n",
       "        vertical-align: top;\n",
       "    }\n",
       "\n",
       "    .dataframe thead th {\n",
       "        text-align: right;\n",
       "    }\n",
       "</style>\n",
       "<table border=\"1\" class=\"dataframe\">\n",
       "  <thead>\n",
       "    <tr style=\"text-align: right;\">\n",
       "      <th></th>\n",
       "      <th>requiredMemory</th>\n",
       "      <th>treeView</th>\n",
       "      <th>mapView</th>\n",
       "      <th>bytesMin</th>\n",
       "      <th>bytesMax</th>\n",
       "      <th>nodeCount</th>\n",
       "      <th>relationshipCount</th>\n",
       "      <th>heapPercentageMin</th>\n",
       "      <th>heapPercentageMax</th>\n",
       "    </tr>\n",
       "  </thead>\n",
       "  <tbody>\n",
       "    <tr>\n",
       "      <th>0</th>\n",
       "      <td>[4150 KiB ... 21 MiB]</td>\n",
       "      <td>Memory Estimation: [4150 KiB ... 21 MiB]\\n|-- ...</td>\n",
       "      <td>{'components': [{'components': [{'memoryUsage'...</td>\n",
       "      <td>4250241</td>\n",
       "      <td>23018104</td>\n",
       "      <td>66198</td>\n",
       "      <td>246592</td>\n",
       "      <td>0.1</td>\n",
       "      <td>0.1</td>\n",
       "    </tr>\n",
       "  </tbody>\n",
       "</table>\n",
       "</div>"
      ],
      "text/plain": [
       "          requiredMemory                                           treeView  \\\n",
       "0  [4150 KiB ... 21 MiB]  Memory Estimation: [4150 KiB ... 21 MiB]\\n|-- ...   \n",
       "\n",
       "                                             mapView  bytesMin  bytesMax  \\\n",
       "0  {'components': [{'components': [{'memoryUsage'...   4250241  23018104   \n",
       "\n",
       "   nodeCount  relationshipCount  heapPercentageMin  heapPercentageMax  \n",
       "0      66198             246592                0.1                0.1  "
      ]
     },
     "execution_count": 32,
     "metadata": {},
     "output_type": "execute_result"
    }
   ],
   "source": [
    "query = \"\"\"\n",
    "CALL gds.louvain.stream.estimate(\"myGraph\", {\n",
    "  nodeLabels: [\"Author\"],\n",
    "  relationshipTypes: [\"CO_AUTHOR\"],\n",
    "  includeIntermediateCommunities: true\n",
    "})\n",
    "\"\"\"\n",
    "gds.run_cypher(query)"
   ]
  },
  {
   "cell_type": "code",
   "execution_count": 33,
   "metadata": {},
   "outputs": [
    {
     "data": {
      "text/html": [
       "<div>\n",
       "<style scoped>\n",
       "    .dataframe tbody tr th:only-of-type {\n",
       "        vertical-align: middle;\n",
       "    }\n",
       "\n",
       "    .dataframe tbody tr th {\n",
       "        vertical-align: top;\n",
       "    }\n",
       "\n",
       "    .dataframe thead th {\n",
       "        text-align: right;\n",
       "    }\n",
       "</style>\n",
       "<table border=\"1\" class=\"dataframe\">\n",
       "  <thead>\n",
       "    <tr style=\"text-align: right;\">\n",
       "      <th></th>\n",
       "    </tr>\n",
       "  </thead>\n",
       "  <tbody>\n",
       "  </tbody>\n",
       "</table>\n",
       "</div>"
      ],
      "text/plain": [
       "Empty DataFrame\n",
       "Columns: []\n",
       "Index: []"
      ]
     },
     "execution_count": 33,
     "metadata": {},
     "output_type": "execute_result"
    }
   ],
   "source": [
    "query = \"\"\"\n",
    "CALL gds.louvain.stream(\"myGraph\", {\n",
    "  nodeLabels: [\"Author\"],\n",
    "  relationshipTypes: [\"CO_AUTHOR\"],\n",
    "  includeIntermediateCommunities: true\n",
    "})\n",
    "YIELD nodeId, intermediateCommunityIds\n",
    "WITH gds.util.asNode(nodeId) AS node, intermediateCommunityIds[0] AS smallestCommunity\n",
    "SET node.louvain = smallestCommunity\n",
    "\"\"\"\n",
    "gds.run_cypher(query)"
   ]
  },
  {
   "cell_type": "code",
   "execution_count": 34,
   "metadata": {},
   "outputs": [],
   "source": [
    "G.drop()\n",
    "G, _ = gds.graph.project(\n",
    "    \"myGraph\",\n",
    "    {\"Author\": {\"properties\": [\"triangles\", \"coefficient\", \"partition\", \"louvain\"]}},\n",
    "    {\"CO_AUTHOR\": {\"orientation\": \"UNDIRECTED\"}},\n",
    ")"
   ]
  },
  {
   "attachments": {},
   "cell_type": "markdown",
   "metadata": {},
   "source": [
    "# 5. Create a Machine Learning Pipeline"
   ]
  },
  {
   "cell_type": "code",
   "execution_count": 35,
   "metadata": {},
   "outputs": [
    {
     "data": {
      "text/plain": [
       "name                                                           lp_pipe\n",
       "nodePropertySteps                                                   []\n",
       "featureSteps         [{'name': 'L2', 'config': {'nodeProperties': [...\n",
       "splitConfig          {'negativeSamplingRatio': 1.0, 'testFraction':...\n",
       "autoTuningConfig                                      {'maxTrials': 5}\n",
       "parameterSpace       {'MultilayerPerceptron': [], 'RandomForest': [...\n",
       "Name: 0, dtype: object"
      ]
     },
     "execution_count": 35,
     "metadata": {},
     "output_type": "execute_result"
    }
   ],
   "source": [
    "exists_result = gds.beta.pipeline.exists(\"lp_pipe\")\n",
    "if exists_result[\"exists\"]:\n",
    "    lp_pipe = gds.pipeline.get(\"lp_pipe\")\n",
    "    lp_pipe.drop()\n",
    "\n",
    "lp_pipe = gds.lp_pipe(\"lp_pipe\")\n",
    "\n",
    "# lp_pipe.addNodeProperty(\n",
    "#     \"fastrp\",\n",
    "#     mutateProperty=\"embedding\",\n",
    "#     featureProperties=[\"trianglesTrain\", \"trianglesTest\", \"coefficientTrain\", \"coefficientTest\", \"partitionTrain\", \"partitionTest\", \"louvainTrain\", \"louvainTest\"],\n",
    "#     embeddingDimension=512,\n",
    "#     randomSeed=42,    \n",
    "#     propertyRatio=1.0,\n",
    "# )\n",
    "\n",
    "lp_pipe.addFeature(\"L2\", nodeProperties=[\"triangles\", \"coefficient\", \"partition\", \"louvain\"]) # L2, HADAMARD, COSINE, SAME_CATEGORY; \"triangles\", \"coefficient\", \"partition\", \"louvain\"\n",
    "lp_pipe.configureSplit(testFraction=0.2, validationFolds=5)\n",
    "lp_pipe.addRandomForest(numberOfDecisionTrees=30, maxDepth=10)\n",
    "lp_pipe.addLogisticRegression(maxEpochs=200, penalty=(0.0, 0.5))\n",
    "lp_pipe.configureAutoTuning(maxTrials=5)"
   ]
  },
  {
   "attachments": {},
   "cell_type": "markdown",
   "metadata": {},
   "source": [
    "# 6. Train"
   ]
  },
  {
   "cell_type": "code",
   "execution_count": 36,
   "metadata": {},
   "outputs": [
    {
     "data": {
      "application/vnd.jupyter.widget-view+json": {
       "model_id": "7f5aa737099f49a28f129611d56af7bf",
       "version_major": 2,
       "version_minor": 0
      },
      "text/plain": [
       "Link Prediction Train Pipeline:   0%|          | 0/100 [00:00<?, ?%/s]"
      ]
     },
     "metadata": {},
     "output_type": "display_data"
    }
   ],
   "source": [
    "exists_result = gds.beta.model.exists(\"lp_model\")\n",
    "if exists_result[\"exists\"]:\n",
    "    lp_model = gds.model.get(\"lp_model\")\n",
    "    lp_model.drop()\n",
    "\n",
    "lp_model, lp_stats = lp_pipe.train(\n",
    "    G,\n",
    "    modelName=\"lp_model\",\n",
    "    targetRelationshipType=\"CO_AUTHOR\",\n",
    "    randomSeed=42,\n",
    ")"
   ]
  },
  {
   "attachments": {},
   "cell_type": "markdown",
   "metadata": {},
   "source": [
    "# 7. Predict Links"
   ]
  },
  {
   "cell_type": "code",
   "execution_count": 37,
   "metadata": {},
   "outputs": [
    {
     "name": "stdout",
     "output_type": "stream",
     "text": [
      "modelSelectionStats    {'modelCandidates': [{'metrics': {'AUCPR': {'v...\n",
      "trainMillis                                                         4591\n",
      "modelInfo              {'pipeline': {'nodePropertySteps': [], 'featur...\n",
      "configuration          {'targetNodeLabel': '*', 'targetRelationshipTy...\n",
      "Name: 0, dtype: object\n",
      "{'AUCPR': {'test': 0.9814600151268293, 'outerTrain': 0.9824956806744864, 'validation': {'avg': 0.9813977583298268, 'min': 0.9802378997744383, 'max': 0.9829415398163347}, 'train': {'avg': 0.9837504235348982, 'min': 0.9829088051233339, 'max': 0.9861786293924606}}}\n",
      "0.9814600151268293\n"
     ]
    }
   ],
   "source": [
    "print(lp_stats)\n",
    "print(lp_stats[\"modelInfo\"][\"metrics\"])\n",
    "print(lp_stats[\"modelInfo\"][\"metrics\"][\"AUCPR\"][\"test\"])\n",
    "\n",
    "# metrics = lp_model.metrics()\n",
    "# assert \"AUCPR\" in metrics\n",
    "# print(metrics)\n",
    "# mutate_result = lp_model.predict_mutate(G, topN=5, mutateRelationshipType=\"PRED_REL\")\n",
    "# assert mutate_result[\"relationshipsWritten\"] == 5 * 2  # Undirected relationships\n",
    "# print(mutate_result)"
   ]
  },
  {
   "attachments": {},
   "cell_type": "markdown",
   "metadata": {},
   "source": [
    "# (postprocessing) free up memory"
   ]
  },
  {
   "cell_type": "code",
   "execution_count": 38,
   "metadata": {},
   "outputs": [],
   "source": [
    "lp_pipe.drop()\n",
    "lp_model.drop()\n",
    "G.drop()\n",
    "query = \"\"\"\n",
    "MATCH (n) DETACH DELETE n\n",
    "\"\"\"\n",
    "gds.run_cypher(query)\n",
    "gds.close()"
   ]
  }
 ],
 "metadata": {
  "kernelspec": {
   "display_name": "base",
   "language": "python",
   "name": "python3"
  },
  "language_info": {
   "codemirror_mode": {
    "name": "ipython",
    "version": 3
   },
   "file_extension": ".py",
   "mimetype": "text/x-python",
   "name": "python",
   "nbconvert_exporter": "python",
   "pygments_lexer": "ipython3",
   "version": "3.8.13"
  }
 },
 "nbformat": 4,
 "nbformat_minor": 1
}
