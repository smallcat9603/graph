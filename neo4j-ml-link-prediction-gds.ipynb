{
 "cells": [
  {
   "cell_type": "code",
   "execution_count": 426,
   "metadata": {},
   "outputs": [],
   "source": [
    "from graphdatascience import GraphDataScience\n",
    "\n",
    "import matplotlib.pyplot as plt\n",
    "plt.style.use('fivethirtyeight') "
   ]
  },
  {
   "attachments": {},
   "cell_type": "markdown",
   "metadata": {},
   "source": [
    "# neo4j desktop (5.3.0, m1)"
   ]
  },
  {
   "cell_type": "code",
   "execution_count": 427,
   "metadata": {},
   "outputs": [
    {
     "name": "stdout",
     "output_type": "stream",
     "text": [
      "2.3.2\n"
     ]
    }
   ],
   "source": [
    "host = \"bolt://localhost:7687\"\n",
    "user = \"neo4j\"\n",
    "password= \"j4oenj4oen\"\n",
    "\n",
    "gds = GraphDataScience(host, auth=(user, password))\n",
    "print(gds.version())"
   ]
  },
  {
   "attachments": {},
   "cell_type": "markdown",
   "metadata": {},
   "source": [
    "# 1. Import Data into Neo4j"
   ]
  },
  {
   "cell_type": "code",
   "execution_count": 428,
   "metadata": {},
   "outputs": [
    {
     "data": {
      "text/html": [
       "<div>\n",
       "<style scoped>\n",
       "    .dataframe tbody tr th:only-of-type {\n",
       "        vertical-align: middle;\n",
       "    }\n",
       "\n",
       "    .dataframe tbody tr th {\n",
       "        vertical-align: top;\n",
       "    }\n",
       "\n",
       "    .dataframe thead th {\n",
       "        text-align: right;\n",
       "    }\n",
       "</style>\n",
       "<table border=\"1\" class=\"dataframe\">\n",
       "  <thead>\n",
       "    <tr style=\"text-align: right;\">\n",
       "      <th></th>\n",
       "      <th>batches</th>\n",
       "      <th>total</th>\n",
       "      <th>timeTaken</th>\n",
       "      <th>committedOperations</th>\n",
       "      <th>failedOperations</th>\n",
       "      <th>failedBatches</th>\n",
       "      <th>retries</th>\n",
       "      <th>errorMessages</th>\n",
       "      <th>batch</th>\n",
       "      <th>operations</th>\n",
       "      <th>wasTerminated</th>\n",
       "      <th>failedParams</th>\n",
       "      <th>updateStatistics</th>\n",
       "    </tr>\n",
       "  </thead>\n",
       "  <tbody>\n",
       "    <tr>\n",
       "      <th>0</th>\n",
       "      <td>6</td>\n",
       "      <td>51956</td>\n",
       "      <td>18</td>\n",
       "      <td>51956</td>\n",
       "      <td>0</td>\n",
       "      <td>0</td>\n",
       "      <td>0</td>\n",
       "      <td>{}</td>\n",
       "      <td>{'total': 6, 'committed': 6, 'failed': 0, 'err...</td>\n",
       "      <td>{'total': 51956, 'committed': 51956, 'failed':...</td>\n",
       "      <td>False</td>\n",
       "      <td>{}</td>\n",
       "      <td>{'nodesDeleted': 0, 'labelsAdded': 132255, 're...</td>\n",
       "    </tr>\n",
       "  </tbody>\n",
       "</table>\n",
       "</div>"
      ],
      "text/plain": [
       "   batches  total  timeTaken  committedOperations  failedOperations  \\\n",
       "0        6  51956         18                51956                 0   \n",
       "\n",
       "   failedBatches  retries errorMessages  \\\n",
       "0              0        0            {}   \n",
       "\n",
       "                                               batch  \\\n",
       "0  {'total': 6, 'committed': 6, 'failed': 0, 'err...   \n",
       "\n",
       "                                          operations  wasTerminated  \\\n",
       "0  {'total': 51956, 'committed': 51956, 'failed':...          False   \n",
       "\n",
       "  failedParams                                   updateStatistics  \n",
       "0           {}  {'nodesDeleted': 0, 'labelsAdded': 132255, 're...  "
      ]
     },
     "execution_count": 428,
     "metadata": {},
     "output_type": "execute_result"
    }
   ],
   "source": [
    "query = \"\"\"\n",
    "CREATE CONSTRAINT constraint_article IF NOT EXISTS\n",
    "For (article:Article) REQUIRE article.index IS UNIQUE\n",
    "\"\"\"\n",
    "gds.run_cypher(query)\n",
    "\n",
    "query = \"\"\"\n",
    "CREATE CONSTRAINT constraint_author IF NOT EXISTS \n",
    "For (author:Author) REQUIRE author.name IS UNIQUE\n",
    "\"\"\"\n",
    "gds.run_cypher(query)\n",
    "\n",
    "query = \"\"\"\n",
    "CALL apoc.periodic.iterate(\n",
    "'UNWIND [\"dblp-ref-0.json\",\"dblp-ref-1.json\", \"dblp-ref-2.json\",\"dblp-ref-3.json\"] AS file \n",
    "CALL apoc.load.json(\"file:///\" + file) \n",
    "YIELD value WHERE value.venue IN [\"Lecture Notes in Computer Science\", \"Communications of The ACM\", \"international conference on software engineering\", \"advances in computing and communications\"]\n",
    "return value', \n",
    "'MERGE (a:Article {index:value.id}) ON CREATE SET a += apoc.map.clean(value,[\"id\",\"authors\",\"references\"],[0]) WITH a, value.authors as authors \n",
    "UNWIND authors as author \n",
    "MERGE (b:Author {name:author}) \n",
    "MERGE (b)<-[:AUTHOR]-(a)', \n",
    "{batchSize:10000, parallel:true});\n",
    "\"\"\"\n",
    "gds.run_cypher(query)"
   ]
  },
  {
   "attachments": {},
   "cell_type": "markdown",
   "metadata": {},
   "source": [
    "# 2. The Coauthorship Graph"
   ]
  },
  {
   "cell_type": "code",
   "execution_count": 429,
   "metadata": {},
   "outputs": [
    {
     "data": {
      "text/html": [
       "<div>\n",
       "<style scoped>\n",
       "    .dataframe tbody tr th:only-of-type {\n",
       "        vertical-align: middle;\n",
       "    }\n",
       "\n",
       "    .dataframe tbody tr th {\n",
       "        vertical-align: top;\n",
       "    }\n",
       "\n",
       "    .dataframe thead th {\n",
       "        text-align: right;\n",
       "    }\n",
       "</style>\n",
       "<table border=\"1\" class=\"dataframe\">\n",
       "  <thead>\n",
       "    <tr style=\"text-align: right;\">\n",
       "      <th></th>\n",
       "    </tr>\n",
       "  </thead>\n",
       "  <tbody>\n",
       "  </tbody>\n",
       "</table>\n",
       "</div>"
      ],
      "text/plain": [
       "Empty DataFrame\n",
       "Columns: []\n",
       "Index: []"
      ]
     },
     "execution_count": 429,
     "metadata": {},
     "output_type": "execute_result"
    }
   ],
   "source": [
    "query = \"\"\"\n",
    "MATCH (a1)<-[:AUTHOR]-(paper)-[:AUTHOR]->(a2:Author) \n",
    "WITH a1, a2, paper \n",
    "ORDER BY a1, paper.year \n",
    "WITH a1, a2, collect(paper)[0].year AS year, count(*) AS collaborations \n",
    "MERGE (a1)-[coauthor:CO_AUTHOR {year: year}]-(a2) \n",
    "SET coauthor.collaborations = collaborations;\n",
    "\"\"\"\n",
    "gds.run_cypher(query)"
   ]
  },
  {
   "attachments": {},
   "cell_type": "markdown",
   "metadata": {},
   "source": [
    "# 3. Create Training and Testing Datasets"
   ]
  },
  {
   "cell_type": "code",
   "execution_count": 430,
   "metadata": {},
   "outputs": [
    {
     "data": {
      "image/png": "[encoded data removed]",
      "text/plain": [
       "<Figure size 1500x800 with 1 Axes>"
      ]
     },
     "metadata": {},
     "output_type": "display_data"
    }
   ],
   "source": [
    "query = \"\"\"\n",
    "MATCH (article:Article) \n",
    "RETURN article.year AS year, count(*) AS count\n",
    "ORDER BY year \n",
    "\"\"\"\n",
    "by_year = gds.run_cypher(query)\n",
    "\n",
    "ax = by_year.plot(kind='bar', x='year', y='count', legend=None, figsize=(15,8)) \n",
    "ax.xaxis.set_label_text(\"\") \n",
    "plt.tight_layout() \n",
    "# plt.show()\n",
    "plt.savefig(\"figs/by_year.jpg\")"
   ]
  },
  {
   "attachments": {},
   "cell_type": "markdown",
   "metadata": {},
   "source": [
    "# 4. Project Graph"
   ]
  },
  {
   "cell_type": "code",
   "execution_count": 431,
   "metadata": {},
   "outputs": [],
   "source": [
    "exists_result = gds.graph.exists(\"myGraph\")\n",
    "if exists_result[\"exists\"]:\n",
    "    G = gds.graph.get(\"myGraph\")\n",
    "    G.drop()\n",
    "\n",
    "G, _ = gds.graph.project(\n",
    "    \"myGraph\",\n",
    "    [\"Author\"],\n",
    "    {\"CO_AUTHOR\": {\"orientation\": \"UNDIRECTED\"}}\n",
    ")"
   ]
  },
  {
   "cell_type": "code",
   "execution_count": 432,
   "metadata": {},
   "outputs": [
    {
     "data": {
      "text/plain": [
       "requiredMemory                                                 627 KiB\n",
       "treeView             Memory Estimation: 627 KiB\\n|-- algorithm: 627...\n",
       "mapView              {'components': [{'components': [{'memoryUsage'...\n",
       "bytesMin                                                        642552\n",
       "bytesMax                                                        642552\n",
       "nodeCount                                                        80299\n",
       "relationshipCount                                               310448\n",
       "heapPercentageMin                                                  0.1\n",
       "heapPercentageMax                                                  0.1\n",
       "Name: 0, dtype: object"
      ]
     },
     "execution_count": 432,
     "metadata": {},
     "output_type": "execute_result"
    }
   ],
   "source": [
    "\n",
    "gds.triangleCount.write.estimate(\n",
    "    G,\n",
    "    nodeLabels=[\"Author\"],\n",
    "    relationshipTypes=[\"CO_AUTHOR\"],\n",
    "    writeProperty=\"triangles\"\n",
    ")"
   ]
  },
  {
   "cell_type": "code",
   "execution_count": 433,
   "metadata": {},
   "outputs": [
    {
     "data": {
      "text/plain": [
       "writeMillis                                                            110\n",
       "nodePropertiesWritten                                                80299\n",
       "globalTriangleCount                                                 199813\n",
       "nodeCount                                                            80299\n",
       "postProcessingMillis                                                     0\n",
       "preProcessingMillis                                                      0\n",
       "computeMillis                                                           26\n",
       "configuration            {'jobId': '581a3820-efd2-4099-840c-afd6bc3a7e1...\n",
       "Name: 0, dtype: object"
      ]
     },
     "execution_count": 433,
     "metadata": {},
     "output_type": "execute_result"
    }
   ],
   "source": [
    "gds.triangleCount.write(\n",
    "    G,\n",
    "    nodeLabels=[\"Author\"],\n",
    "    relationshipTypes=[\"CO_AUTHOR\"],\n",
    "    writeProperty=\"triangles\"\n",
    ")"
   ]
  },
  {
   "cell_type": "code",
   "execution_count": 434,
   "metadata": {},
   "outputs": [
    {
     "data": {
      "text/plain": [
       "requiredMemory                                                1254 KiB\n",
       "treeView             Memory Estimation: 1254 KiB\\n|-- algorithm: 12...\n",
       "mapView              {'components': [{'components': [{'memoryUsage'...\n",
       "bytesMin                                                       1285080\n",
       "bytesMax                                                       1285080\n",
       "nodeCount                                                        80299\n",
       "relationshipCount                                               310448\n",
       "heapPercentageMin                                                  0.1\n",
       "heapPercentageMax                                                  0.1\n",
       "Name: 0, dtype: object"
      ]
     },
     "execution_count": 434,
     "metadata": {},
     "output_type": "execute_result"
    }
   ],
   "source": [
    "gds.localClusteringCoefficient.write.estimate(\n",
    "    G,\n",
    "    nodeLabels=[\"Author\"],\n",
    "    relationshipTypes=[\"CO_AUTHOR\"],\n",
    "    writeProperty=\"coefficient\"\n",
    ")"
   ]
  },
  {
   "cell_type": "code",
   "execution_count": 435,
   "metadata": {},
   "outputs": [
    {
     "data": {
      "text/plain": [
       "writeMillis                                                                   339\n",
       "nodePropertiesWritten                                                       80299\n",
       "averageClusteringCoefficient                                             0.656957\n",
       "nodeCount                                                                   80299\n",
       "postProcessingMillis                                                            0\n",
       "preProcessingMillis                                                             0\n",
       "computeMillis                                                                  28\n",
       "configuration                   {'jobId': '04a0a8bd-6f10-47e3-8d41-f26240719ae...\n",
       "Name: 0, dtype: object"
      ]
     },
     "execution_count": 435,
     "metadata": {},
     "output_type": "execute_result"
    }
   ],
   "source": [
    "gds.localClusteringCoefficient.write(\n",
    "    G,\n",
    "    nodeLabels=[\"Author\"],\n",
    "    relationshipTypes=[\"CO_AUTHOR\"],\n",
    "    writeProperty=\"coefficient\"\n",
    ")"
   ]
  },
  {
   "cell_type": "code",
   "execution_count": 436,
   "metadata": {},
   "outputs": [
    {
     "data": {
      "text/plain": [
       "requiredMemory                                  [629 KiB ... 8820 KiB]\n",
       "treeView             Memory Estimation: [629 KiB ... 8820 KiB]\\n|--...\n",
       "mapView              {'components': [{'components': [{'memoryUsage'...\n",
       "bytesMin                                                        644448\n",
       "bytesMax                                                       9032544\n",
       "nodeCount                                                        80299\n",
       "relationshipCount                                               310448\n",
       "heapPercentageMin                                                  0.1\n",
       "heapPercentageMax                                                  0.1\n",
       "Name: 0, dtype: object"
      ]
     },
     "execution_count": 436,
     "metadata": {},
     "output_type": "execute_result"
    }
   ],
   "source": [
    "gds.labelPropagation.write.estimate(\n",
    "    G,\n",
    "    nodeLabels=[\"Author\"],\n",
    "    relationshipTypes=[\"CO_AUTHOR\"],\n",
    "    writeProperty=\"partition\"\n",
    ")"
   ]
  },
  {
   "cell_type": "code",
   "execution_count": 437,
   "metadata": {},
   "outputs": [
    {
     "data": {
      "text/plain": [
       "writeMillis                                                            424\n",
       "nodePropertiesWritten                                                80299\n",
       "ranIterations                                                           10\n",
       "didConverge                                                          False\n",
       "communityCount                                                       16015\n",
       "communityDistribution    {'p99': 38, 'min': 1, 'max': 882, 'mean': 5.01...\n",
       "postProcessingMillis                                                     4\n",
       "preProcessingMillis                                                      0\n",
       "computeMillis                                                          249\n",
       "configuration            {'jobId': 'a1e9b4ae-1a2a-4cca-bca9-7291716f334...\n",
       "Name: 0, dtype: object"
      ]
     },
     "execution_count": 437,
     "metadata": {},
     "output_type": "execute_result"
    }
   ],
   "source": [
    "gds.labelPropagation.write(\n",
    "    G,\n",
    "    nodeLabels=[\"Author\"],\n",
    "    relationshipTypes=[\"CO_AUTHOR\"],\n",
    "    writeProperty=\"partition\"\n",
    ")"
   ]
  },
  {
   "cell_type": "code",
   "execution_count": 438,
   "metadata": {},
   "outputs": [
    {
     "data": {
      "text/html": [
       "<div>\n",
       "<style scoped>\n",
       "    .dataframe tbody tr th:only-of-type {\n",
       "        vertical-align: middle;\n",
       "    }\n",
       "\n",
       "    .dataframe tbody tr th {\n",
       "        vertical-align: top;\n",
       "    }\n",
       "\n",
       "    .dataframe thead th {\n",
       "        text-align: right;\n",
       "    }\n",
       "</style>\n",
       "<table border=\"1\" class=\"dataframe\">\n",
       "  <thead>\n",
       "    <tr style=\"text-align: right;\">\n",
       "      <th></th>\n",
       "      <th>requiredMemory</th>\n",
       "      <th>treeView</th>\n",
       "      <th>mapView</th>\n",
       "      <th>bytesMin</th>\n",
       "      <th>bytesMax</th>\n",
       "      <th>nodeCount</th>\n",
       "      <th>relationshipCount</th>\n",
       "      <th>heapPercentageMin</th>\n",
       "      <th>heapPercentageMax</th>\n",
       "    </tr>\n",
       "  </thead>\n",
       "  <tbody>\n",
       "    <tr>\n",
       "      <th>0</th>\n",
       "      <td>[5033 KiB ... 26 MiB]</td>\n",
       "      <td>Memory Estimation: [5033 KiB ... 26 MiB]\\n|-- ...</td>\n",
       "      <td>{'components': [{'components': [{'memoryUsage'...</td>\n",
       "      <td>5154465</td>\n",
       "      <td>27458232</td>\n",
       "      <td>80299</td>\n",
       "      <td>310448</td>\n",
       "      <td>0.1</td>\n",
       "      <td>0.1</td>\n",
       "    </tr>\n",
       "  </tbody>\n",
       "</table>\n",
       "</div>"
      ],
      "text/plain": [
       "          requiredMemory                                           treeView  \\\n",
       "0  [5033 KiB ... 26 MiB]  Memory Estimation: [5033 KiB ... 26 MiB]\\n|-- ...   \n",
       "\n",
       "                                             mapView  bytesMin  bytesMax  \\\n",
       "0  {'components': [{'components': [{'memoryUsage'...   5154465  27458232   \n",
       "\n",
       "   nodeCount  relationshipCount  heapPercentageMin  heapPercentageMax  \n",
       "0      80299             310448                0.1                0.1  "
      ]
     },
     "execution_count": 438,
     "metadata": {},
     "output_type": "execute_result"
    }
   ],
   "source": [
    "query = \"\"\"\n",
    "CALL gds.louvain.stream.estimate(\"myGraph\", {\n",
    "  nodeLabels: [\"Author\"],\n",
    "  relationshipTypes: [\"CO_AUTHOR\"],\n",
    "  includeIntermediateCommunities: true\n",
    "})\n",
    "\"\"\"\n",
    "gds.run_cypher(query)"
   ]
  },
  {
   "cell_type": "code",
   "execution_count": 439,
   "metadata": {},
   "outputs": [
    {
     "data": {
      "text/html": [
       "<div>\n",
       "<style scoped>\n",
       "    .dataframe tbody tr th:only-of-type {\n",
       "        vertical-align: middle;\n",
       "    }\n",
       "\n",
       "    .dataframe tbody tr th {\n",
       "        vertical-align: top;\n",
       "    }\n",
       "\n",
       "    .dataframe thead th {\n",
       "        text-align: right;\n",
       "    }\n",
       "</style>\n",
       "<table border=\"1\" class=\"dataframe\">\n",
       "  <thead>\n",
       "    <tr style=\"text-align: right;\">\n",
       "      <th></th>\n",
       "    </tr>\n",
       "  </thead>\n",
       "  <tbody>\n",
       "  </tbody>\n",
       "</table>\n",
       "</div>"
      ],
      "text/plain": [
       "Empty DataFrame\n",
       "Columns: []\n",
       "Index: []"
      ]
     },
     "execution_count": 439,
     "metadata": {},
     "output_type": "execute_result"
    }
   ],
   "source": [
    "query = \"\"\"\n",
    "CALL gds.louvain.stream(\"myGraph\", {\n",
    "  nodeLabels: [\"Author\"],\n",
    "  relationshipTypes: [\"CO_AUTHOR\"],\n",
    "  includeIntermediateCommunities: true\n",
    "})\n",
    "YIELD nodeId, intermediateCommunityIds\n",
    "WITH gds.util.asNode(nodeId) AS node, intermediateCommunityIds[0] AS smallestCommunity\n",
    "SET node.louvain = smallestCommunity\n",
    "\"\"\"\n",
    "gds.run_cypher(query)"
   ]
  },
  {
   "cell_type": "code",
   "execution_count": 440,
   "metadata": {},
   "outputs": [],
   "source": [
    "G.drop()\n",
    "G, _ = gds.graph.project(\n",
    "    \"myGraph\",\n",
    "    {\"Author\": {\"properties\": [\"triangles\", \"coefficient\", \"partition\", \"louvain\"]}},\n",
    "    {\"CO_AUTHOR\": {\"orientation\": \"UNDIRECTED\"}},\n",
    ")"
   ]
  },
  {
   "attachments": {},
   "cell_type": "markdown",
   "metadata": {},
   "source": [
    "# 5. Create a Machine Learning Pipeline"
   ]
  },
  {
   "cell_type": "code",
   "execution_count": 441,
   "metadata": {},
   "outputs": [
    {
     "data": {
      "text/plain": [
       "name                                                           lp_pipe\n",
       "nodePropertySteps                                                   []\n",
       "featureSteps         [{'name': 'L2', 'config': {'nodeProperties': [...\n",
       "splitConfig          {'negativeSamplingRatio': 1.0, 'testFraction':...\n",
       "autoTuningConfig                                      {'maxTrials': 5}\n",
       "parameterSpace       {'MultilayerPerceptron': [], 'RandomForest': [...\n",
       "Name: 0, dtype: object"
      ]
     },
     "execution_count": 441,
     "metadata": {},
     "output_type": "execute_result"
    }
   ],
   "source": [
    "exists_result = gds.beta.pipeline.exists(\"lp_pipe\")\n",
    "if exists_result[\"exists\"]:\n",
    "    lp_pipe = gds.pipeline.get(\"lp_pipe\")\n",
    "    lp_pipe.drop()\n",
    "\n",
    "lp_pipe = gds.lp_pipe(\"lp_pipe\")\n",
    "\n",
    "# lp_pipe.addNodeProperty(\n",
    "#     \"fastrp\",\n",
    "#     mutateProperty=\"embedding\",\n",
    "#     featureProperties=[\"trianglesTrain\", \"trianglesTest\", \"coefficientTrain\", \"coefficientTest\", \"partitionTrain\", \"partitionTest\", \"louvainTrain\", \"louvainTest\"],\n",
    "#     embeddingDimension=512,\n",
    "#     randomSeed=42,    \n",
    "#     propertyRatio=1.0,\n",
    "# )\n",
    "\n",
    "lp_pipe.addFeature(\"L2\", nodeProperties=[\"triangles\", \"coefficient\", \"partition\", \"louvain\"]) # L2, HADAMARD, COSINE, SAME_CATEGORY\n",
    "lp_pipe.configureSplit(testFraction=0.2, validationFolds=5)\n",
    "lp_pipe.addRandomForest(numberOfDecisionTrees=30, maxDepth=10)\n",
    "lp_pipe.addLogisticRegression(maxEpochs=200, penalty=(0.0, 0.5))\n",
    "lp_pipe.configureAutoTuning(maxTrials=5)"
   ]
  },
  {
   "attachments": {},
   "cell_type": "markdown",
   "metadata": {},
   "source": [
    "# 6. Train"
   ]
  },
  {
   "cell_type": "code",
   "execution_count": 442,
   "metadata": {},
   "outputs": [
    {
     "data": {
      "application/vnd.jupyter.widget-view+json": {
       "model_id": "5027192f35724e2090a35f7962af99ee",
       "version_major": 2,
       "version_minor": 0
      },
      "text/plain": [
       "Link Prediction Train Pipeline:   0%|          | 0/100 [00:00<?, ?%/s]"
      ]
     },
     "metadata": {},
     "output_type": "display_data"
    }
   ],
   "source": [
    "exists_result = gds.beta.model.exists(\"lp_model\")\n",
    "if exists_result[\"exists\"]:\n",
    "    lp_model = gds.model.get(\"lp_model\")\n",
    "    lp_model.drop()\n",
    "\n",
    "lp_model, lp_stats = lp_pipe.train(\n",
    "    G,\n",
    "    modelName=\"lp_model\",\n",
    "    targetRelationshipType=\"CO_AUTHOR\",\n",
    "    randomSeed=42,\n",
    ")"
   ]
  },
  {
   "attachments": {},
   "cell_type": "markdown",
   "metadata": {},
   "source": [
    "# 7. Predict Links"
   ]
  },
  {
   "cell_type": "code",
   "execution_count": 443,
   "metadata": {},
   "outputs": [
    {
     "name": "stdout",
     "output_type": "stream",
     "text": [
      "modelSelectionStats    {'modelCandidates': [{'metrics': {'AUCPR': {'v...\n",
      "trainMillis                                                         2925\n",
      "modelInfo              {'pipeline': {'nodePropertySteps': [], 'featur...\n",
      "configuration          {'targetNodeLabel': '*', 'targetRelationshipTy...\n",
      "Name: 0, dtype: object\n",
      "{'AUCPR': {'test': 0.9812806536806291, 'outerTrain': 0.9826542601083966, 'validation': {'min': 0.980296682820643, 'avg': 0.9818285746016725, 'max': 0.9847024342336481}, 'train': {'min': 0.9832458954578824, 'avg': 0.9840509178880499, 'max': 0.9849157195463594}}}\n",
      "0.9812806536806291\n"
     ]
    }
   ],
   "source": [
    "print(lp_stats)\n",
    "print(lp_stats[\"modelInfo\"][\"metrics\"])\n",
    "print(lp_stats[\"modelInfo\"][\"metrics\"][\"AUCPR\"][\"test\"])\n",
    "\n",
    "# metrics = lp_model.metrics()\n",
    "# assert \"AUCPR\" in metrics\n",
    "# print(metrics)\n",
    "# mutate_result = lp_model.predict_mutate(G, topN=5, mutateRelationshipType=\"PRED_REL\")\n",
    "# assert mutate_result[\"relationshipsWritten\"] == 5 * 2  # Undirected relationships\n",
    "# print(mutate_result)"
   ]
  },
  {
   "attachments": {},
   "cell_type": "markdown",
   "metadata": {},
   "source": [
    "# (postprocessing) free up memory"
   ]
  },
  {
   "cell_type": "code",
   "execution_count": 444,
   "metadata": {},
   "outputs": [],
   "source": [
    "lp_pipe.drop()\n",
    "lp_model.drop()\n",
    "G.drop()\n",
    "query = \"\"\"\n",
    "MATCH (n) DETACH DELETE n\n",
    "\"\"\"\n",
    "gds.run_cypher(query)\n",
    "gds.close()"
   ]
  }
 ],
 "metadata": {
  "kernelspec": {
   "display_name": "base",
   "language": "python",
   "name": "python3"
  },
  "language_info": {
   "codemirror_mode": {
    "name": "ipython",
    "version": 3
   },
   "file_extension": ".py",
   "mimetype": "text/x-python",
   "name": "python",
   "nbconvert_exporter": "python",
   "pygments_lexer": "ipython3",
   "version": "3.8.13"
  }
 },
 "nbformat": 4,
 "nbformat_minor": 1
}
