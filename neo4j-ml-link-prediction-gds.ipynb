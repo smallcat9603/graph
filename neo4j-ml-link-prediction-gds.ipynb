{
 "cells": [
  {
   "cell_type": "code",
   "execution_count": null,
   "metadata": {},
   "outputs": [],
   "source": [
    "from graphdatascience import GraphDataScience\n",
    "\n",
    "import matplotlib.pyplot as plt\n",
    "plt.style.use('fivethirtyeight') "
   ]
  },
  {
   "attachments": {},
   "cell_type": "markdown",
   "metadata": {},
   "source": [
    "# neo4j desktop (5.3.0, m1)"
   ]
  },
  {
   "cell_type": "code",
   "execution_count": null,
   "metadata": {},
   "outputs": [],
   "source": [
    "host = \"bolt://localhost:7687\"\n",
    "user = \"neo4j\"\n",
    "password= \"j4oenj4oen\"\n",
    "\n",
    "gds = GraphDataScience(host, auth=(user, password))\n",
    "print(gds.version())"
   ]
  },
  {
   "attachments": {},
   "cell_type": "markdown",
   "metadata": {},
   "source": [
    "# 1. Import Data into Neo4j"
   ]
  },
  {
   "cell_type": "code",
   "execution_count": null,
   "metadata": {},
   "outputs": [],
   "source": [
    "query = \"\"\"\n",
    "CREATE CONSTRAINT constraint_article IF NOT EXISTS\n",
    "For (article:Article) REQUIRE article.index IS UNIQUE\n",
    "\"\"\"\n",
    "gds.run_cypher(query)\n",
    "\n",
    "query = \"\"\"\n",
    "CREATE CONSTRAINT constraint_author IF NOT EXISTS \n",
    "For (author:Author) REQUIRE author.name IS UNIQUE\n",
    "\"\"\"\n",
    "gds.run_cypher(query)\n",
    "\n",
    "query = \"\"\"\n",
    "CALL apoc.periodic.iterate(\n",
    "'UNWIND [\"dblp-ref-0.json\",\"dblp-ref-1.json\", \"dblp-ref-2.json\",\"dblp-ref-3.json\"] AS file \n",
    "CALL apoc.load.json(\"file:///\" + file) \n",
    "YIELD value WHERE value.venue IN [\"Lecture Notes in Computer Science\", \"Communications of The ACM\", \"international conference on software engineering\", \"advances in computing and communications\"]\n",
    "return value', \n",
    "'MERGE (a:Article {index:value.id}) ON CREATE SET a += apoc.map.clean(value,[\"id\",\"authors\",\"references\"],[0]) WITH a, value.authors as authors \n",
    "UNWIND authors as author \n",
    "MERGE (b:Author {name:author}) \n",
    "MERGE (b)<-[:AUTHOR]-(a)', \n",
    "{batchSize:10000, parallel:true});\n",
    "\"\"\"\n",
    "gds.run_cypher(query)"
   ]
  },
  {
   "attachments": {},
   "cell_type": "markdown",
   "metadata": {},
   "source": [
    "# 2. The Coauthorship Graph"
   ]
  },
  {
   "cell_type": "code",
   "execution_count": null,
   "metadata": {},
   "outputs": [],
   "source": [
    "query = \"\"\"\n",
    "MATCH (a1)<-[:AUTHOR]-(paper)-[:AUTHOR]->(a2:Author) \n",
    "WITH a1, a2, paper \n",
    "ORDER BY a1, paper.year \n",
    "WITH a1, a2, collect(paper)[0].year AS year, count(*) AS collaborations \n",
    "MERGE (a1)-[coauthor:CO_AUTHOR {year: year}]-(a2) \n",
    "SET coauthor.collaborations = collaborations;\n",
    "\"\"\"\n",
    "gds.run_cypher(query)"
   ]
  },
  {
   "attachments": {},
   "cell_type": "markdown",
   "metadata": {},
   "source": [
    "# 3. Create Training and Testing Datasets"
   ]
  },
  {
   "cell_type": "code",
   "execution_count": null,
   "metadata": {},
   "outputs": [],
   "source": [
    "query = \"\"\"\n",
    "MATCH (article:Article) \n",
    "RETURN article.year AS year, count(*) AS count\n",
    "ORDER BY year \n",
    "\"\"\"\n",
    "by_year = gds.run_cypher(query)\n",
    "\n",
    "ax = by_year.plot(kind='bar', x='year', y='count', legend=None, figsize=(15,8)) \n",
    "ax.xaxis.set_label_text(\"\") \n",
    "plt.tight_layout() \n",
    "# plt.show()\n",
    "plt.savefig(\"figs/by_year.jpg\")\n",
    "\n",
    "query = \"\"\"\n",
    "MATCH (article:Article) \n",
    "RETURN article.year < 2006 AS training, count(*) AS count\n",
    "\"\"\"\n",
    "gds.run_cypher(query)\n",
    "\n",
    "query = \"\"\"\n",
    "MATCH (a1)<-[:AUTHOR]-(paper)-[:AUTHOR]->(a2:Author) \n",
    "WITH a1, a2, paper \n",
    "ORDER BY a1, paper.year \n",
    "WITH a1, a2, collect(paper)[0].year AS year, count(*) AS collaborations WHERE year < 2006\n",
    "MERGE (a1)-[coauthor:CO_AUTHOR_EARLY {year: year}]-(a2) \n",
    "SET coauthor.collaborations = collaborations;\n",
    "\"\"\"\n",
    "gds.run_cypher(query)\n",
    "\n",
    "query = \"\"\"\n",
    "MATCH (a1)<-[:AUTHOR]-(paper)-[:AUTHOR]->(a2:Author) \n",
    "WITH a1, a2, paper \n",
    "ORDER BY a1, paper.year \n",
    "WITH a1, a2, collect(paper)[0].year AS year, count(*) AS collaborations WHERE year >= 2006\n",
    "MERGE (a1)-[coauthor:CO_AUTHOR_LATE {year: year}]-(a2) \n",
    "SET coauthor.collaborations = collaborations;\n",
    "\"\"\"\n",
    "gds.run_cypher(query)\n",
    "\n",
    "query = \"\"\"\n",
    "MATCH ()-[:CO_AUTHOR_EARLY]->() \n",
    "RETURN count(*) AS count\n",
    "\"\"\"\n",
    "gds.run_cypher(query)\n",
    "\n",
    "query = \"\"\"\n",
    "MATCH ()-[:CO_AUTHOR_LATE]->() \n",
    "RETURN count(*) AS count\n",
    "\"\"\"\n",
    "gds.run_cypher(query)  "
   ]
  },
  {
   "attachments": {},
   "cell_type": "markdown",
   "metadata": {},
   "source": [
    "# 4. Project Graph"
   ]
  },
  {
   "cell_type": "code",
   "execution_count": null,
   "metadata": {},
   "outputs": [],
   "source": [
    "exists_result = gds.graph.exists(\"myGraph\")\n",
    "if exists_result[\"exists\"]:\n",
    "    G = gds.graph.get(\"myGraph\")\n",
    "    G.drop()\n",
    "\n",
    "G, _ = gds.graph.project(\n",
    "    \"myGraph\",\n",
    "    [\"Author\"],\n",
    "    {\"CO_AUTHOR_EARLY\": {\"orientation\": \"UNDIRECTED\"}, \"CO_AUTHOR\": {\"orientation\": \"UNDIRECTED\"}}\n",
    ")\n",
    "\n",
    "gds.triangleCount.write(\n",
    "    G,\n",
    "    nodeLabels=[\"Author\"],\n",
    "    relationshipTypes=[\"CO_AUTHOR_EARLY\"],\n",
    "    writeProperty=\"trianglesTrain\"\n",
    ")\n",
    "\n",
    "gds.triangleCount.write(\n",
    "    G,\n",
    "    nodeLabels=[\"Author\"],\n",
    "    relationshipTypes=[\"CO_AUTHOR\"],\n",
    "    writeProperty=\"trianglesTest\"\n",
    ")\n",
    "\n",
    "gds.localClusteringCoefficient.write(\n",
    "    G,\n",
    "    nodeLabels=[\"Author\"],\n",
    "    relationshipTypes=[\"CO_AUTHOR_EARLY\"],\n",
    "    writeProperty=\"coefficientTrain\"\n",
    ")\n",
    "\n",
    "gds.localClusteringCoefficient.write(\n",
    "    G,\n",
    "    nodeLabels=[\"Author\"],\n",
    "    relationshipTypes=[\"CO_AUTHOR\"],\n",
    "    writeProperty=\"coefficientTest\"\n",
    ")\n",
    "\n",
    "gds.labelPropagation.write(\n",
    "    G,\n",
    "    nodeLabels=[\"Author\"],\n",
    "    relationshipTypes=[\"CO_AUTHOR_EARLY\"],\n",
    "    writeProperty=\"partitionTrain\"\n",
    ")\n",
    "\n",
    "gds.labelPropagation.write(\n",
    "    G,\n",
    "    nodeLabels=[\"Author\"],\n",
    "    relationshipTypes=[\"CO_AUTHOR\"],\n",
    "    writeProperty=\"partitionTest\"\n",
    ")\n",
    "\n",
    "query = \"\"\"\n",
    "CALL gds.louvain.stream(\"myGraph\", {\n",
    "  nodeLabels: [\"Author\"],\n",
    "  relationshipTypes: [\"CO_AUTHOR_EARLY\"],\n",
    "  includeIntermediateCommunities: true\n",
    "})\n",
    "YIELD nodeId, intermediateCommunityIds\n",
    "WITH gds.util.asNode(nodeId) AS node, intermediateCommunityIds[0] AS smallestCommunity\n",
    "SET node.louvainTrain = smallestCommunity\n",
    "\"\"\"\n",
    "gds.run_cypher(query)\n",
    "\n",
    "query = \"\"\"\n",
    "CALL gds.louvain.stream(\"myGraph\", {\n",
    "  nodeLabels: [\"Author\"],\n",
    "  relationshipTypes: [\"CO_AUTHOR\"],\n",
    "  includeIntermediateCommunities: true\n",
    "})\n",
    "YIELD nodeId, intermediateCommunityIds\n",
    "WITH gds.util.asNode(nodeId) AS node, intermediateCommunityIds[0] AS smallestCommunity\n",
    "SET node.louvainTest = smallestCommunity\n",
    "\"\"\"\n",
    "gds.run_cypher(query)\n",
    "\n",
    "G.drop()\n",
    "G, _ = gds.graph.project(\n",
    "    \"myGraph\",\n",
    "    {\"Author\": {\"properties\": [\"trianglesTrain\", \"trianglesTest\", \"coefficientTrain\", \"coefficientTest\", \"partitionTrain\", \"partitionTest\", \"louvainTrain\", \"louvainTest\"]}},\n",
    "    {\"CO_AUTHOR_EARLY\": {\"orientation\": \"UNDIRECTED\"}, \"CO_AUTHOR\": {\"orientation\": \"UNDIRECTED\"}},\n",
    ")"
   ]
  },
  {
   "attachments": {},
   "cell_type": "markdown",
   "metadata": {},
   "source": [
    "# 5. Create a Machine Learning Pipeline"
   ]
  },
  {
   "cell_type": "code",
   "execution_count": null,
   "metadata": {},
   "outputs": [],
   "source": [
    "exists_result = gds.beta.pipeline.exists(\"lp_pipe_fastrp\")\n",
    "if exists_result[\"exists\"]:\n",
    "    lp_pipe_fastrp = gds.pipeline.get(\"lp_pipe_fastrp\")\n",
    "    lp_pipe_fastrp.drop()\n",
    "\n",
    "lp_pipe_fastrp = gds.lp_pipe(\"lp_pipe_fastrp\")\n",
    "lp_pipe_fastrp.addNodeProperty(\n",
    "    \"beta.hashgnn\",\n",
    "    mutateProperty=\"embedding\",\n",
    "    featureProperties=[\"trianglesTrain\", \"trianglesTest\", \"coefficientTrain\", \"coefficientTest\", \"partitionTrain\", \"partitionTest\", \"louvainTrain\", \"louvainTest\"],\n",
    "    heterogeneous=True,\n",
    "    iterations=4,\n",
    "    embeddingDensity=8,\n",
    "    binarizeFeatures={\"dimension\": 8, \"threshold\": 0},\n",
    "    randomSeed=42,\n",
    ")\n",
    "lp_pipe_fastrp.addFeature(\"hadamard\", nodeProperties=[\"embedding\"])\n",
    "lp_pipe_fastrp.configureSplit(testFraction=0.2, validationFolds=5)\n",
    "lp_pipe_fastrp.addRandomForest(numberOfDecisionTrees=30, maxDepth=10)"
   ]
  },
  {
   "attachments": {},
   "cell_type": "markdown",
   "metadata": {},
   "source": [
    "# 6. Train"
   ]
  },
  {
   "cell_type": "code",
   "execution_count": null,
   "metadata": {},
   "outputs": [],
   "source": [
    "lp_model_fastrp, lp_stats_fastrp = lp_pipe_fastrp.train(\n",
    "    G,\n",
    "    modelName=\"lp_model_fastrp\",\n",
    "    targetRelationshipType=\"CO_AUTHOR_EARLY\",\n",
    "    randomSeed=42,\n",
    ")"
   ]
  },
  {
   "attachments": {},
   "cell_type": "markdown",
   "metadata": {},
   "source": [
    "# 7. Predict Links"
   ]
  },
  {
   "cell_type": "code",
   "execution_count": null,
   "metadata": {},
   "outputs": [],
   "source": [
    "metrics = lp_model_fastrp.metrics()\n",
    "assert \"AUCPR\" in metrics\n",
    "mutate_result = lp_model_fastrp.predict_mutate(G, topN=5, mutateRelationshipType=\"PRED_REL\")\n",
    "assert mutate_result[\"relationshipsWritten\"] == 5 * 2  # Undirected relationships"
   ]
  },
  {
   "attachments": {},
   "cell_type": "markdown",
   "metadata": {},
   "source": [
    "# (postprocessing) free up memory"
   ]
  },
  {
   "cell_type": "code",
   "execution_count": null,
   "metadata": {},
   "outputs": [],
   "source": [
    "lp_pipe_fastrp.drop()\n",
    "lp_model_fastrp.drop()\n",
    "G.drop()\n",
    "query = \"\"\"\n",
    "MATCH (n) DETACH DELETE n\n",
    "\"\"\"\n",
    "gds.run_cypher(query)\n",
    "gds.close()"
   ]
  }
 ],
 "metadata": {
  "kernelspec": {
   "display_name": "base",
   "language": "python",
   "name": "python3"
  },
  "language_info": {
   "codemirror_mode": {
    "name": "ipython",
    "version": 3
   },
   "file_extension": ".py",
   "mimetype": "text/x-python",
   "name": "python",
   "nbconvert_exporter": "python",
   "pygments_lexer": "ipython3",
   "version": "3.8.13"
  }
 },
 "nbformat": 4,
 "nbformat_minor": 1
}
