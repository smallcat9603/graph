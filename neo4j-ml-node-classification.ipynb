{
 "cells": [
  {
   "cell_type": "code",
   "execution_count": 439,
   "metadata": {},
   "outputs": [],
   "source": [
    "import pandas as pd\n",
    "import numpy as np\n",
    "import json\n",
    "from graphdatascience import GraphDataScience"
   ]
  },
  {
   "cell_type": "code",
   "execution_count": 440,
   "metadata": {},
   "outputs": [
    {
     "name": "stdout",
     "output_type": "stream",
     "text": [
      "2.3.2\n"
     ]
    }
   ],
   "source": [
    "# neo4j desktop m1, 5.3.0\n",
    "host = \"bolt://localhost:7687\"\n",
    "user = \"neo4j\"\n",
    "password= \"j4oenj4oen\"\n",
    "\n",
    "gds = GraphDataScience(host, auth=(user, password))\n",
    "print(gds.version())"
   ]
  },
  {
   "cell_type": "code",
   "execution_count": 441,
   "metadata": {},
   "outputs": [],
   "source": [
    "# # (opt1) project graph in memory by pandas read_csv\n",
    "# cora_papers = \"data/cora_papers.csv\"\n",
    "# cora_cites = \"data/cora_cites.csv\"\n",
    "# papers = pd.read_csv(cora_papers, header=None)\n",
    "# cites = pd.read_csv(cora_cites, header=None)"
   ]
  },
  {
   "cell_type": "code",
   "execution_count": 442,
   "metadata": {},
   "outputs": [],
   "source": [
    "# # create nodes dataframe from csv\n",
    "subject_to_id = {\n",
    "    \"Neural_Networks\": 0,\n",
    "    \"Rule_Learning\": 1,\n",
    "    \"Reinforcement_Learning\": 2,\n",
    "    \"Probabilistic_Methods\": 3,\n",
    "    \"Theory\": 4,\n",
    "    \"Genetic_Algorithms\": 5,\n",
    "    \"Case_Based\": 6,\n",
    "}\n",
    "# nodes = pd.DataFrame().assign(\n",
    "#     nodeId=papers[0],\n",
    "#     labels=\"paper\",\n",
    "#     subject=papers[1].replace(subject_to_id),\n",
    "#     features=papers.iloc[:, 2:].apply(list, axis=1),\n",
    "# )\n",
    "# nodes.head()"
   ]
  },
  {
   "cell_type": "code",
   "execution_count": 443,
   "metadata": {},
   "outputs": [],
   "source": [
    "# # create edges dataframe from csv\n",
    "# dir_relationships = pd.DataFrame().assign(sourceNodeId=cites[0], targetNodeId=cites[1], relationshipType=\"CITES\")\n",
    "# inv_relationships = pd.DataFrame().assign(sourceNodeId=cites[1], targetNodeId=cites[0], relationshipType=\"CITES\")\n",
    "# relationships = pd.concat([dir_relationships, inv_relationships]).drop_duplicates()\n",
    "# relationships.head()"
   ]
  },
  {
   "cell_type": "code",
   "execution_count": 444,
   "metadata": {},
   "outputs": [],
   "source": [
    "# # create in-memory graph\n",
    "# G = gds.alpha.graph.construct(\"cora-graph\", nodes, relationships)\n",
    "# gds.graph.list()"
   ]
  },
  {
   "cell_type": "code",
   "execution_count": 445,
   "metadata": {},
   "outputs": [
    {
     "data": {
      "text/html": [
       "<div>\n",
       "<style scoped>\n",
       "    .dataframe tbody tr th:only-of-type {\n",
       "        vertical-align: middle;\n",
       "    }\n",
       "\n",
       "    .dataframe tbody tr th {\n",
       "        vertical-align: top;\n",
       "    }\n",
       "\n",
       "    .dataframe thead th {\n",
       "        text-align: right;\n",
       "    }\n",
       "</style>\n",
       "<table border=\"1\" class=\"dataframe\">\n",
       "  <thead>\n",
       "    <tr style=\"text-align: right;\">\n",
       "      <th></th>\n",
       "    </tr>\n",
       "  </thead>\n",
       "  <tbody>\n",
       "  </tbody>\n",
       "</table>\n",
       "</div>"
      ],
      "text/plain": [
       "Empty DataFrame\n",
       "Columns: []\n",
       "Index: []"
      ]
     },
     "execution_count": 445,
     "metadata": {},
     "output_type": "execute_result"
    }
   ],
   "source": [
    "# (opt2) write to neo4j by LOAD CSV cypher\n",
    "# file should be placed in import/ if using e.g., LOAD CSV FROM $url AS row FIELDTERMINATOR ' ' in cypher ('url': 'file:///...')\n",
    "subject_map = json.dumps(subject_to_id).replace('\"', \"`\")\n",
    "HOLDOUT_NODES = 10\n",
    "\n",
    "load_nodes = f\"\"\"\n",
    "  LOAD CSV FROM \"file:///cora_papers.csv\" AS row\n",
    "  WITH \n",
    "    {subject_map} AS subject_to_id,\n",
    "    toInteger(row[0]) AS nodeId, \n",
    "    row[1] AS subject, \n",
    "    toIntegerList(row[2..]) AS features\n",
    "  MERGE (p:Paper {{nodeId: nodeId, subject: subject_to_id[subject], features: features}})\n",
    "  WITH p LIMIT {HOLDOUT_NODES}\n",
    "  REMOVE p:Paper\n",
    "  SET p:UnclassifiedPaper\n",
    "\"\"\"\n",
    "\n",
    "load_relationships = f\"\"\"\n",
    "  LOAD CSV FROM \"file:///cora_cites.csv\" AS row\n",
    "  MATCH (n), (m) \n",
    "  WHERE n.nodeId = toInteger(row[0]) AND m.nodeId = toInteger(row[1])\n",
    "  MERGE (n)-[:CITES]->(m)\n",
    "\"\"\"\n",
    "\n",
    "# Load nodes and relationships on Neo4j\n",
    "gds.run_cypher(load_nodes)\n",
    "gds.run_cypher(load_relationships)"
   ]
  },
  {
   "cell_type": "code",
   "execution_count": 446,
   "metadata": {},
   "outputs": [],
   "source": [
    "# Create the projected graph containing both classified and unclassified nodes\n",
    "G, _ = gds.graph.project(\n",
    "    \"cora-graph\",\n",
    "    {\"Paper\": {\"properties\": [\"features\", \"subject\"]}, \"UnclassifiedPaper\": {\"properties\": [\"features\"]}},\n",
    "    {\"CITES\": {\"orientation\": \"UNDIRECTED\", \"aggregation\": \"SINGLE\"}},\n",
    ")\n",
    "\n",
    "assert G.node_count() == 2708\n",
    "assert G.relationship_count() == 10556"
   ]
  },
  {
   "cell_type": "code",
   "execution_count": 447,
   "metadata": {},
   "outputs": [
    {
     "data": {
      "text/plain": [
       "name                                                     cora-pipeline\n",
       "nodePropertySteps                                                   []\n",
       "featureProperties                                           [features]\n",
       "splitConfig                {'testFraction': 0.2, 'validationFolds': 5}\n",
       "autoTuningConfig                                      {'maxTrials': 5}\n",
       "parameterSpace       {'MultilayerPerceptron': [], 'RandomForest': [...\n",
       "Name: 0, dtype: object"
      ]
     },
     "execution_count": 447,
     "metadata": {},
     "output_type": "execute_result"
    }
   ],
   "source": [
    "# Create the pipeline\n",
    "node_pipeline, _ = gds.beta.pipeline.nodeClassification.create(\"cora-pipeline\")\n",
    "\n",
    "# \"Mark\" some node properties that will be used as features\n",
    "node_pipeline.selectFeatures([\"features\"])\n",
    "# If needed, change the train/test split ratio and the number of folds\n",
    "# for k-fold cross-validation\n",
    "node_pipeline.configureSplit(testFraction=0.2, validationFolds=5)\n",
    "# Add a model candidate to train (addLogisticRegression, addRandomForest, addMLP)\n",
    "node_pipeline.addLogisticRegression(maxEpochs=200, penalty=(0.0, 0.5))\n",
    "# Explicit set the number of trials for autotuning (default = 10)\n",
    "node_pipeline.configureAutoTuning(maxTrials=5)"
   ]
  },
  {
   "cell_type": "code",
   "execution_count": 448,
   "metadata": {},
   "outputs": [
    {
     "data": {
      "application/vnd.jupyter.widget-view+json": {
       "model_id": "d8aac9f0fcc84c8f9a0156df232c5b93",
       "version_major": 2,
       "version_minor": 0
      },
      "text/plain": [
       "Node Classification Train Pipeline:   0%|          | 0/100 [00:00<?, ?%/s]"
      ]
     },
     "metadata": {},
     "output_type": "display_data"
    },
    {
     "name": "stdout",
     "output_type": "stream",
     "text": [
      "0.7287325951256631\n"
     ]
    }
   ],
   "source": [
    "# (opt) use train_estimate to estimate the resources needed for training the model\n",
    "model, stats = node_pipeline.train(\n",
    "    G,\n",
    "    targetNodeLabels=[\"Paper\"],\n",
    "    modelName=\"cora-pipeline-model\",\n",
    "    targetProperty=\"subject\",\n",
    "    metrics=[\"F1_WEIGHTED\"],\n",
    "    randomSeed=42,\n",
    "    concurrency=4,\n",
    ")\n",
    "print(stats[\"modelInfo\"][\"metrics\"][\"F1_WEIGHTED\"][\"test\"])\n",
    "\n",
    "# # print all stats\n",
    "# print(stats.to_json(indent=2))"
   ]
  },
  {
   "cell_type": "code",
   "execution_count": 449,
   "metadata": {},
   "outputs": [
    {
     "name": "stdout",
     "output_type": "stream",
     "text": [
      "Class labels: [0, 1, 2, 3, 4, 5, 6]\n"
     ]
    },
    {
     "data": {
      "text/html": [
       "<div>\n",
       "<style scoped>\n",
       "    .dataframe tbody tr th:only-of-type {\n",
       "        vertical-align: middle;\n",
       "    }\n",
       "\n",
       "    .dataframe tbody tr th {\n",
       "        vertical-align: top;\n",
       "    }\n",
       "\n",
       "    .dataframe thead th {\n",
       "        text-align: right;\n",
       "    }\n",
       "</style>\n",
       "<table border=\"1\" class=\"dataframe\">\n",
       "  <thead>\n",
       "    <tr style=\"text-align: right;\">\n",
       "      <th></th>\n",
       "      <th>nodeId</th>\n",
       "      <th>predictedClass</th>\n",
       "      <th>predictedProbabilities</th>\n",
       "      <th>confidence</th>\n",
       "    </tr>\n",
       "  </thead>\n",
       "  <tbody>\n",
       "    <tr>\n",
       "      <th>0</th>\n",
       "      <td>2064</td>\n",
       "      <td>0</td>\n",
       "      <td>[0.43331478320672767, 0.07090129256540618, 0.0...</td>\n",
       "      <td>43.0</td>\n",
       "    </tr>\n",
       "    <tr>\n",
       "      <th>1</th>\n",
       "      <td>2065</td>\n",
       "      <td>5</td>\n",
       "      <td>[0.148825521214885, 0.10248697035946847, 0.047...</td>\n",
       "      <td>20.0</td>\n",
       "    </tr>\n",
       "    <tr>\n",
       "      <th>2</th>\n",
       "      <td>2066</td>\n",
       "      <td>2</td>\n",
       "      <td>[0.2504120326569696, 0.04005138780445343, 0.47...</td>\n",
       "      <td>47.0</td>\n",
       "    </tr>\n",
       "    <tr>\n",
       "      <th>3</th>\n",
       "      <td>2067</td>\n",
       "      <td>2</td>\n",
       "      <td>[0.02980749734591193, 0.031686487722152004, 0....</td>\n",
       "      <td>70.0</td>\n",
       "    </tr>\n",
       "    <tr>\n",
       "      <th>4</th>\n",
       "      <td>2068</td>\n",
       "      <td>3</td>\n",
       "      <td>[0.07802459101179884, 0.05023837133685244, 0.0...</td>\n",
       "      <td>61.0</td>\n",
       "    </tr>\n",
       "    <tr>\n",
       "      <th>5</th>\n",
       "      <td>2069</td>\n",
       "      <td>5</td>\n",
       "      <td>[0.10291879029602394, 0.16396779287525406, 0.1...</td>\n",
       "      <td>18.0</td>\n",
       "    </tr>\n",
       "    <tr>\n",
       "      <th>6</th>\n",
       "      <td>2070</td>\n",
       "      <td>6</td>\n",
       "      <td>[0.08536939302774896, 0.055509897709602504, 0....</td>\n",
       "      <td>49.0</td>\n",
       "    </tr>\n",
       "    <tr>\n",
       "      <th>7</th>\n",
       "      <td>2071</td>\n",
       "      <td>0</td>\n",
       "      <td>[0.4794333200887491, 0.03573533430796032, 0.06...</td>\n",
       "      <td>47.0</td>\n",
       "    </tr>\n",
       "    <tr>\n",
       "      <th>8</th>\n",
       "      <td>2072</td>\n",
       "      <td>0</td>\n",
       "      <td>[0.28146539850322, 0.07296843717126493, 0.0966...</td>\n",
       "      <td>28.0</td>\n",
       "    </tr>\n",
       "    <tr>\n",
       "      <th>9</th>\n",
       "      <td>2073</td>\n",
       "      <td>4</td>\n",
       "      <td>[0.1513538433752605, 0.05617760124948276, 0.16...</td>\n",
       "      <td>47.0</td>\n",
       "    </tr>\n",
       "  </tbody>\n",
       "</table>\n",
       "</div>"
      ],
      "text/plain": [
       "   nodeId  predictedClass                             predictedProbabilities  \\\n",
       "0    2064               0  [0.43331478320672767, 0.07090129256540618, 0.0...   \n",
       "1    2065               5  [0.148825521214885, 0.10248697035946847, 0.047...   \n",
       "2    2066               2  [0.2504120326569696, 0.04005138780445343, 0.47...   \n",
       "3    2067               2  [0.02980749734591193, 0.031686487722152004, 0....   \n",
       "4    2068               3  [0.07802459101179884, 0.05023837133685244, 0.0...   \n",
       "5    2069               5  [0.10291879029602394, 0.16396779287525406, 0.1...   \n",
       "6    2070               6  [0.08536939302774896, 0.055509897709602504, 0....   \n",
       "7    2071               0  [0.4794333200887491, 0.03573533430796032, 0.06...   \n",
       "8    2072               0  [0.28146539850322, 0.07296843717126493, 0.0966...   \n",
       "9    2073               4  [0.1513538433752605, 0.05617760124948276, 0.16...   \n",
       "\n",
       "   confidence  \n",
       "0        43.0  \n",
       "1        20.0  \n",
       "2        47.0  \n",
       "3        70.0  \n",
       "4        61.0  \n",
       "5        18.0  \n",
       "6        49.0  \n",
       "7        47.0  \n",
       "8        28.0  \n",
       "9        47.0  "
      ]
     },
     "execution_count": 449,
     "metadata": {},
     "output_type": "execute_result"
    }
   ],
   "source": [
    "# use the model to predict\n",
    "classes = stats[\"modelInfo\"][\"classes\"]\n",
    "print(\"Class labels:\", classes)\n",
    "predicted = model.predict_stream(\n",
    "    G, modelName=\"cora-pipeline-model\", includePredictedProbabilities=True, targetNodeLabels=[\"UnclassifiedPaper\"]\n",
    ")\n",
    "# Calculate the confidence percentage for the predicted class\n",
    "predicted[\"confidence\"] = predicted.apply(\n",
    "    lambda row: np.floor(row[\"predictedProbabilities\"][classes.index(row[\"predictedClass\"])] * 100), axis=1\n",
    ")\n",
    "predicted"
   ]
  },
  {
   "cell_type": "code",
   "execution_count": 450,
   "metadata": {},
   "outputs": [
    {
     "data": {
      "text/html": [
       "<div>\n",
       "<style scoped>\n",
       "    .dataframe tbody tr th:only-of-type {\n",
       "        vertical-align: middle;\n",
       "    }\n",
       "\n",
       "    .dataframe tbody tr th {\n",
       "        vertical-align: top;\n",
       "    }\n",
       "\n",
       "    .dataframe thead th {\n",
       "        text-align: right;\n",
       "    }\n",
       "</style>\n",
       "<table border=\"1\" class=\"dataframe\">\n",
       "  <thead>\n",
       "    <tr style=\"text-align: right;\">\n",
       "      <th></th>\n",
       "      <th>nodeId</th>\n",
       "      <th>predictedClass</th>\n",
       "      <th>predictedProbabilities</th>\n",
       "      <th>confidence</th>\n",
       "      <th>subject</th>\n",
       "    </tr>\n",
       "  </thead>\n",
       "  <tbody>\n",
       "    <tr>\n",
       "      <th>0</th>\n",
       "      <td>2064</td>\n",
       "      <td>0</td>\n",
       "      <td>[0.43331478320672767, 0.07090129256540618, 0.0...</td>\n",
       "      <td>43.0</td>\n",
       "      <td>0</td>\n",
       "    </tr>\n",
       "    <tr>\n",
       "      <th>1</th>\n",
       "      <td>2065</td>\n",
       "      <td>5</td>\n",
       "      <td>[0.148825521214885, 0.10248697035946847, 0.047...</td>\n",
       "      <td>20.0</td>\n",
       "      <td>1</td>\n",
       "    </tr>\n",
       "    <tr>\n",
       "      <th>2</th>\n",
       "      <td>2066</td>\n",
       "      <td>2</td>\n",
       "      <td>[0.2504120326569696, 0.04005138780445343, 0.47...</td>\n",
       "      <td>47.0</td>\n",
       "      <td>2</td>\n",
       "    </tr>\n",
       "    <tr>\n",
       "      <th>3</th>\n",
       "      <td>2067</td>\n",
       "      <td>2</td>\n",
       "      <td>[0.02980749734591193, 0.031686487722152004, 0....</td>\n",
       "      <td>70.0</td>\n",
       "      <td>2</td>\n",
       "    </tr>\n",
       "    <tr>\n",
       "      <th>4</th>\n",
       "      <td>2068</td>\n",
       "      <td>3</td>\n",
       "      <td>[0.07802459101179884, 0.05023837133685244, 0.0...</td>\n",
       "      <td>61.0</td>\n",
       "      <td>3</td>\n",
       "    </tr>\n",
       "    <tr>\n",
       "      <th>5</th>\n",
       "      <td>2069</td>\n",
       "      <td>5</td>\n",
       "      <td>[0.10291879029602394, 0.16396779287525406, 0.1...</td>\n",
       "      <td>18.0</td>\n",
       "      <td>3</td>\n",
       "    </tr>\n",
       "    <tr>\n",
       "      <th>6</th>\n",
       "      <td>2070</td>\n",
       "      <td>6</td>\n",
       "      <td>[0.08536939302774896, 0.055509897709602504, 0....</td>\n",
       "      <td>49.0</td>\n",
       "      <td>4</td>\n",
       "    </tr>\n",
       "    <tr>\n",
       "      <th>7</th>\n",
       "      <td>2071</td>\n",
       "      <td>0</td>\n",
       "      <td>[0.4794333200887491, 0.03573533430796032, 0.06...</td>\n",
       "      <td>47.0</td>\n",
       "      <td>0</td>\n",
       "    </tr>\n",
       "    <tr>\n",
       "      <th>8</th>\n",
       "      <td>2072</td>\n",
       "      <td>0</td>\n",
       "      <td>[0.28146539850322, 0.07296843717126493, 0.0966...</td>\n",
       "      <td>28.0</td>\n",
       "      <td>0</td>\n",
       "    </tr>\n",
       "    <tr>\n",
       "      <th>9</th>\n",
       "      <td>2073</td>\n",
       "      <td>4</td>\n",
       "      <td>[0.1513538433752605, 0.05617760124948276, 0.16...</td>\n",
       "      <td>47.0</td>\n",
       "      <td>4</td>\n",
       "    </tr>\n",
       "  </tbody>\n",
       "</table>\n",
       "</div>"
      ],
      "text/plain": [
       "   nodeId  predictedClass                             predictedProbabilities  \\\n",
       "0    2064               0  [0.43331478320672767, 0.07090129256540618, 0.0...   \n",
       "1    2065               5  [0.148825521214885, 0.10248697035946847, 0.047...   \n",
       "2    2066               2  [0.2504120326569696, 0.04005138780445343, 0.47...   \n",
       "3    2067               2  [0.02980749734591193, 0.031686487722152004, 0....   \n",
       "4    2068               3  [0.07802459101179884, 0.05023837133685244, 0.0...   \n",
       "5    2069               5  [0.10291879029602394, 0.16396779287525406, 0.1...   \n",
       "6    2070               6  [0.08536939302774896, 0.055509897709602504, 0....   \n",
       "7    2071               0  [0.4794333200887491, 0.03573533430796032, 0.06...   \n",
       "8    2072               0  [0.28146539850322, 0.07296843717126493, 0.0966...   \n",
       "9    2073               4  [0.1513538433752605, 0.05617760124948276, 0.16...   \n",
       "\n",
       "   confidence  subject  \n",
       "0        43.0        0  \n",
       "1        20.0        1  \n",
       "2        47.0        2  \n",
       "3        70.0        2  \n",
       "4        61.0        3  \n",
       "5        18.0        3  \n",
       "6        49.0        4  \n",
       "7        47.0        0  \n",
       "8        28.0        0  \n",
       "9        47.0        4  "
      ]
     },
     "execution_count": 450,
     "metadata": {},
     "output_type": "execute_result"
    }
   ],
   "source": [
    "# compare results\n",
    "\n",
    "# Retrieve node information from Neo4j using the node IDs from the prediction result\n",
    "nodes = gds.util.asNodes(predicted.nodeId.to_list())\n",
    "\n",
    "# Create a new DataFrame containing node IDs along with node properties\n",
    "nodes_df = pd.DataFrame([(node.id, node[\"subject\"]) for node in nodes], columns=[\"nodeId\", \"subject\"])\n",
    "\n",
    "# Merge with the prediction result on node IDs, to check the predicted value\n",
    "# against the original subject\n",
    "#\n",
    "# NOTE: This could also be replaced by just appending `node[\"subject\"]` as a\n",
    "# Series since the node order would not change, but a proper merge (or join)\n",
    "# is clearer and less prone to errors.\n",
    "predicted.merge(nodes_df, on=\"nodeId\")"
   ]
  },
  {
   "cell_type": "code",
   "execution_count": 451,
   "metadata": {},
   "outputs": [
    {
     "data": {
      "text/plain": [
       "name                                                     cora-pipeline\n",
       "nodePropertySteps                                                   []\n",
       "featureProperties                                           [features]\n",
       "splitConfig                {'testFraction': 0.2, 'validationFolds': 5}\n",
       "autoTuningConfig                                      {'maxTrials': 5}\n",
       "parameterSpace       {'MultilayerPerceptron': [], 'RandomForest': [...\n",
       "Name: 0, dtype: object"
      ]
     },
     "execution_count": 451,
     "metadata": {},
     "output_type": "execute_result"
    }
   ],
   "source": [
    "# Create the pipeline fastrp\n",
    "node_pipeline_fastrp, _ = gds.beta.pipeline.nodeClassification.create(\"cora-pipeline-fastrp\")\n",
    "# List all pipelines\n",
    "gds.beta.pipeline.list()\n",
    "\n",
    "node_pipeline_fastrp.addNodeProperty(\n",
    "    \"fastRP\",\n",
    "    mutateProperty=\"embedding\",\n",
    "    embeddingDimension=512,\n",
    "    propertyRatio=1.0,\n",
    "    randomSeed=42,\n",
    "    featureProperties=[\"features\"],\n",
    "    contextNodeLabels=[\"Paper\", \"UnclassifiedPaper\"],\n",
    ")\n",
    "\n",
    "# With the node embeddings available as features, we no longer use the original raw `features`.\n",
    "node_pipeline_fastrp.selectFeatures([\"embedding\"])\n",
    "\n",
    "# Configure the pipeline as before\n",
    "node_pipeline_fastrp.configureSplit(testFraction=0.2, validationFolds=5)\n",
    "node_pipeline_fastrp.addLogisticRegression(maxEpochs=200, penalty=(0.0, 0.5))\n",
    "node_pipeline.configureAutoTuning(maxTrials=5)"
   ]
  },
  {
   "cell_type": "code",
   "execution_count": 452,
   "metadata": {},
   "outputs": [
    {
     "data": {
      "application/vnd.jupyter.widget-view+json": {
       "model_id": "d8d1e9a546f24902b484b60ae53f802e",
       "version_major": 2,
       "version_minor": 0
      },
      "text/plain": [
       "Node Classification Train Pipeline:   0%|          | 0/100 [00:00<?, ?%/s]"
      ]
     },
     "metadata": {},
     "output_type": "display_data"
    },
    {
     "name": "stdout",
     "output_type": "stream",
     "text": [
      "0.8323674420565268\n"
     ]
    }
   ],
   "source": [
    "# Perform the actual training\n",
    "model_fastrp, stats_fastrp = node_pipeline_fastrp.train(\n",
    "    G,\n",
    "    targetNodeLabels=[\"Paper\"],\n",
    "    modelName=\"cora-pipeline-model-fastrp\",\n",
    "    targetProperty=\"subject\",\n",
    "    metrics=[\"F1_WEIGHTED\"],\n",
    "    randomSeed=42,\n",
    "    concurrency=4,\n",
    ")\n",
    "print(stats_fastrp[\"modelInfo\"][\"metrics\"][\"F1_WEIGHTED\"][\"test\"])"
   ]
  },
  {
   "cell_type": "code",
   "execution_count": 453,
   "metadata": {},
   "outputs": [
    {
     "data": {
      "application/vnd.jupyter.widget-view+json": {
       "model_id": "a2f05437bf894be9acee2eb3e73bf437",
       "version_major": 2,
       "version_minor": 0
      },
      "text/plain": [
       "Node Classification Predict Pipeline:   0%|          | 0/100 [00:00<?, ?%/s]"
      ]
     },
     "metadata": {},
     "output_type": "display_data"
    },
    {
     "data": {
      "text/html": [
       "<div>\n",
       "<style scoped>\n",
       "    .dataframe tbody tr th:only-of-type {\n",
       "        vertical-align: middle;\n",
       "    }\n",
       "\n",
       "    .dataframe tbody tr th {\n",
       "        vertical-align: top;\n",
       "    }\n",
       "\n",
       "    .dataframe thead th {\n",
       "        text-align: right;\n",
       "    }\n",
       "</style>\n",
       "<table border=\"1\" class=\"dataframe\">\n",
       "  <thead>\n",
       "    <tr style=\"text-align: right;\">\n",
       "      <th></th>\n",
       "      <th>nodeId</th>\n",
       "      <th>propertyValue</th>\n",
       "    </tr>\n",
       "  </thead>\n",
       "  <tbody>\n",
       "    <tr>\n",
       "      <th>0</th>\n",
       "      <td>2064</td>\n",
       "      <td>0</td>\n",
       "    </tr>\n",
       "    <tr>\n",
       "      <th>1</th>\n",
       "      <td>2065</td>\n",
       "      <td>1</td>\n",
       "    </tr>\n",
       "    <tr>\n",
       "      <th>2</th>\n",
       "      <td>2066</td>\n",
       "      <td>2</td>\n",
       "    </tr>\n",
       "    <tr>\n",
       "      <th>3</th>\n",
       "      <td>2067</td>\n",
       "      <td>2</td>\n",
       "    </tr>\n",
       "    <tr>\n",
       "      <th>4</th>\n",
       "      <td>2068</td>\n",
       "      <td>3</td>\n",
       "    </tr>\n",
       "    <tr>\n",
       "      <th>5</th>\n",
       "      <td>2069</td>\n",
       "      <td>3</td>\n",
       "    </tr>\n",
       "    <tr>\n",
       "      <th>6</th>\n",
       "      <td>2070</td>\n",
       "      <td>4</td>\n",
       "    </tr>\n",
       "    <tr>\n",
       "      <th>7</th>\n",
       "      <td>2071</td>\n",
       "      <td>0</td>\n",
       "    </tr>\n",
       "    <tr>\n",
       "      <th>8</th>\n",
       "      <td>2072</td>\n",
       "      <td>0</td>\n",
       "    </tr>\n",
       "    <tr>\n",
       "      <th>9</th>\n",
       "      <td>2073</td>\n",
       "      <td>4</td>\n",
       "    </tr>\n",
       "  </tbody>\n",
       "</table>\n",
       "</div>"
      ],
      "text/plain": [
       "   nodeId  propertyValue\n",
       "0    2064              0\n",
       "1    2065              1\n",
       "2    2066              2\n",
       "3    2067              2\n",
       "4    2068              3\n",
       "5    2069              3\n",
       "6    2070              4\n",
       "7    2071              0\n",
       "8    2072              0\n",
       "9    2073              4"
      ]
     },
     "execution_count": 453,
     "metadata": {},
     "output_type": "execute_result"
    }
   ],
   "source": [
    "# predicted_fastrp = model_fastrp.predict_stream(\n",
    "#     G, modelName=\"cora-pipeline-model-fastrp\", includePredictedProbabilities=True, targetNodeLabels=[\"UnclassifiedPaper\"],\n",
    "# )\n",
    "\n",
    "model_fastrp.predict_mutate(\n",
    "    G,\n",
    "    mutateProperty=\"predictedClass\",\n",
    "    modelName=\"cora-pipeline-model-fastrp\",\n",
    "    predictedProbabilityProperty=\"predictedProbabilities\",\n",
    "    targetNodeLabels=[\"UnclassifiedPaper\"],\n",
    ")\n",
    "\n",
    "predicted_fastrp = gds.graph.streamNodeProperty(G, \"predictedClass\", [\"UnclassifiedPaper\"])\n",
    "predicted_fastrp"
   ]
  },
  {
   "cell_type": "code",
   "execution_count": 454,
   "metadata": {},
   "outputs": [
    {
     "data": {
      "text/html": [
       "<div>\n",
       "<style scoped>\n",
       "    .dataframe tbody tr th:only-of-type {\n",
       "        vertical-align: middle;\n",
       "    }\n",
       "\n",
       "    .dataframe tbody tr th {\n",
       "        vertical-align: top;\n",
       "    }\n",
       "\n",
       "    .dataframe thead th {\n",
       "        text-align: right;\n",
       "    }\n",
       "</style>\n",
       "<table border=\"1\" class=\"dataframe\">\n",
       "  <thead>\n",
       "    <tr style=\"text-align: right;\">\n",
       "      <th></th>\n",
       "      <th>nodeId</th>\n",
       "      <th>propertyValue</th>\n",
       "      <th>subject</th>\n",
       "    </tr>\n",
       "  </thead>\n",
       "  <tbody>\n",
       "    <tr>\n",
       "      <th>0</th>\n",
       "      <td>2064</td>\n",
       "      <td>0</td>\n",
       "      <td>0</td>\n",
       "    </tr>\n",
       "    <tr>\n",
       "      <th>1</th>\n",
       "      <td>2065</td>\n",
       "      <td>1</td>\n",
       "      <td>1</td>\n",
       "    </tr>\n",
       "    <tr>\n",
       "      <th>2</th>\n",
       "      <td>2066</td>\n",
       "      <td>2</td>\n",
       "      <td>2</td>\n",
       "    </tr>\n",
       "    <tr>\n",
       "      <th>3</th>\n",
       "      <td>2067</td>\n",
       "      <td>2</td>\n",
       "      <td>2</td>\n",
       "    </tr>\n",
       "    <tr>\n",
       "      <th>4</th>\n",
       "      <td>2068</td>\n",
       "      <td>3</td>\n",
       "      <td>3</td>\n",
       "    </tr>\n",
       "    <tr>\n",
       "      <th>5</th>\n",
       "      <td>2069</td>\n",
       "      <td>3</td>\n",
       "      <td>3</td>\n",
       "    </tr>\n",
       "    <tr>\n",
       "      <th>6</th>\n",
       "      <td>2070</td>\n",
       "      <td>4</td>\n",
       "      <td>4</td>\n",
       "    </tr>\n",
       "    <tr>\n",
       "      <th>7</th>\n",
       "      <td>2071</td>\n",
       "      <td>0</td>\n",
       "      <td>0</td>\n",
       "    </tr>\n",
       "    <tr>\n",
       "      <th>8</th>\n",
       "      <td>2072</td>\n",
       "      <td>0</td>\n",
       "      <td>0</td>\n",
       "    </tr>\n",
       "    <tr>\n",
       "      <th>9</th>\n",
       "      <td>2073</td>\n",
       "      <td>4</td>\n",
       "      <td>4</td>\n",
       "    </tr>\n",
       "  </tbody>\n",
       "</table>\n",
       "</div>"
      ],
      "text/plain": [
       "   nodeId  propertyValue  subject\n",
       "0    2064              0        0\n",
       "1    2065              1        1\n",
       "2    2066              2        2\n",
       "3    2067              2        2\n",
       "4    2068              3        3\n",
       "5    2069              3        3\n",
       "6    2070              4        4\n",
       "7    2071              0        0\n",
       "8    2072              0        0\n",
       "9    2073              4        4"
      ]
     },
     "execution_count": 454,
     "metadata": {},
     "output_type": "execute_result"
    }
   ],
   "source": [
    "# compare results\n",
    "\n",
    "# Retrieve node information from Neo4j using the node IDs from the prediction result\n",
    "nodes = gds.util.asNodes(predicted_fastrp.nodeId.to_list())\n",
    "\n",
    "# Create a new DataFrame containing node IDs along with node properties\n",
    "nodes_df = pd.DataFrame([(node.id, node[\"subject\"]) for node in nodes], columns=[\"nodeId\", \"subject\"])\n",
    "\n",
    "# Merge with the prediction result on node IDs, to check the predicted value\n",
    "# against the original subject\n",
    "#\n",
    "# NOTE: This could also be replaced by just appending `node[\"subject\"]` as a\n",
    "# Series since the node order would not change, but a proper merge (or join)\n",
    "# is clearer and less prone to errors.\n",
    "predicted_fastrp.merge(nodes_df, on=\"nodeId\")"
   ]
  },
  {
   "cell_type": "code",
   "execution_count": 455,
   "metadata": {},
   "outputs": [
    {
     "data": {
      "text/plain": [
       "writeMillis                        25\n",
       "graphName                  cora-graph\n",
       "nodeProperties       [predictedClass]\n",
       "propertiesWritten                  10\n",
       "Name: 0, dtype: object"
      ]
     },
     "execution_count": 455,
     "metadata": {},
     "output_type": "execute_result"
    }
   ],
   "source": [
    "# write back to neo4j\n",
    "gds.graph.nodeProperties.write(\n",
    "    G,\n",
    "    node_properties=[\"predictedClass\"],\n",
    "    node_labels=[\"UnclassifiedPaper\"],\n",
    ")"
   ]
  },
  {
   "cell_type": "code",
   "execution_count": 456,
   "metadata": {},
   "outputs": [],
   "source": [
    "node_pipeline.drop()\n",
    "node_pipeline_fastrp.drop()\n",
    "model.drop()\n",
    "model_fastrp.drop()\n",
    "\n",
    "# free up memory\n",
    "G.drop()\n",
    "\n",
    "query = \"\"\"\n",
    "MATCH (n) DETACH DELETE n\n",
    "\"\"\"\n",
    "gds.run_cypher(query)\n",
    "gds.close()"
   ]
  }
 ],
 "metadata": {
  "kernelspec": {
   "display_name": "base",
   "language": "python",
   "name": "python3"
  },
  "language_info": {
   "codemirror_mode": {
    "name": "ipython",
    "version": 3
   },
   "file_extension": ".py",
   "mimetype": "text/x-python",
   "name": "python",
   "nbconvert_exporter": "python",
   "pygments_lexer": "ipython3",
   "version": "3.8.13"
  }
 },
 "nbformat": 4,
 "nbformat_minor": 1
}
