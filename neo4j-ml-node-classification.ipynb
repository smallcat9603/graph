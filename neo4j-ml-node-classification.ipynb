{
 "cells": [
  {
   "cell_type": "code",
   "execution_count": 564,
   "metadata": {},
   "outputs": [],
   "source": [
    "import pandas as pd\n",
    "import numpy as np\n",
    "import json\n",
    "from graphdatascience import GraphDataScience"
   ]
  },
  {
   "attachments": {},
   "cell_type": "markdown",
   "metadata": {},
   "source": [
    "# neo4j desktop (5.3.0, m1)"
   ]
  },
  {
   "cell_type": "code",
   "execution_count": 565,
   "metadata": {},
   "outputs": [
    {
     "name": "stdout",
     "output_type": "stream",
     "text": [
      "2.3.2\n"
     ]
    }
   ],
   "source": [
    "host = \"bolt://localhost:7687\"\n",
    "user = \"neo4j\"\n",
    "password= \"j4oenj4oen\"\n",
    "\n",
    "gds = GraphDataScience(host, auth=(user, password))\n",
    "print(gds.version())"
   ]
  },
  {
   "attachments": {},
   "cell_type": "markdown",
   "metadata": {},
   "source": [
    "# (preprocessing) map string to int for ml process"
   ]
  },
  {
   "cell_type": "code",
   "execution_count": 566,
   "metadata": {},
   "outputs": [],
   "source": [
    "subject_to_id = {\n",
    "    \"Neural_Networks\": 0,\n",
    "    \"Rule_Learning\": 1,\n",
    "    \"Reinforcement_Learning\": 2,\n",
    "    \"Probabilistic_Methods\": 3,\n",
    "    \"Theory\": 4,\n",
    "    \"Genetic_Algorithms\": 5,\n",
    "    \"Case_Based\": 6,\n",
    "}"
   ]
  },
  {
   "attachments": {},
   "cell_type": "markdown",
   "metadata": {},
   "source": [
    "# (opt1) project graph in memory by pandas read_csv"
   ]
  },
  {
   "cell_type": "code",
   "execution_count": 567,
   "metadata": {},
   "outputs": [],
   "source": [
    "# cora_papers = \"data/cora_papers.csv\"\n",
    "# cora_cites = \"data/cora_cites.csv\"\n",
    "# papers = pd.read_csv(cora_papers, header=None)\n",
    "# cites = pd.read_csv(cora_cites, header=None)\n",
    "# nodes = pd.DataFrame().assign(\n",
    "#     nodeId=papers[0],\n",
    "#     labels=\"paper\",\n",
    "#     subject=papers[1].replace(subject_to_id),\n",
    "#     features=papers.iloc[:, 2:].apply(list, axis=1),\n",
    "# )\n",
    "# dir_relationships = pd.DataFrame().assign(sourceNodeId=cites[0], targetNodeId=cites[1], relationshipType=\"CITES\")\n",
    "# inv_relationships = pd.DataFrame().assign(sourceNodeId=cites[1], targetNodeId=cites[0], relationshipType=\"CITES\")\n",
    "# relationships = pd.concat([dir_relationships, inv_relationships]).drop_duplicates()\n",
    "# G = gds.alpha.graph.construct(\"cora-graph\", nodes, relationships)"
   ]
  },
  {
   "attachments": {},
   "cell_type": "markdown",
   "metadata": {},
   "source": [
    "# (opt2) write to neo4j by LOAD CSV cypher"
   ]
  },
  {
   "cell_type": "code",
   "execution_count": 568,
   "metadata": {},
   "outputs": [
    {
     "data": {
      "text/html": [
       "<div>\n",
       "<style scoped>\n",
       "    .dataframe tbody tr th:only-of-type {\n",
       "        vertical-align: middle;\n",
       "    }\n",
       "\n",
       "    .dataframe tbody tr th {\n",
       "        vertical-align: top;\n",
       "    }\n",
       "\n",
       "    .dataframe thead th {\n",
       "        text-align: right;\n",
       "    }\n",
       "</style>\n",
       "<table border=\"1\" class=\"dataframe\">\n",
       "  <thead>\n",
       "    <tr style=\"text-align: right;\">\n",
       "      <th></th>\n",
       "    </tr>\n",
       "  </thead>\n",
       "  <tbody>\n",
       "  </tbody>\n",
       "</table>\n",
       "</div>"
      ],
      "text/plain": [
       "Empty DataFrame\n",
       "Columns: []\n",
       "Index: []"
      ]
     },
     "execution_count": 568,
     "metadata": {},
     "output_type": "execute_result"
    }
   ],
   "source": [
    "subject_map = json.dumps(subject_to_id).replace('\"', \"`\") # {`Neural_Networks`: 0, `Rule_Learning`: 1, `Reinforcement_Learning`: 2, `Probabilistic_Methods`: 3, ...}\n",
    "HOLDOUT_NODES = 10 # for test\n",
    "# file should be placed in import/ \n",
    "load_nodes = f\"\"\"\n",
    "  LOAD CSV FROM \"file:///cora_papers.csv\" AS row\n",
    "  WITH \n",
    "    {subject_map} AS subject_to_id,\n",
    "    toInteger(row[0]) AS nodeId, \n",
    "    row[1] AS subject, \n",
    "    toIntegerList(row[2..]) AS features\n",
    "  MERGE (p:Paper {{nodeId: nodeId, subject: subject_to_id[subject], features: features}})\n",
    "  WITH p LIMIT {HOLDOUT_NODES}\n",
    "  REMOVE p:Paper\n",
    "  SET p:UnclassifiedPaper\n",
    "\"\"\"\n",
    "load_relationships = f\"\"\"\n",
    "  LOAD CSV FROM \"file:///cora_cites.csv\" AS row\n",
    "  MATCH (n), (m) \n",
    "  WHERE n.nodeId = toInteger(row[0]) AND m.nodeId = toInteger(row[1])\n",
    "  MERGE (n)-[:CITES]->(m)\n",
    "\"\"\"\n",
    "gds.run_cypher(load_nodes)\n",
    "gds.run_cypher(load_relationships)"
   ]
  },
  {
   "attachments": {},
   "cell_type": "markdown",
   "metadata": {},
   "source": [
    "# Create the projected graph containing both classified and unclassified nodes"
   ]
  },
  {
   "cell_type": "code",
   "execution_count": 569,
   "metadata": {},
   "outputs": [],
   "source": [
    "G, _ = gds.graph.project(\n",
    "    \"cora-graph\",\n",
    "    {\"Paper\": {\"properties\": [\"features\", \"subject\"]}, \"UnclassifiedPaper\": {\"properties\": [\"features\"]}},\n",
    "    {\"CITES\": {\"orientation\": \"UNDIRECTED\", \"aggregation\": \"SINGLE\"}},\n",
    ")\n",
    "assert G.node_count() == 2708\n",
    "assert G.relationship_count() == 10556"
   ]
  },
  {
   "attachments": {},
   "cell_type": "markdown",
   "metadata": {},
   "source": [
    "# 1. Create the pipeline (baseline)"
   ]
  },
  {
   "cell_type": "code",
   "execution_count": 570,
   "metadata": {},
   "outputs": [
    {
     "data": {
      "text/plain": [
       "name                                                     cora-pipeline\n",
       "nodePropertySteps                                                   []\n",
       "featureProperties                                           [features]\n",
       "splitConfig                {'testFraction': 0.2, 'validationFolds': 5}\n",
       "autoTuningConfig                                      {'maxTrials': 5}\n",
       "parameterSpace       {'MultilayerPerceptron': [], 'RandomForest': [...\n",
       "Name: 0, dtype: object"
      ]
     },
     "execution_count": 570,
     "metadata": {},
     "output_type": "execute_result"
    }
   ],
   "source": [
    "node_pipeline, _ = gds.beta.pipeline.nodeClassification.create(\"cora-pipeline\")\n",
    "node_pipeline.selectFeatures([\"features\"])\n",
    "node_pipeline.configureSplit(testFraction=0.2, validationFolds=5)\n",
    "# Add a model candidate to train (addLogisticRegression, addRandomForest, addMLP)\n",
    "node_pipeline.addLogisticRegression(maxEpochs=200, penalty=(0.0, 0.5))\n",
    "# Explicit set the number of trials for autotuning (default = 10)\n",
    "node_pipeline.configureAutoTuning(maxTrials=5)"
   ]
  },
  {
   "attachments": {},
   "cell_type": "markdown",
   "metadata": {},
   "source": [
    "# 1. Train --> model"
   ]
  },
  {
   "cell_type": "code",
   "execution_count": 571,
   "metadata": {},
   "outputs": [
    {
     "data": {
      "application/vnd.jupyter.widget-view+json": {
       "model_id": "b240e8cb22a44b2fbf81f02d23121fdd",
       "version_major": 2,
       "version_minor": 0
      },
      "text/plain": [
       "Node Classification Train Pipeline:   0%|          | 0/100 [00:00<?, ?%/s]"
      ]
     },
     "metadata": {},
     "output_type": "display_data"
    },
    {
     "name": "stdout",
     "output_type": "stream",
     "text": [
      "0.7287325951256632\n"
     ]
    }
   ],
   "source": [
    "# (opt) use train_estimate to estimate the resources needed for training the model\n",
    "model, stats = node_pipeline.train(\n",
    "    G,\n",
    "    targetNodeLabels=[\"Paper\"],\n",
    "    modelName=\"cora-pipeline-model\",\n",
    "    targetProperty=\"subject\",\n",
    "    metrics=[\"F1_WEIGHTED\"],\n",
    "    randomSeed=42,\n",
    "    concurrency=4,\n",
    ")\n",
    "print(stats[\"modelInfo\"][\"metrics\"][\"F1_WEIGHTED\"][\"test\"]) # F1_WEIGHTED score\n",
    "# # print all stats\n",
    "# print(stats.to_json(indent=2))"
   ]
  },
  {
   "attachments": {},
   "cell_type": "markdown",
   "metadata": {},
   "source": [
    "# 1. Use model to predict"
   ]
  },
  {
   "cell_type": "code",
   "execution_count": 572,
   "metadata": {},
   "outputs": [
    {
     "name": "stdout",
     "output_type": "stream",
     "text": [
      "Class labels: [0, 1, 2, 3, 4, 5, 6]\n"
     ]
    },
    {
     "data": {
      "text/html": [
       "<div>\n",
       "<style scoped>\n",
       "    .dataframe tbody tr th:only-of-type {\n",
       "        vertical-align: middle;\n",
       "    }\n",
       "\n",
       "    .dataframe tbody tr th {\n",
       "        vertical-align: top;\n",
       "    }\n",
       "\n",
       "    .dataframe thead th {\n",
       "        text-align: right;\n",
       "    }\n",
       "</style>\n",
       "<table border=\"1\" class=\"dataframe\">\n",
       "  <thead>\n",
       "    <tr style=\"text-align: right;\">\n",
       "      <th></th>\n",
       "      <th>nodeId</th>\n",
       "      <th>predictedClass</th>\n",
       "      <th>predictedProbabilities</th>\n",
       "      <th>confidence</th>\n",
       "    </tr>\n",
       "  </thead>\n",
       "  <tbody>\n",
       "    <tr>\n",
       "      <th>0</th>\n",
       "      <td>1898</td>\n",
       "      <td>0</td>\n",
       "      <td>[0.43331478320672756, 0.07090129256540617, 0.0...</td>\n",
       "      <td>43.0</td>\n",
       "    </tr>\n",
       "    <tr>\n",
       "      <th>1</th>\n",
       "      <td>1899</td>\n",
       "      <td>5</td>\n",
       "      <td>[0.1488255212148842, 0.10248697035946858, 0.04...</td>\n",
       "      <td>20.0</td>\n",
       "    </tr>\n",
       "    <tr>\n",
       "      <th>2</th>\n",
       "      <td>1900</td>\n",
       "      <td>2</td>\n",
       "      <td>[0.25041203265696915, 0.04005138780445343, 0.4...</td>\n",
       "      <td>47.0</td>\n",
       "    </tr>\n",
       "    <tr>\n",
       "      <th>3</th>\n",
       "      <td>1901</td>\n",
       "      <td>2</td>\n",
       "      <td>[0.029807497345911923, 0.031686487722152, 0.70...</td>\n",
       "      <td>70.0</td>\n",
       "    </tr>\n",
       "    <tr>\n",
       "      <th>4</th>\n",
       "      <td>1902</td>\n",
       "      <td>3</td>\n",
       "      <td>[0.07802459101179884, 0.050238371336852446, 0....</td>\n",
       "      <td>61.0</td>\n",
       "    </tr>\n",
       "    <tr>\n",
       "      <th>5</th>\n",
       "      <td>1903</td>\n",
       "      <td>5</td>\n",
       "      <td>[0.10291879029602394, 0.163967792875254, 0.172...</td>\n",
       "      <td>18.0</td>\n",
       "    </tr>\n",
       "    <tr>\n",
       "      <th>6</th>\n",
       "      <td>1904</td>\n",
       "      <td>6</td>\n",
       "      <td>[0.08536939302774894, 0.05550989770960249, 0.1...</td>\n",
       "      <td>49.0</td>\n",
       "    </tr>\n",
       "    <tr>\n",
       "      <th>7</th>\n",
       "      <td>1905</td>\n",
       "      <td>0</td>\n",
       "      <td>[0.4794333200887491, 0.03573533430796031, 0.06...</td>\n",
       "      <td>47.0</td>\n",
       "    </tr>\n",
       "    <tr>\n",
       "      <th>8</th>\n",
       "      <td>1906</td>\n",
       "      <td>0</td>\n",
       "      <td>[0.28146539850321994, 0.07296843717126493, 0.0...</td>\n",
       "      <td>28.0</td>\n",
       "    </tr>\n",
       "    <tr>\n",
       "      <th>9</th>\n",
       "      <td>1907</td>\n",
       "      <td>4</td>\n",
       "      <td>[0.1513538433752606, 0.056177601249482755, 0.1...</td>\n",
       "      <td>47.0</td>\n",
       "    </tr>\n",
       "  </tbody>\n",
       "</table>\n",
       "</div>"
      ],
      "text/plain": [
       "   nodeId  predictedClass                             predictedProbabilities  \\\n",
       "0    1898               0  [0.43331478320672756, 0.07090129256540617, 0.0...   \n",
       "1    1899               5  [0.1488255212148842, 0.10248697035946858, 0.04...   \n",
       "2    1900               2  [0.25041203265696915, 0.04005138780445343, 0.4...   \n",
       "3    1901               2  [0.029807497345911923, 0.031686487722152, 0.70...   \n",
       "4    1902               3  [0.07802459101179884, 0.050238371336852446, 0....   \n",
       "5    1903               5  [0.10291879029602394, 0.163967792875254, 0.172...   \n",
       "6    1904               6  [0.08536939302774894, 0.05550989770960249, 0.1...   \n",
       "7    1905               0  [0.4794333200887491, 0.03573533430796031, 0.06...   \n",
       "8    1906               0  [0.28146539850321994, 0.07296843717126493, 0.0...   \n",
       "9    1907               4  [0.1513538433752606, 0.056177601249482755, 0.1...   \n",
       "\n",
       "   confidence  \n",
       "0        43.0  \n",
       "1        20.0  \n",
       "2        47.0  \n",
       "3        70.0  \n",
       "4        61.0  \n",
       "5        18.0  \n",
       "6        49.0  \n",
       "7        47.0  \n",
       "8        28.0  \n",
       "9        47.0  "
      ]
     },
     "execution_count": 572,
     "metadata": {},
     "output_type": "execute_result"
    }
   ],
   "source": [
    "classes = stats[\"modelInfo\"][\"classes\"]\n",
    "print(\"Class labels:\", classes)\n",
    "predicted = model.predict_stream(\n",
    "    G, modelName=\"cora-pipeline-model\", includePredictedProbabilities=True, targetNodeLabels=[\"UnclassifiedPaper\"]\n",
    ")\n",
    "# Calculate the confidence percentage for the predicted class\n",
    "predicted[\"confidence\"] = predicted.apply(\n",
    "    lambda row: np.floor(row[\"predictedProbabilities\"][classes.index(row[\"predictedClass\"])] * 100), axis=1\n",
    ")\n",
    "predicted"
   ]
  },
  {
   "attachments": {},
   "cell_type": "markdown",
   "metadata": {},
   "source": [
    "# 1. Verify the prediction (baseline)"
   ]
  },
  {
   "cell_type": "code",
   "execution_count": 573,
   "metadata": {},
   "outputs": [
    {
     "data": {
      "text/html": [
       "<div>\n",
       "<style scoped>\n",
       "    .dataframe tbody tr th:only-of-type {\n",
       "        vertical-align: middle;\n",
       "    }\n",
       "\n",
       "    .dataframe tbody tr th {\n",
       "        vertical-align: top;\n",
       "    }\n",
       "\n",
       "    .dataframe thead th {\n",
       "        text-align: right;\n",
       "    }\n",
       "</style>\n",
       "<table border=\"1\" class=\"dataframe\">\n",
       "  <thead>\n",
       "    <tr style=\"text-align: right;\">\n",
       "      <th></th>\n",
       "      <th>nodeId</th>\n",
       "      <th>predictedClass</th>\n",
       "      <th>predictedProbabilities</th>\n",
       "      <th>confidence</th>\n",
       "      <th>subject</th>\n",
       "    </tr>\n",
       "  </thead>\n",
       "  <tbody>\n",
       "    <tr>\n",
       "      <th>0</th>\n",
       "      <td>1898</td>\n",
       "      <td>0</td>\n",
       "      <td>[0.43331478320672756, 0.07090129256540617, 0.0...</td>\n",
       "      <td>43.0</td>\n",
       "      <td>0</td>\n",
       "    </tr>\n",
       "    <tr>\n",
       "      <th>1</th>\n",
       "      <td>1899</td>\n",
       "      <td>5</td>\n",
       "      <td>[0.1488255212148842, 0.10248697035946858, 0.04...</td>\n",
       "      <td>20.0</td>\n",
       "      <td>1</td>\n",
       "    </tr>\n",
       "    <tr>\n",
       "      <th>2</th>\n",
       "      <td>1900</td>\n",
       "      <td>2</td>\n",
       "      <td>[0.25041203265696915, 0.04005138780445343, 0.4...</td>\n",
       "      <td>47.0</td>\n",
       "      <td>2</td>\n",
       "    </tr>\n",
       "    <tr>\n",
       "      <th>3</th>\n",
       "      <td>1901</td>\n",
       "      <td>2</td>\n",
       "      <td>[0.029807497345911923, 0.031686487722152, 0.70...</td>\n",
       "      <td>70.0</td>\n",
       "      <td>2</td>\n",
       "    </tr>\n",
       "    <tr>\n",
       "      <th>4</th>\n",
       "      <td>1902</td>\n",
       "      <td>3</td>\n",
       "      <td>[0.07802459101179884, 0.050238371336852446, 0....</td>\n",
       "      <td>61.0</td>\n",
       "      <td>3</td>\n",
       "    </tr>\n",
       "    <tr>\n",
       "      <th>5</th>\n",
       "      <td>1903</td>\n",
       "      <td>5</td>\n",
       "      <td>[0.10291879029602394, 0.163967792875254, 0.172...</td>\n",
       "      <td>18.0</td>\n",
       "      <td>3</td>\n",
       "    </tr>\n",
       "    <tr>\n",
       "      <th>6</th>\n",
       "      <td>1904</td>\n",
       "      <td>6</td>\n",
       "      <td>[0.08536939302774894, 0.05550989770960249, 0.1...</td>\n",
       "      <td>49.0</td>\n",
       "      <td>4</td>\n",
       "    </tr>\n",
       "    <tr>\n",
       "      <th>7</th>\n",
       "      <td>1905</td>\n",
       "      <td>0</td>\n",
       "      <td>[0.4794333200887491, 0.03573533430796031, 0.06...</td>\n",
       "      <td>47.0</td>\n",
       "      <td>0</td>\n",
       "    </tr>\n",
       "    <tr>\n",
       "      <th>8</th>\n",
       "      <td>1906</td>\n",
       "      <td>0</td>\n",
       "      <td>[0.28146539850321994, 0.07296843717126493, 0.0...</td>\n",
       "      <td>28.0</td>\n",
       "      <td>0</td>\n",
       "    </tr>\n",
       "    <tr>\n",
       "      <th>9</th>\n",
       "      <td>1907</td>\n",
       "      <td>4</td>\n",
       "      <td>[0.1513538433752606, 0.056177601249482755, 0.1...</td>\n",
       "      <td>47.0</td>\n",
       "      <td>4</td>\n",
       "    </tr>\n",
       "  </tbody>\n",
       "</table>\n",
       "</div>"
      ],
      "text/plain": [
       "   nodeId  predictedClass                             predictedProbabilities  \\\n",
       "0    1898               0  [0.43331478320672756, 0.07090129256540617, 0.0...   \n",
       "1    1899               5  [0.1488255212148842, 0.10248697035946858, 0.04...   \n",
       "2    1900               2  [0.25041203265696915, 0.04005138780445343, 0.4...   \n",
       "3    1901               2  [0.029807497345911923, 0.031686487722152, 0.70...   \n",
       "4    1902               3  [0.07802459101179884, 0.050238371336852446, 0....   \n",
       "5    1903               5  [0.10291879029602394, 0.163967792875254, 0.172...   \n",
       "6    1904               6  [0.08536939302774894, 0.05550989770960249, 0.1...   \n",
       "7    1905               0  [0.4794333200887491, 0.03573533430796031, 0.06...   \n",
       "8    1906               0  [0.28146539850321994, 0.07296843717126493, 0.0...   \n",
       "9    1907               4  [0.1513538433752606, 0.056177601249482755, 0.1...   \n",
       "\n",
       "   confidence  subject  \n",
       "0        43.0        0  \n",
       "1        20.0        1  \n",
       "2        47.0        2  \n",
       "3        70.0        2  \n",
       "4        61.0        3  \n",
       "5        18.0        3  \n",
       "6        49.0        4  \n",
       "7        47.0        0  \n",
       "8        28.0        0  \n",
       "9        47.0        4  "
      ]
     },
     "execution_count": 573,
     "metadata": {},
     "output_type": "execute_result"
    }
   ],
   "source": [
    "nodes = gds.util.asNodes(predicted.nodeId.to_list())\n",
    "nodes_df = pd.DataFrame([(node.id, node[\"subject\"]) for node in nodes], columns=[\"nodeId\", \"subject\"])\n",
    "predicted.merge(nodes_df, on=\"nodeId\")"
   ]
  },
  {
   "attachments": {},
   "cell_type": "markdown",
   "metadata": {},
   "source": [
    "# 2. Create the pipeline (fastrp)"
   ]
  },
  {
   "cell_type": "code",
   "execution_count": 574,
   "metadata": {},
   "outputs": [
    {
     "data": {
      "text/plain": [
       "name                                              cora-pipeline-fastrp\n",
       "nodePropertySteps    [{'name': 'gds.fastRP.mutate', 'config': {'ran...\n",
       "featureProperties                                          [embedding]\n",
       "splitConfig                {'testFraction': 0.2, 'validationFolds': 5}\n",
       "autoTuningConfig                                      {'maxTrials': 5}\n",
       "parameterSpace       {'MultilayerPerceptron': [], 'RandomForest': [...\n",
       "Name: 0, dtype: object"
      ]
     },
     "execution_count": 574,
     "metadata": {},
     "output_type": "execute_result"
    }
   ],
   "source": [
    "node_pipeline_fastrp, _ = gds.beta.pipeline.nodeClassification.create(\"cora-pipeline-fastrp\")\n",
    "node_pipeline_fastrp.addNodeProperty(\n",
    "    \"fastRP\",\n",
    "    mutateProperty=\"embedding\",\n",
    "    embeddingDimension=512,\n",
    "    propertyRatio=1.0,\n",
    "    randomSeed=42,\n",
    "    featureProperties=[\"features\"],\n",
    "    contextNodeLabels=[\"Paper\", \"UnclassifiedPaper\"],\n",
    ")\n",
    "node_pipeline_fastrp.selectFeatures([\"embedding\"]) # With the node embeddings available as features, we no longer use the original raw `features`.\n",
    "node_pipeline_fastrp.configureSplit(testFraction=0.2, validationFolds=5)\n",
    "node_pipeline_fastrp.addLogisticRegression(maxEpochs=200, penalty=(0.0, 0.5))\n",
    "node_pipeline_fastrp.configureAutoTuning(maxTrials=5)"
   ]
  },
  {
   "attachments": {},
   "cell_type": "markdown",
   "metadata": {},
   "source": [
    "# 2. Train --> model_fastrp"
   ]
  },
  {
   "cell_type": "code",
   "execution_count": 575,
   "metadata": {},
   "outputs": [
    {
     "data": {
      "application/vnd.jupyter.widget-view+json": {
       "model_id": "c1e7d0b50ebc4adf9e61f6b437003b5e",
       "version_major": 2,
       "version_minor": 0
      },
      "text/plain": [
       "Node Classification Train Pipeline:   0%|          | 0/100 [00:00<?, ?%/s]"
      ]
     },
     "metadata": {},
     "output_type": "display_data"
    },
    {
     "name": "stdout",
     "output_type": "stream",
     "text": [
      "0.8323674420565268\n"
     ]
    }
   ],
   "source": [
    "model_fastrp, stats_fastrp = node_pipeline_fastrp.train(\n",
    "    G,\n",
    "    targetNodeLabels=[\"Paper\"],\n",
    "    modelName=\"cora-pipeline-model-fastrp\",\n",
    "    targetProperty=\"subject\",\n",
    "    metrics=[\"F1_WEIGHTED\"],\n",
    "    randomSeed=42,\n",
    "    concurrency=4,\n",
    ")\n",
    "print(stats_fastrp[\"modelInfo\"][\"metrics\"][\"F1_WEIGHTED\"][\"test\"])"
   ]
  },
  {
   "attachments": {},
   "cell_type": "markdown",
   "metadata": {},
   "source": [
    "# 2. Use model_fastrp to predict"
   ]
  },
  {
   "cell_type": "code",
   "execution_count": 576,
   "metadata": {},
   "outputs": [
    {
     "data": {
      "application/vnd.jupyter.widget-view+json": {
       "model_id": "0d9f51500558419e8a6c3ab66ebe7534",
       "version_major": 2,
       "version_minor": 0
      },
      "text/plain": [
       "Node Classification Predict Pipeline:   0%|          | 0/100 [00:00<?, ?%/s]"
      ]
     },
     "metadata": {},
     "output_type": "display_data"
    },
    {
     "data": {
      "text/html": [
       "<div>\n",
       "<style scoped>\n",
       "    .dataframe tbody tr th:only-of-type {\n",
       "        vertical-align: middle;\n",
       "    }\n",
       "\n",
       "    .dataframe tbody tr th {\n",
       "        vertical-align: top;\n",
       "    }\n",
       "\n",
       "    .dataframe thead th {\n",
       "        text-align: right;\n",
       "    }\n",
       "</style>\n",
       "<table border=\"1\" class=\"dataframe\">\n",
       "  <thead>\n",
       "    <tr style=\"text-align: right;\">\n",
       "      <th></th>\n",
       "      <th>nodeId</th>\n",
       "      <th>propertyValue</th>\n",
       "    </tr>\n",
       "  </thead>\n",
       "  <tbody>\n",
       "    <tr>\n",
       "      <th>0</th>\n",
       "      <td>1898</td>\n",
       "      <td>0</td>\n",
       "    </tr>\n",
       "    <tr>\n",
       "      <th>1</th>\n",
       "      <td>1899</td>\n",
       "      <td>1</td>\n",
       "    </tr>\n",
       "    <tr>\n",
       "      <th>2</th>\n",
       "      <td>1900</td>\n",
       "      <td>2</td>\n",
       "    </tr>\n",
       "    <tr>\n",
       "      <th>3</th>\n",
       "      <td>1901</td>\n",
       "      <td>2</td>\n",
       "    </tr>\n",
       "    <tr>\n",
       "      <th>4</th>\n",
       "      <td>1902</td>\n",
       "      <td>3</td>\n",
       "    </tr>\n",
       "    <tr>\n",
       "      <th>5</th>\n",
       "      <td>1903</td>\n",
       "      <td>3</td>\n",
       "    </tr>\n",
       "    <tr>\n",
       "      <th>6</th>\n",
       "      <td>1904</td>\n",
       "      <td>4</td>\n",
       "    </tr>\n",
       "    <tr>\n",
       "      <th>7</th>\n",
       "      <td>1905</td>\n",
       "      <td>0</td>\n",
       "    </tr>\n",
       "    <tr>\n",
       "      <th>8</th>\n",
       "      <td>1906</td>\n",
       "      <td>0</td>\n",
       "    </tr>\n",
       "    <tr>\n",
       "      <th>9</th>\n",
       "      <td>1907</td>\n",
       "      <td>4</td>\n",
       "    </tr>\n",
       "  </tbody>\n",
       "</table>\n",
       "</div>"
      ],
      "text/plain": [
       "   nodeId  propertyValue\n",
       "0    1898              0\n",
       "1    1899              1\n",
       "2    1900              2\n",
       "3    1901              2\n",
       "4    1902              3\n",
       "5    1903              3\n",
       "6    1904              4\n",
       "7    1905              0\n",
       "8    1906              0\n",
       "9    1907              4"
      ]
     },
     "execution_count": 576,
     "metadata": {},
     "output_type": "execute_result"
    }
   ],
   "source": [
    "# predicted_fastrp = model_fastrp.predict_stream(\n",
    "#     G, modelName=\"cora-pipeline-model-fastrp\", includePredictedProbabilities=True, targetNodeLabels=[\"UnclassifiedPaper\"],\n",
    "# )\n",
    "model_fastrp.predict_mutate(\n",
    "    G,\n",
    "    mutateProperty=\"predictedClass_fastrp\",\n",
    "    modelName=\"cora-pipeline-model-fastrp\",\n",
    "    predictedProbabilityProperty=\"predictedProbabilities_fastrp\",\n",
    "    targetNodeLabels=[\"UnclassifiedPaper\"],\n",
    ")\n",
    "predicted_fastrp = gds.graph.streamNodeProperty(G, \"predictedClass_fastrp\", [\"UnclassifiedPaper\"])\n",
    "predicted_fastrp"
   ]
  },
  {
   "attachments": {},
   "cell_type": "markdown",
   "metadata": {},
   "source": [
    "# 2. Verify the prediction (fastrp)"
   ]
  },
  {
   "cell_type": "code",
   "execution_count": 577,
   "metadata": {},
   "outputs": [
    {
     "data": {
      "text/html": [
       "<div>\n",
       "<style scoped>\n",
       "    .dataframe tbody tr th:only-of-type {\n",
       "        vertical-align: middle;\n",
       "    }\n",
       "\n",
       "    .dataframe tbody tr th {\n",
       "        vertical-align: top;\n",
       "    }\n",
       "\n",
       "    .dataframe thead th {\n",
       "        text-align: right;\n",
       "    }\n",
       "</style>\n",
       "<table border=\"1\" class=\"dataframe\">\n",
       "  <thead>\n",
       "    <tr style=\"text-align: right;\">\n",
       "      <th></th>\n",
       "      <th>nodeId</th>\n",
       "      <th>propertyValue</th>\n",
       "      <th>subject</th>\n",
       "    </tr>\n",
       "  </thead>\n",
       "  <tbody>\n",
       "    <tr>\n",
       "      <th>0</th>\n",
       "      <td>1898</td>\n",
       "      <td>0</td>\n",
       "      <td>0</td>\n",
       "    </tr>\n",
       "    <tr>\n",
       "      <th>1</th>\n",
       "      <td>1899</td>\n",
       "      <td>1</td>\n",
       "      <td>1</td>\n",
       "    </tr>\n",
       "    <tr>\n",
       "      <th>2</th>\n",
       "      <td>1900</td>\n",
       "      <td>2</td>\n",
       "      <td>2</td>\n",
       "    </tr>\n",
       "    <tr>\n",
       "      <th>3</th>\n",
       "      <td>1901</td>\n",
       "      <td>2</td>\n",
       "      <td>2</td>\n",
       "    </tr>\n",
       "    <tr>\n",
       "      <th>4</th>\n",
       "      <td>1902</td>\n",
       "      <td>3</td>\n",
       "      <td>3</td>\n",
       "    </tr>\n",
       "    <tr>\n",
       "      <th>5</th>\n",
       "      <td>1903</td>\n",
       "      <td>3</td>\n",
       "      <td>3</td>\n",
       "    </tr>\n",
       "    <tr>\n",
       "      <th>6</th>\n",
       "      <td>1904</td>\n",
       "      <td>4</td>\n",
       "      <td>4</td>\n",
       "    </tr>\n",
       "    <tr>\n",
       "      <th>7</th>\n",
       "      <td>1905</td>\n",
       "      <td>0</td>\n",
       "      <td>0</td>\n",
       "    </tr>\n",
       "    <tr>\n",
       "      <th>8</th>\n",
       "      <td>1906</td>\n",
       "      <td>0</td>\n",
       "      <td>0</td>\n",
       "    </tr>\n",
       "    <tr>\n",
       "      <th>9</th>\n",
       "      <td>1907</td>\n",
       "      <td>4</td>\n",
       "      <td>4</td>\n",
       "    </tr>\n",
       "  </tbody>\n",
       "</table>\n",
       "</div>"
      ],
      "text/plain": [
       "   nodeId  propertyValue  subject\n",
       "0    1898              0        0\n",
       "1    1899              1        1\n",
       "2    1900              2        2\n",
       "3    1901              2        2\n",
       "4    1902              3        3\n",
       "5    1903              3        3\n",
       "6    1904              4        4\n",
       "7    1905              0        0\n",
       "8    1906              0        0\n",
       "9    1907              4        4"
      ]
     },
     "execution_count": 577,
     "metadata": {},
     "output_type": "execute_result"
    }
   ],
   "source": [
    "nodes = gds.util.asNodes(predicted_fastrp.nodeId.to_list())\n",
    "nodes_df = pd.DataFrame([(node.id, node[\"subject\"]) for node in nodes], columns=[\"nodeId\", \"subject\"])\n",
    "predicted_fastrp.merge(nodes_df, on=\"nodeId\")"
   ]
  },
  {
   "attachments": {},
   "cell_type": "markdown",
   "metadata": {},
   "source": [
    "# 3. Create the pipeline (hashGNN)"
   ]
  },
  {
   "cell_type": "code",
   "execution_count": 578,
   "metadata": {},
   "outputs": [
    {
     "data": {
      "text/plain": [
       "name                                             cora-pipeline-hashgnn\n",
       "nodePropertySteps    [{'name': 'gds.beta.hashgnn.mutate', 'config':...\n",
       "featureProperties                                          [embedding]\n",
       "splitConfig                {'testFraction': 0.2, 'validationFolds': 5}\n",
       "autoTuningConfig                                      {'maxTrials': 5}\n",
       "parameterSpace       {'MultilayerPerceptron': [], 'RandomForest': [...\n",
       "Name: 0, dtype: object"
      ]
     },
     "execution_count": 578,
     "metadata": {},
     "output_type": "execute_result"
    }
   ],
   "source": [
    "node_pipeline_hashgnn, _ = gds.beta.pipeline.nodeClassification.create(\"cora-pipeline-hashgnn\")\n",
    "node_pipeline_hashgnn.addNodeProperty(\n",
    "    \"beta.hashgnn\",\n",
    "    mutateProperty=\"embedding\",\n",
    "    iterations=4,\n",
    "    heterogeneous=True,\n",
    "    embeddingDensity=512,\n",
    "    neighborInfluence=0.7,\n",
    "    featureProperties=[\"features\"],\n",
    "    randomSeed=42,\n",
    "    contextNodeLabels=[\"Paper\", \"UnclassifiedPaper\"],\n",
    ")\n",
    "node_pipeline_hashgnn.selectFeatures([\"embedding\"]) # With the node embeddings available as features, we no longer use the original raw `features`.\n",
    "node_pipeline_hashgnn.configureSplit(testFraction=0.2, validationFolds=5)\n",
    "node_pipeline_hashgnn.addLogisticRegression(maxEpochs=200, penalty=(0.0, 0.5))\n",
    "node_pipeline_hashgnn.configureAutoTuning(maxTrials=5)"
   ]
  },
  {
   "attachments": {},
   "cell_type": "markdown",
   "metadata": {},
   "source": [
    "# 3. Train --> model_hashgnn"
   ]
  },
  {
   "cell_type": "code",
   "execution_count": 579,
   "metadata": {},
   "outputs": [
    {
     "data": {
      "application/vnd.jupyter.widget-view+json": {
       "model_id": "a40fe7ebf5a44b42a326ab296b6b3dcf",
       "version_major": 2,
       "version_minor": 0
      },
      "text/plain": [
       "Node Classification Train Pipeline:   0%|          | 0/100 [00:00<?, ?%/s]"
      ]
     },
     "metadata": {},
     "output_type": "display_data"
    },
    {
     "name": "stdout",
     "output_type": "stream",
     "text": [
      "0.874485088125894\n"
     ]
    }
   ],
   "source": [
    "model_hashgnn, stats_hashgnn = node_pipeline_hashgnn.train(\n",
    "    G,\n",
    "    targetNodeLabels=[\"Paper\"],\n",
    "    modelName=\"cora-pipeline-model-hashgnn\",\n",
    "    targetProperty=\"subject\",\n",
    "    metrics=[\"F1_WEIGHTED\"],\n",
    "    randomSeed=42,\n",
    "    concurrency=4,\n",
    ")\n",
    "print(stats_hashgnn[\"modelInfo\"][\"metrics\"][\"F1_WEIGHTED\"][\"test\"])"
   ]
  },
  {
   "attachments": {},
   "cell_type": "markdown",
   "metadata": {},
   "source": [
    "# 3. Use model_hashgnn to predict"
   ]
  },
  {
   "cell_type": "code",
   "execution_count": 580,
   "metadata": {},
   "outputs": [
    {
     "data": {
      "application/vnd.jupyter.widget-view+json": {
       "model_id": "b566871249184c38bac39c60f71ef652",
       "version_major": 2,
       "version_minor": 0
      },
      "text/plain": [
       "Node Classification Predict Pipeline:   0%|          | 0/100 [00:00<?, ?%/s]"
      ]
     },
     "metadata": {},
     "output_type": "display_data"
    },
    {
     "data": {
      "text/html": [
       "<div>\n",
       "<style scoped>\n",
       "    .dataframe tbody tr th:only-of-type {\n",
       "        vertical-align: middle;\n",
       "    }\n",
       "\n",
       "    .dataframe tbody tr th {\n",
       "        vertical-align: top;\n",
       "    }\n",
       "\n",
       "    .dataframe thead th {\n",
       "        text-align: right;\n",
       "    }\n",
       "</style>\n",
       "<table border=\"1\" class=\"dataframe\">\n",
       "  <thead>\n",
       "    <tr style=\"text-align: right;\">\n",
       "      <th></th>\n",
       "      <th>nodeId</th>\n",
       "      <th>propertyValue</th>\n",
       "    </tr>\n",
       "  </thead>\n",
       "  <tbody>\n",
       "    <tr>\n",
       "      <th>0</th>\n",
       "      <td>1898</td>\n",
       "      <td>0</td>\n",
       "    </tr>\n",
       "    <tr>\n",
       "      <th>1</th>\n",
       "      <td>1899</td>\n",
       "      <td>1</td>\n",
       "    </tr>\n",
       "    <tr>\n",
       "      <th>2</th>\n",
       "      <td>1900</td>\n",
       "      <td>2</td>\n",
       "    </tr>\n",
       "    <tr>\n",
       "      <th>3</th>\n",
       "      <td>1901</td>\n",
       "      <td>2</td>\n",
       "    </tr>\n",
       "    <tr>\n",
       "      <th>4</th>\n",
       "      <td>1902</td>\n",
       "      <td>3</td>\n",
       "    </tr>\n",
       "    <tr>\n",
       "      <th>5</th>\n",
       "      <td>1903</td>\n",
       "      <td>3</td>\n",
       "    </tr>\n",
       "    <tr>\n",
       "      <th>6</th>\n",
       "      <td>1904</td>\n",
       "      <td>4</td>\n",
       "    </tr>\n",
       "    <tr>\n",
       "      <th>7</th>\n",
       "      <td>1905</td>\n",
       "      <td>0</td>\n",
       "    </tr>\n",
       "    <tr>\n",
       "      <th>8</th>\n",
       "      <td>1906</td>\n",
       "      <td>0</td>\n",
       "    </tr>\n",
       "    <tr>\n",
       "      <th>9</th>\n",
       "      <td>1907</td>\n",
       "      <td>4</td>\n",
       "    </tr>\n",
       "  </tbody>\n",
       "</table>\n",
       "</div>"
      ],
      "text/plain": [
       "   nodeId  propertyValue\n",
       "0    1898              0\n",
       "1    1899              1\n",
       "2    1900              2\n",
       "3    1901              2\n",
       "4    1902              3\n",
       "5    1903              3\n",
       "6    1904              4\n",
       "7    1905              0\n",
       "8    1906              0\n",
       "9    1907              4"
      ]
     },
     "execution_count": 580,
     "metadata": {},
     "output_type": "execute_result"
    }
   ],
   "source": [
    "model_hashgnn.predict_mutate(\n",
    "    G,\n",
    "    mutateProperty=\"predictedClass_hashgnn\",\n",
    "    modelName=\"cora-pipeline-model-hashgnn\",\n",
    "    predictedProbabilityProperty=\"predictedProbabilities_hashgnn\",\n",
    "    targetNodeLabels=[\"UnclassifiedPaper\"],\n",
    ")\n",
    "predicted_hashgnn = gds.graph.streamNodeProperty(G, \"predictedClass_hashgnn\", [\"UnclassifiedPaper\"])\n",
    "predicted_hashgnn"
   ]
  },
  {
   "attachments": {},
   "cell_type": "markdown",
   "metadata": {},
   "source": [
    "# 3. Verify the prediction (hashgnn)"
   ]
  },
  {
   "cell_type": "code",
   "execution_count": 581,
   "metadata": {},
   "outputs": [
    {
     "data": {
      "text/html": [
       "<div>\n",
       "<style scoped>\n",
       "    .dataframe tbody tr th:only-of-type {\n",
       "        vertical-align: middle;\n",
       "    }\n",
       "\n",
       "    .dataframe tbody tr th {\n",
       "        vertical-align: top;\n",
       "    }\n",
       "\n",
       "    .dataframe thead th {\n",
       "        text-align: right;\n",
       "    }\n",
       "</style>\n",
       "<table border=\"1\" class=\"dataframe\">\n",
       "  <thead>\n",
       "    <tr style=\"text-align: right;\">\n",
       "      <th></th>\n",
       "      <th>nodeId</th>\n",
       "      <th>propertyValue</th>\n",
       "      <th>subject</th>\n",
       "    </tr>\n",
       "  </thead>\n",
       "  <tbody>\n",
       "    <tr>\n",
       "      <th>0</th>\n",
       "      <td>1898</td>\n",
       "      <td>0</td>\n",
       "      <td>0</td>\n",
       "    </tr>\n",
       "    <tr>\n",
       "      <th>1</th>\n",
       "      <td>1899</td>\n",
       "      <td>1</td>\n",
       "      <td>1</td>\n",
       "    </tr>\n",
       "    <tr>\n",
       "      <th>2</th>\n",
       "      <td>1900</td>\n",
       "      <td>2</td>\n",
       "      <td>2</td>\n",
       "    </tr>\n",
       "    <tr>\n",
       "      <th>3</th>\n",
       "      <td>1901</td>\n",
       "      <td>2</td>\n",
       "      <td>2</td>\n",
       "    </tr>\n",
       "    <tr>\n",
       "      <th>4</th>\n",
       "      <td>1902</td>\n",
       "      <td>3</td>\n",
       "      <td>3</td>\n",
       "    </tr>\n",
       "    <tr>\n",
       "      <th>5</th>\n",
       "      <td>1903</td>\n",
       "      <td>3</td>\n",
       "      <td>3</td>\n",
       "    </tr>\n",
       "    <tr>\n",
       "      <th>6</th>\n",
       "      <td>1904</td>\n",
       "      <td>4</td>\n",
       "      <td>4</td>\n",
       "    </tr>\n",
       "    <tr>\n",
       "      <th>7</th>\n",
       "      <td>1905</td>\n",
       "      <td>0</td>\n",
       "      <td>0</td>\n",
       "    </tr>\n",
       "    <tr>\n",
       "      <th>8</th>\n",
       "      <td>1906</td>\n",
       "      <td>0</td>\n",
       "      <td>0</td>\n",
       "    </tr>\n",
       "    <tr>\n",
       "      <th>9</th>\n",
       "      <td>1907</td>\n",
       "      <td>4</td>\n",
       "      <td>4</td>\n",
       "    </tr>\n",
       "  </tbody>\n",
       "</table>\n",
       "</div>"
      ],
      "text/plain": [
       "   nodeId  propertyValue  subject\n",
       "0    1898              0        0\n",
       "1    1899              1        1\n",
       "2    1900              2        2\n",
       "3    1901              2        2\n",
       "4    1902              3        3\n",
       "5    1903              3        3\n",
       "6    1904              4        4\n",
       "7    1905              0        0\n",
       "8    1906              0        0\n",
       "9    1907              4        4"
      ]
     },
     "execution_count": 581,
     "metadata": {},
     "output_type": "execute_result"
    }
   ],
   "source": [
    "nodes = gds.util.asNodes(predicted_hashgnn.nodeId.to_list())\n",
    "nodes_df = pd.DataFrame([(node.id, node[\"subject\"]) for node in nodes], columns=[\"nodeId\", \"subject\"])\n",
    "predicted_hashgnn.merge(nodes_df, on=\"nodeId\")"
   ]
  },
  {
   "attachments": {},
   "cell_type": "markdown",
   "metadata": {},
   "source": [
    "# Write back to neo4j"
   ]
  },
  {
   "cell_type": "code",
   "execution_count": 582,
   "metadata": {},
   "outputs": [
    {
     "data": {
      "text/plain": [
       "writeMillis                                                       36\n",
       "graphName                                                 cora-graph\n",
       "nodeProperties       [predictedClass_fastrp, predictedClass_hashgnn]\n",
       "propertiesWritten                                                 20\n",
       "Name: 0, dtype: object"
      ]
     },
     "execution_count": 582,
     "metadata": {},
     "output_type": "execute_result"
    }
   ],
   "source": [
    "gds.graph.nodeProperties.write(\n",
    "    G,\n",
    "    node_properties=[\"predictedClass_fastrp\", \"predictedClass_hashgnn\"],\n",
    "    node_labels=[\"UnclassifiedPaper\"],\n",
    ")"
   ]
  },
  {
   "attachments": {},
   "cell_type": "markdown",
   "metadata": {},
   "source": [
    "# (postprocessing) free up memory"
   ]
  },
  {
   "cell_type": "code",
   "execution_count": 583,
   "metadata": {},
   "outputs": [],
   "source": [
    "node_pipeline.drop()\n",
    "node_pipeline_fastrp.drop()\n",
    "node_pipeline_hashgnn.drop()\n",
    "model.drop()\n",
    "model_fastrp.drop()\n",
    "model_hashgnn.drop()\n",
    "G.drop()\n",
    "query = \"\"\"\n",
    "MATCH (n) DETACH DELETE n\n",
    "\"\"\"\n",
    "gds.run_cypher(query)\n",
    "gds.close()"
   ]
  }
 ],
 "metadata": {
  "kernelspec": {
   "display_name": "base",
   "language": "python",
   "name": "python3"
  },
  "language_info": {
   "codemirror_mode": {
    "name": "ipython",
    "version": 3
   },
   "file_extension": ".py",
   "mimetype": "text/x-python",
   "name": "python",
   "nbconvert_exporter": "python",
   "pygments_lexer": "ipython3",
   "version": "3.8.13"
  }
 },
 "nbformat": 4,
 "nbformat_minor": 1
}
