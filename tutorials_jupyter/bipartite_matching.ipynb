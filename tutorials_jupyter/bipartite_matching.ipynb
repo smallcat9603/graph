{
  "cells": [
    {
      "cell_type": "code",
      "execution_count": 1,
      "metadata": {
        "collapsed": false
      },
      "outputs": [],
      "source": [
        "%matplotlib inline"
      ]
    },
    {
      "cell_type": "markdown",
      "metadata": {},
      "source": [
        "\n",
        "\n",
        "# Maximum Bipartite Matching\n",
        "\n",
        "This example demonstrates an efficient way to find and visualise a maximum biparite matching using :meth:`igraph.Graph.maximum_bipartite_matching`.\n"
      ]
    },
    {
      "cell_type": "code",
      "execution_count": 2,
      "metadata": {
        "collapsed": false
      },
      "outputs": [],
      "source": [
        "import igraph as ig\n",
        "import matplotlib.pyplot as plt"
      ]
    },
    {
      "cell_type": "markdown",
      "metadata": {},
      "source": [
        "First, we construct a bipartite graph, assigning:\n",
        " - nodes 0-4 to one side\n",
        " - nodes 5-8 to the other side\n",
        "\n"
      ]
    },
    {
      "cell_type": "code",
      "execution_count": 3,
      "metadata": {
        "collapsed": false
      },
      "outputs": [],
      "source": [
        "g = ig.Graph.Bipartite(\n",
        "    [0, 0, 0, 0, 0, 1, 1, 1, 1],\n",
        "    [(0, 5), (1, 6), (1, 7), (2, 5), (2, 8), (3, 6), (4, 5), (4, 6)]\n",
        ")"
      ]
    },
    {
      "cell_type": "markdown",
      "metadata": {},
      "source": [
        "We can easily check that the graph is indeed bipartite:\n",
        "\n"
      ]
    },
    {
      "cell_type": "code",
      "execution_count": 4,
      "metadata": {
        "collapsed": false
      },
      "outputs": [],
      "source": [
        "assert g.is_bipartite()"
      ]
    },
    {
      "cell_type": "markdown",
      "metadata": {},
      "source": [
        "Now can can compute the maximum bipartite matching:\n",
        "\n"
      ]
    },
    {
      "cell_type": "code",
      "execution_count": 5,
      "metadata": {
        "collapsed": false
      },
      "outputs": [],
      "source": [
        "matching = g.maximum_bipartite_matching()"
      ]
    },
    {
      "cell_type": "markdown",
      "metadata": {},
      "source": [
        "It's easy to print matching pairs of vertices\n",
        "\n"
      ]
    },
    {
      "cell_type": "code",
      "execution_count": 6,
      "metadata": {
        "collapsed": false
      },
      "outputs": [
        {
          "name": "stdout",
          "output_type": "stream",
          "text": [
            "Matching is:\n",
            "0 - 5\n",
            "1 - 7\n",
            "2 - 8\n",
            "3 - 6\n",
            "4 - None\n",
            "Size of maximum matching is: 4\n"
          ]
        }
      ],
      "source": [
        "matching_size = 0\n",
        "print(\"Matching is:\")\n",
        "for i in range(5):\n",
        "    print(f\"{i} - {matching.match_of(i)}\")\n",
        "    if matching.is_matched(i):\n",
        "        matching_size += 1\n",
        "print(\"Size of maximum matching is:\", matching_size)"
      ]
    },
    {
      "cell_type": "markdown",
      "metadata": {},
      "source": [
        "Finally, we can plot the bipartite graph, highlighting the edges connecting\n",
        "maximal matches by a red color:\n",
        "\n"
      ]
    },
    {
      "cell_type": "code",
      "execution_count": 7,
      "metadata": {
        "collapsed": false
      },
      "outputs": [
        {
          "data": {
            "text/plain": [
              "<AxesSubplot:>"
            ]
          },
          "execution_count": 7,
          "metadata": {},
          "output_type": "execute_result"
        },
        {
          "data": {
            "image/png": "[encoded data removed]",
            "text/plain": [
              "<Figure size 700x300 with 1 Axes>"
            ]
          },
          "metadata": {},
          "output_type": "display_data"
        }
      ],
      "source": [
        "fig, ax = plt.subplots(figsize=(7, 3))\n",
        "ig.plot(\n",
        "    g,\n",
        "    target=ax,\n",
        "    layout=g.layout_bipartite(),\n",
        "    vertex_size=0.4,\n",
        "    vertex_label=range(g.vcount()),\n",
        "    vertex_color=\"lightblue\",\n",
        "    edge_width=[3 if e.target == matching.match_of(e.source) else 1.0 for e in g.es],\n",
        "    edge_color=[\"red\" if e.target == matching.match_of(e.source) else \"black\" for e in g.es]\n",
        ")"
      ]
    }
  ],
  "metadata": {
    "kernelspec": {
      "display_name": "base",
      "language": "python",
      "name": "python3"
    },
    "language_info": {
      "codemirror_mode": {
        "name": "ipython",
        "version": 3
      },
      "file_extension": ".py",
      "mimetype": "text/x-python",
      "name": "python",
      "nbconvert_exporter": "python",
      "pygments_lexer": "ipython3",
      "version": "3.8.5"
    },
    "vscode": {
      "interpreter": {
        "hash": "31e6c5c79e5805a0c115eefd20e01db841235392825680cc7179dc8df6146eb6"
      }
    }
  },
  "nbformat": 4,
  "nbformat_minor": 0
}
