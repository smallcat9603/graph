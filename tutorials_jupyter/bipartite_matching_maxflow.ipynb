{
  "cells": [
    {
      "cell_type": "code",
      "execution_count": 1,
      "metadata": {
        "collapsed": false
      },
      "outputs": [],
      "source": [
        "%matplotlib inline"
      ]
    },
    {
      "cell_type": "markdown",
      "metadata": {},
      "source": [
        "\n",
        "\n",
        "# Maximum Bipartite Matching by Maximum Flow\n",
        "\n",
        "This example presents how to visualise bipartite matching using maximum flow (see :meth:`igraph.Graph.maxflow`).\n",
        "\n",
        "<div class=\"alert alert-info\"><h4>Note</h4><p>:meth:`igraph.Graph.maximum_bipartite_matching` is usually a better way to find the maximum bipartite matching. For a demonstration on how to use that method instead, check out `tutorials-bipartite-matching`.</p></div>\n"
      ]
    },
    {
      "cell_type": "code",
      "execution_count": 2,
      "metadata": {
        "collapsed": false
      },
      "outputs": [],
      "source": [
        "import igraph as ig\n",
        "import matplotlib.pyplot as plt"
      ]
    },
    {
      "cell_type": "markdown",
      "metadata": {},
      "source": [
        "We start by creating the bipartite directed graph.\n",
        "\n"
      ]
    },
    {
      "cell_type": "code",
      "execution_count": 3,
      "metadata": {
        "collapsed": false
      },
      "outputs": [],
      "source": [
        "g = ig.Graph(\n",
        "    9,\n",
        "    [(0, 4), (0, 5), (1, 4), (1, 6), (1, 7), (2, 5), (2, 7), (2, 8), (3, 6), (3, 7)],\n",
        "    directed=True\n",
        ")"
      ]
    },
    {
      "cell_type": "markdown",
      "metadata": {},
      "source": [
        "We assign:\n",
        " - nodes 0-3 to one side\n",
        " - nodes 4-8 to the other side\n",
        "\n"
      ]
    },
    {
      "cell_type": "code",
      "execution_count": 4,
      "metadata": {
        "collapsed": false
      },
      "outputs": [],
      "source": [
        "g.vs[range(4)][\"type\"] = True\n",
        "g.vs[range(4, 9)][\"type\"] = False"
      ]
    },
    {
      "cell_type": "markdown",
      "metadata": {},
      "source": [
        "Then we add a source (vertex 9) and a sink (vertex 10)\n",
        "\n"
      ]
    },
    {
      "cell_type": "code",
      "execution_count": 5,
      "metadata": {
        "collapsed": false
      },
      "outputs": [
        {
          "name": "stdout",
          "output_type": "stream",
          "text": [
            "Size of maximum matching (maxflow) is: 4.0\n"
          ]
        }
      ],
      "source": [
        "g.add_vertices(2)\n",
        "g.add_edges([(9, 0), (9, 1), (9, 2), (9, 3)])  # connect source to one side\n",
        "g.add_edges([(4, 10), (5, 10), (6, 10), (7, 10), (8, 10)])  # ... and sinks to the other\n",
        "\n",
        "flow = g.maxflow(9, 10)\n",
        "print(\"Size of maximum matching (maxflow) is:\", flow.value)"
      ]
    },
    {
      "cell_type": "markdown",
      "metadata": {},
      "source": [
        "Let's compare the output against :meth:`igraph.Graph.maximum_bipartite_matching`:\n",
        "\n"
      ]
    },
    {
      "cell_type": "code",
      "execution_count": 6,
      "metadata": {
        "collapsed": false
      },
      "outputs": [
        {
          "name": "stdout",
          "output_type": "stream",
          "text": [
            "Size of maximum matching (maximum_bipartite_matching) is: 4\n"
          ]
        }
      ],
      "source": [
        "# delete the source and sink, which are unneeded for this function.\n",
        "g2 = g.copy()\n",
        "g2.delete_vertices([9, 10])\n",
        "matching = g2.maximum_bipartite_matching()\n",
        "matching_size = sum(1 for i in range(4) if matching.is_matched(i))\n",
        "print(\"Size of maximum matching (maximum_bipartite_matching) is:\", matching_size)"
      ]
    },
    {
      "cell_type": "markdown",
      "metadata": {},
      "source": [
        "Last, we can display the original flow graph nicely with the matchings added.\n",
        "To achieve a pleasant visual effect, we set the positions of source and sink\n",
        "manually:\n",
        "\n"
      ]
    },
    {
      "cell_type": "code",
      "execution_count": 7,
      "metadata": {
        "collapsed": false
      },
      "outputs": [
        {
          "data": {
            "image/png": "[encoded data removed]",
            "text/plain": [
              "<Figure size 640x480 with 1 Axes>"
            ]
          },
          "metadata": {},
          "output_type": "display_data"
        }
      ],
      "source": [
        "layout = g.layout_bipartite()\n",
        "layout[9] = (2, -1)\n",
        "layout[10] = (2, 2)\n",
        "\n",
        "fig, ax = plt.subplots()\n",
        "ig.plot(\n",
        "    g,\n",
        "    target=ax,\n",
        "    layout=layout,\n",
        "    vertex_size=0.4,\n",
        "    vertex_label=range(g.vcount()),\n",
        "    vertex_color=[\"lightblue\" if i < 9 else \"orange\" for i in range(11)],\n",
        "    edge_width=[1.0 + flow.flow[i] for i in range(g.ecount())]\n",
        ")\n",
        "plt.show()"
      ]
    }
  ],
  "metadata": {
    "kernelspec": {
      "display_name": "base",
      "language": "python",
      "name": "python3"
    },
    "language_info": {
      "codemirror_mode": {
        "name": "ipython",
        "version": 3
      },
      "file_extension": ".py",
      "mimetype": "text/x-python",
      "name": "python",
      "nbconvert_exporter": "python",
      "pygments_lexer": "ipython3",
      "version": "3.8.5"
    },
    "vscode": {
      "interpreter": {
        "hash": "31e6c5c79e5805a0c115eefd20e01db841235392825680cc7179dc8df6146eb6"
      }
    }
  },
  "nbformat": 4,
  "nbformat_minor": 0
}
