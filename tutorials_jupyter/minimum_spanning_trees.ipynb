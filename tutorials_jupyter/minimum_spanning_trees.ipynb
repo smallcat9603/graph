{
  "cells": [
    {
      "cell_type": "code",
      "execution_count": 1,
      "metadata": {
        "collapsed": false
      },
      "outputs": [],
      "source": [
        "%matplotlib inline"
      ]
    },
    {
      "cell_type": "markdown",
      "metadata": {},
      "source": [
        "\n",
        "\n",
        "# Minimum Spanning Trees\n",
        "\n",
        "This example shows how to generate a [minimum spanning tree](https://en.wikipedia.org/wiki/Minimum_spanning_tree) from an input graph using :meth:`igraph.Graph.spanning_tree`. If you only need a regular spanning tree, check out `tutorials-spanning-trees`.\n"
      ]
    },
    {
      "cell_type": "code",
      "execution_count": 2,
      "metadata": {
        "collapsed": false
      },
      "outputs": [],
      "source": [
        "import random\n",
        "import igraph as ig\n",
        "import matplotlib.pyplot as plt"
      ]
    },
    {
      "cell_type": "markdown",
      "metadata": {},
      "source": [
        "We start by generating a grid graph with random integer weights between 1 and\n",
        "20:\n",
        "\n"
      ]
    },
    {
      "cell_type": "code",
      "execution_count": 3,
      "metadata": {
        "collapsed": false
      },
      "outputs": [],
      "source": [
        "random.seed(0)\n",
        "g = ig.Graph.Lattice([5, 5], circular=False)\n",
        "g.es[\"weight\"] = [random.randint(1, 20) for _ in g.es]"
      ]
    },
    {
      "cell_type": "markdown",
      "metadata": {},
      "source": [
        "We can then compute a minimum spanning tree using\n",
        ":meth:`igraph.Graph.spanning_tree`, making sure to pass in the randomly\n",
        "generated weights.\n",
        "\n"
      ]
    },
    {
      "cell_type": "code",
      "execution_count": 4,
      "metadata": {
        "collapsed": false
      },
      "outputs": [],
      "source": [
        "mst_edges = g.spanning_tree(weights=g.es[\"weight\"], return_tree=False)"
      ]
    },
    {
      "cell_type": "markdown",
      "metadata": {},
      "source": [
        "We can print out the minimum edge weight sum\n",
        "\n"
      ]
    },
    {
      "cell_type": "code",
      "execution_count": 5,
      "metadata": {
        "collapsed": false
      },
      "outputs": [
        {
          "name": "stdout",
          "output_type": "stream",
          "text": [
            "Minimum edge weight sum: 201\n"
          ]
        }
      ],
      "source": [
        "print(\"Minimum edge weight sum:\", sum(g.es[mst_edges][\"weight\"]))\n",
        "\n",
        "# Minimum edge weight sum: 136"
      ]
    },
    {
      "cell_type": "markdown",
      "metadata": {},
      "source": [
        "Finally, we can plot the graph, highlighting the edges that are part of the\n",
        "minimum spanning tree.\n",
        "\n"
      ]
    },
    {
      "cell_type": "code",
      "execution_count": 6,
      "metadata": {
        "collapsed": false
      },
      "outputs": [
        {
          "data": {
            "image/png": "[encoded data removed]",
            "text/plain": [
              "<Figure size 640x480 with 1 Axes>"
            ]
          },
          "metadata": {},
          "output_type": "display_data"
        }
      ],
      "source": [
        "g.es[\"color\"] = \"lightgray\"\n",
        "g.es[mst_edges][\"color\"] = \"midnightblue\"\n",
        "g.es[\"width\"] = 1.0\n",
        "g.es[mst_edges][\"width\"] = 3.0\n",
        "\n",
        "fig, ax = plt.subplots()\n",
        "ig.plot(\n",
        "    g,\n",
        "    target=ax,\n",
        "    layout=\"grid\",\n",
        "    vertex_color=\"lightblue\",\n",
        "    edge_width=g.es[\"width\"],\n",
        "    edge_label=g.es[\"weight\"],\n",
        "    edge_background=\"white\",\n",
        ")\n",
        "plt.show()"
      ]
    }
  ],
  "metadata": {
    "kernelspec": {
      "display_name": "base",
      "language": "python",
      "name": "python3"
    },
    "language_info": {
      "codemirror_mode": {
        "name": "ipython",
        "version": 3
      },
      "file_extension": ".py",
      "mimetype": "text/x-python",
      "name": "python",
      "nbconvert_exporter": "python",
      "pygments_lexer": "ipython3",
      "version": "3.8.5"
    },
    "vscode": {
      "interpreter": {
        "hash": "31e6c5c79e5805a0c115eefd20e01db841235392825680cc7179dc8df6146eb6"
      }
    }
  },
  "nbformat": 4,
  "nbformat_minor": 0
}
