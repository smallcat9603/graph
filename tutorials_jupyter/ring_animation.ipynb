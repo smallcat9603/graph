{
  "cells": [
    {
      "cell_type": "code",
      "execution_count": 7,
      "metadata": {
        "collapsed": false
      },
      "outputs": [],
      "source": [
        "%matplotlib inline"
      ]
    },
    {
      "cell_type": "markdown",
      "metadata": {},
      "source": [
        "\n",
        "\n",
        "# Ring Graph Animation\n",
        "\n",
        "This example demonstrates how to use :doc:`matplotlib:api/animation_api` in\n",
        "order to animate a ring graph sequentially being revealed.\n"
      ]
    },
    {
      "cell_type": "code",
      "execution_count": 8,
      "metadata": {
        "collapsed": false
      },
      "outputs": [],
      "source": [
        "import igraph as ig\n",
        "import matplotlib.pyplot as plt\n",
        "import matplotlib.animation as animation"
      ]
    },
    {
      "cell_type": "markdown",
      "metadata": {},
      "source": [
        "Create a ring graph, which we will then animate\n",
        "\n"
      ]
    },
    {
      "cell_type": "code",
      "execution_count": 9,
      "metadata": {
        "collapsed": false
      },
      "outputs": [],
      "source": [
        "g = ig.Graph.Ring(10, directed=True)"
      ]
    },
    {
      "cell_type": "markdown",
      "metadata": {},
      "source": [
        "Compute a 2D ring layout that looks like an actual ring\n",
        "\n"
      ]
    },
    {
      "cell_type": "code",
      "execution_count": 10,
      "metadata": {
        "collapsed": false
      },
      "outputs": [],
      "source": [
        "layout = g.layout_circle()"
      ]
    },
    {
      "cell_type": "markdown",
      "metadata": {},
      "source": [
        "Prepare an update function. This \"callback\" function will be run at every\n",
        "frame and takes as a single argument the frame number. For simplicity, at\n",
        "each frame we compute a subgraph with only a fraction of the vertices and\n",
        "edges. As time passes, the graph becomes more and more complete until the\n",
        "whole ring is closed.\n",
        "\n",
        "<div class=\"alert alert-info\"><h4>Note</h4><p>The beginning and end of the animation are a little tricky because only\n",
        "   a vertex or edge is added, not both. Don't worry if you cannot understand\n",
        "   all details immediately.</p></div>\n",
        "\n"
      ]
    },
    {
      "cell_type": "code",
      "execution_count": 11,
      "metadata": {
        "collapsed": false
      },
      "outputs": [],
      "source": [
        "def _update_graph(frame):\n",
        "    # Remove plot elements from the previous frame\n",
        "    ax.clear()\n",
        "\n",
        "    # Fix limits (unless you want a zoom-out effect)\n",
        "    ax.set_xlim(-1.5, 1.5)\n",
        "    ax.set_ylim(-1.5, 1.5)\n",
        "\n",
        "    if frame < 10:\n",
        "        # Plot subgraph\n",
        "        gd = g.subgraph(range(frame))\n",
        "    elif frame == 10:\n",
        "        # In the second-to-last frame, plot all vertices but skip the last\n",
        "        # edge, which will only be shown in the last frame\n",
        "        gd = g.copy()\n",
        "        gd.delete_edges(9)\n",
        "    else:\n",
        "        # Last frame\n",
        "        gd = g\n",
        "\n",
        "    ig.plot(gd, target=ax, layout=layout[:frame], vertex_color=\"yellow\")\n",
        "\n",
        "    # Capture handles for blitting\n",
        "    if frame == 0:\n",
        "        nhandles = 0\n",
        "    elif frame == 1:\n",
        "        nhandles = 1\n",
        "    elif frame < 11:\n",
        "        # vertex, 2 for each edge\n",
        "        nhandles = 3 * frame\n",
        "    else:\n",
        "        # The final edge closing the circle\n",
        "        nhandles = 3 * (frame - 1) + 2\n",
        "\n",
        "    handles = ax.get_children()[:nhandles]\n",
        "    return handles"
      ]
    },
    {
      "cell_type": "markdown",
      "metadata": {},
      "source": [
        "Run the animation\n",
        "\n"
      ]
    },
    {
      "cell_type": "code",
      "execution_count": 12,
      "metadata": {
        "collapsed": false
      },
      "outputs": [
        {
          "data": {
            "image/png": "[encoded data removed]",
            "text/plain": [
              "<Figure size 640x480 with 1 Axes>"
            ]
          },
          "metadata": {},
          "output_type": "display_data"
        }
      ],
      "source": [
        "fig, ax = plt.subplots()\n",
        "ani = animation.FuncAnimation(fig, _update_graph, 12, interval=500, blit=True)\n",
        "plt.ion()\n",
        "plt.show()"
      ]
    },
    {
      "cell_type": "markdown",
      "metadata": {},
      "source": [
        "<div class=\"alert alert-info\"><h4>Note</h4><p>We use *igraph*'s :meth:`Graph.subgraph()` (see\n",
        "   :meth:`igraph.GraphBase.induced_subgraph`) in order to obtain a section of\n",
        "   the ring graph at a time for each frame. While sufficient for an easy\n",
        "   example, this approach is not very efficient. Thinking of more efficient\n",
        "   approaches, e.g. vertices with zero radius, is a useful exercise to learn\n",
        "   the combination of igraph and matplotlib.</p></div>\n",
        "\n"
      ]
    }
  ],
  "metadata": {
    "kernelspec": {
      "display_name": "base",
      "language": "python",
      "name": "python3"
    },
    "language_info": {
      "codemirror_mode": {
        "name": "ipython",
        "version": 3
      },
      "file_extension": ".py",
      "mimetype": "text/x-python",
      "name": "python",
      "nbconvert_exporter": "python",
      "pygments_lexer": "ipython3",
      "version": "3.8.5"
    },
    "vscode": {
      "interpreter": {
        "hash": "31e6c5c79e5805a0c115eefd20e01db841235392825680cc7179dc8df6146eb6"
      }
    }
  },
  "nbformat": 4,
  "nbformat_minor": 0
}
