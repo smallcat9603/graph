{
  "cells": [
    {
      "cell_type": "code",
      "execution_count": 1,
      "metadata": {
        "collapsed": false
      },
      "outputs": [],
      "source": [
        "%matplotlib inline"
      ]
    },
    {
      "cell_type": "markdown",
      "metadata": {},
      "source": [
        "\n",
        "\n",
        "# Spanning Trees\n",
        "\n",
        "This example shows how to generate a spanning tree from an input graph using :meth:`igraph.Graph.spanning_tree`. For the related idea of finding a *minimum spanning tree*, see `tutorials-minimum-spanning-trees`.\n"
      ]
    },
    {
      "cell_type": "code",
      "execution_count": 2,
      "metadata": {
        "collapsed": false
      },
      "outputs": [],
      "source": [
        "import igraph as ig\n",
        "import matplotlib.pyplot as plt\n",
        "import random"
      ]
    },
    {
      "cell_type": "markdown",
      "metadata": {},
      "source": [
        "First we create a two-dimensional, 6 by 6 lattice graph:\n",
        "\n"
      ]
    },
    {
      "cell_type": "code",
      "execution_count": 3,
      "metadata": {
        "collapsed": false
      },
      "outputs": [],
      "source": [
        "g = ig.Graph.Lattice([6, 6], circular=False)"
      ]
    },
    {
      "cell_type": "markdown",
      "metadata": {},
      "source": [
        "We can compute the 2D layout of the graph:\n",
        "\n"
      ]
    },
    {
      "cell_type": "code",
      "execution_count": 4,
      "metadata": {
        "collapsed": false
      },
      "outputs": [],
      "source": [
        "layout = g.layout(\"grid\")"
      ]
    },
    {
      "cell_type": "markdown",
      "metadata": {},
      "source": [
        "To spice things up a little, we rearrange the vertex ids and compute a new\n",
        "layout. While not terribly useful in this context, it does make for a more\n",
        "interesting-looking spanning tree ;-)\n",
        "\n"
      ]
    },
    {
      "cell_type": "code",
      "execution_count": 5,
      "metadata": {
        "collapsed": false
      },
      "outputs": [],
      "source": [
        "random.seed(0)\n",
        "permutation = list(range(g.vcount()))\n",
        "random.shuffle(permutation)\n",
        "g = g.permute_vertices(permutation)\n",
        "new_layout = g.layout(\"grid\")\n",
        "for i in range(36):\n",
        "    new_layout[permutation[i]] = layout[i]\n",
        "layout = new_layout"
      ]
    },
    {
      "cell_type": "markdown",
      "metadata": {},
      "source": [
        "We can now generate a spanning tree:\n",
        "\n"
      ]
    },
    {
      "cell_type": "code",
      "execution_count": 6,
      "metadata": {
        "collapsed": false
      },
      "outputs": [],
      "source": [
        "spanning_tree = g.spanning_tree(weights=None, return_tree=False)"
      ]
    },
    {
      "cell_type": "markdown",
      "metadata": {},
      "source": [
        "Finally, we can plot the graph with a highlight color for the spanning tree.\n",
        "We follow the usual recipe: first we set a few aesthetic options and then we\n",
        "leverage :func:`igraph.plot() <igraph.drawing.plot>` and matplotlib for the\n",
        "heavy lifting:\n",
        "\n"
      ]
    },
    {
      "cell_type": "code",
      "execution_count": 7,
      "metadata": {
        "collapsed": false
      },
      "outputs": [
        {
          "data": {
            "image/png": "[encoded data removed]",
            "text/plain": [
              "<Figure size 640x480 with 1 Axes>"
            ]
          },
          "metadata": {},
          "output_type": "display_data"
        }
      ],
      "source": [
        "g.es[\"color\"] = \"lightgray\"\n",
        "g.es[spanning_tree][\"color\"] = \"midnightblue\"\n",
        "g.es[\"width\"] = 0.5\n",
        "g.es[spanning_tree][\"width\"] = 3.0\n",
        "\n",
        "fig, ax = plt.subplots()\n",
        "ig.plot(\n",
        "    g,\n",
        "    target=ax,\n",
        "    layout=layout,\n",
        "    vertex_color=\"lightblue\",\n",
        "    edge_width=g.es[\"width\"]\n",
        ")\n",
        "plt.show()"
      ]
    }
  ],
  "metadata": {
    "kernelspec": {
      "display_name": "base",
      "language": "python",
      "name": "python3"
    },
    "language_info": {
      "codemirror_mode": {
        "name": "ipython",
        "version": 3
      },
      "file_extension": ".py",
      "mimetype": "text/x-python",
      "name": "python",
      "nbconvert_exporter": "python",
      "pygments_lexer": "ipython3",
      "version": "3.8.5"
    },
    "vscode": {
      "interpreter": {
        "hash": "31e6c5c79e5805a0c115eefd20e01db841235392825680cc7179dc8df6146eb6"
      }
    }
  },
  "nbformat": 4,
  "nbformat_minor": 0
}
